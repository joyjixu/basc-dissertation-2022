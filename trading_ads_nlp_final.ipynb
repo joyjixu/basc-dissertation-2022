{
 "cells": [
  {
   "cell_type": "markdown",
   "metadata": {},
   "source": [
    "# Dissertation - Data Science Project\n",
    "This is the full code used for the BASC0024 Final Year Dissertation module. The topic of the dissertation is the gamification of online brokerage applications.\n",
    "\n",
    "## 1. Importing data and libraries"
   ]
  },
  {
   "cell_type": "code",
   "execution_count": 1,
   "metadata": {},
   "outputs": [
    {
     "name": "stderr",
     "output_type": "stream",
     "text": [
      "C:\\Users\\joyji\\Anaconda3\\envs\\myenv\\lib\\site-packages\\sklearn\\feature_extraction\\image.py:167: DeprecationWarning: `np.int` is a deprecated alias for the builtin `int`. To silence this warning, use `int` by itself. Doing this will not modify any behavior and is safe. When replacing `np.int`, you may wish to use e.g. `np.int64` or `np.int32` to specify the precision. If you wish to review your current use, check the release note link for additional information.\n",
      "Deprecated in NumPy 1.20; for more details and guidance: https://numpy.org/devdocs/release/1.20.0-notes.html#deprecations\n",
      "  dtype=np.int):\n",
      "C:\\Users\\joyji\\Anaconda3\\envs\\myenv\\lib\\site-packages\\sklearn\\linear_model\\least_angle.py:30: DeprecationWarning: `np.float` is a deprecated alias for the builtin `float`. To silence this warning, use `float` by itself. Doing this will not modify any behavior and is safe. If you specifically wanted the numpy scalar type, use `np.float64` here.\n",
      "Deprecated in NumPy 1.20; for more details and guidance: https://numpy.org/devdocs/release/1.20.0-notes.html#deprecations\n",
      "  method='lar', copy_X=True, eps=np.finfo(np.float).eps,\n",
      "C:\\Users\\joyji\\Anaconda3\\envs\\myenv\\lib\\site-packages\\sklearn\\linear_model\\least_angle.py:167: DeprecationWarning: `np.float` is a deprecated alias for the builtin `float`. To silence this warning, use `float` by itself. Doing this will not modify any behavior and is safe. If you specifically wanted the numpy scalar type, use `np.float64` here.\n",
      "Deprecated in NumPy 1.20; for more details and guidance: https://numpy.org/devdocs/release/1.20.0-notes.html#deprecations\n",
      "  method='lar', copy_X=True, eps=np.finfo(np.float).eps,\n",
      "C:\\Users\\joyji\\Anaconda3\\envs\\myenv\\lib\\site-packages\\sklearn\\linear_model\\least_angle.py:284: DeprecationWarning: `np.float` is a deprecated alias for the builtin `float`. To silence this warning, use `float` by itself. Doing this will not modify any behavior and is safe. If you specifically wanted the numpy scalar type, use `np.float64` here.\n",
      "Deprecated in NumPy 1.20; for more details and guidance: https://numpy.org/devdocs/release/1.20.0-notes.html#deprecations\n",
      "  eps=np.finfo(np.float).eps, copy_Gram=True, verbose=0,\n",
      "C:\\Users\\joyji\\Anaconda3\\envs\\myenv\\lib\\site-packages\\sklearn\\linear_model\\least_angle.py:862: DeprecationWarning: `np.float` is a deprecated alias for the builtin `float`. To silence this warning, use `float` by itself. Doing this will not modify any behavior and is safe. If you specifically wanted the numpy scalar type, use `np.float64` here.\n",
      "Deprecated in NumPy 1.20; for more details and guidance: https://numpy.org/devdocs/release/1.20.0-notes.html#deprecations\n",
      "  eps=np.finfo(np.float).eps, copy_X=True, fit_path=True,\n",
      "C:\\Users\\joyji\\Anaconda3\\envs\\myenv\\lib\\site-packages\\sklearn\\linear_model\\least_angle.py:1101: DeprecationWarning: `np.float` is a deprecated alias for the builtin `float`. To silence this warning, use `float` by itself. Doing this will not modify any behavior and is safe. If you specifically wanted the numpy scalar type, use `np.float64` here.\n",
      "Deprecated in NumPy 1.20; for more details and guidance: https://numpy.org/devdocs/release/1.20.0-notes.html#deprecations\n",
      "  eps=np.finfo(np.float).eps, copy_X=True, fit_path=True,\n",
      "C:\\Users\\joyji\\Anaconda3\\envs\\myenv\\lib\\site-packages\\sklearn\\linear_model\\least_angle.py:1127: DeprecationWarning: `np.float` is a deprecated alias for the builtin `float`. To silence this warning, use `float` by itself. Doing this will not modify any behavior and is safe. If you specifically wanted the numpy scalar type, use `np.float64` here.\n",
      "Deprecated in NumPy 1.20; for more details and guidance: https://numpy.org/devdocs/release/1.20.0-notes.html#deprecations\n",
      "  eps=np.finfo(np.float).eps, positive=False):\n",
      "C:\\Users\\joyji\\Anaconda3\\envs\\myenv\\lib\\site-packages\\sklearn\\linear_model\\least_angle.py:1362: DeprecationWarning: `np.float` is a deprecated alias for the builtin `float`. To silence this warning, use `float` by itself. Doing this will not modify any behavior and is safe. If you specifically wanted the numpy scalar type, use `np.float64` here.\n",
      "Deprecated in NumPy 1.20; for more details and guidance: https://numpy.org/devdocs/release/1.20.0-notes.html#deprecations\n",
      "  max_n_alphas=1000, n_jobs=None, eps=np.finfo(np.float).eps,\n",
      "C:\\Users\\joyji\\Anaconda3\\envs\\myenv\\lib\\site-packages\\sklearn\\linear_model\\least_angle.py:1602: DeprecationWarning: `np.float` is a deprecated alias for the builtin `float`. To silence this warning, use `float` by itself. Doing this will not modify any behavior and is safe. If you specifically wanted the numpy scalar type, use `np.float64` here.\n",
      "Deprecated in NumPy 1.20; for more details and guidance: https://numpy.org/devdocs/release/1.20.0-notes.html#deprecations\n",
      "  max_n_alphas=1000, n_jobs=None, eps=np.finfo(np.float).eps,\n",
      "C:\\Users\\joyji\\Anaconda3\\envs\\myenv\\lib\\site-packages\\sklearn\\linear_model\\least_angle.py:1738: DeprecationWarning: `np.float` is a deprecated alias for the builtin `float`. To silence this warning, use `float` by itself. Doing this will not modify any behavior and is safe. If you specifically wanted the numpy scalar type, use `np.float64` here.\n",
      "Deprecated in NumPy 1.20; for more details and guidance: https://numpy.org/devdocs/release/1.20.0-notes.html#deprecations\n",
      "  eps=np.finfo(np.float).eps, copy_X=True, positive=False):\n"
     ]
    }
   ],
   "source": [
    "# importing libraries\n",
    "import gensim\n",
    "import nltk\n",
    "import spacy\n",
    "from gensim.utils import simple_preprocess\n",
    "from gensim.parsing.preprocessing import STOPWORDS\n",
    "from nltk.stem import WordNetLemmatizer, SnowballStemmer\n",
    "from nltk.stem.porter import *"
   ]
  },
  {
   "cell_type": "code",
   "execution_count": 2,
   "metadata": {},
   "outputs": [],
   "source": [
    "import pandas as pd\n",
    "import numpy as np\n",
    "import matplotlib.pyplot as plt\n",
    "import plotly.graph_objects as go\n",
    "import plotly.express as px"
   ]
  },
  {
   "cell_type": "code",
   "execution_count": 3,
   "metadata": {},
   "outputs": [],
   "source": [
    "df = pd.read_csv('trading_ads.csv') # import the dataset"
   ]
  },
  {
   "cell_type": "markdown",
   "metadata": {},
   "source": [
    "Below is an exerpt of the unedited original dataset, which had been manually collated from online sources."
   ]
  },
  {
   "cell_type": "code",
   "execution_count": 4,
   "metadata": {},
   "outputs": [
    {
     "data": {
      "text/html": [
       "<div>\n",
       "<style scoped>\n",
       "    .dataframe tbody tr th:only-of-type {\n",
       "        vertical-align: middle;\n",
       "    }\n",
       "\n",
       "    .dataframe tbody tr th {\n",
       "        vertical-align: top;\n",
       "    }\n",
       "\n",
       "    .dataframe thead th {\n",
       "        text-align: right;\n",
       "    }\n",
       "</style>\n",
       "<table border=\"1\" class=\"dataframe\">\n",
       "  <thead>\n",
       "    <tr style=\"text-align: right;\">\n",
       "      <th></th>\n",
       "      <th>company</th>\n",
       "      <th>url</th>\n",
       "      <th>text</th>\n",
       "    </tr>\n",
       "  </thead>\n",
       "  <tbody>\n",
       "    <tr>\n",
       "      <th>0</th>\n",
       "      <td>robinhood</td>\n",
       "      <td>https://robinhood.com/us/en</td>\n",
       "      <td>Investing for Everyone. Commission-free invest...</td>\n",
       "    </tr>\n",
       "    <tr>\n",
       "      <th>1</th>\n",
       "      <td>robinhood</td>\n",
       "      <td>https://robinhood.com/us/en/about-us</td>\n",
       "      <td>At Robinhood Markets, our values are in servic...</td>\n",
       "    </tr>\n",
       "    <tr>\n",
       "      <th>2</th>\n",
       "      <td>etoro</td>\n",
       "      <td>https://go.etoro.com/en/stock-investing-commun...</td>\n",
       "      <td>Invest better, together with the world’s leadi...</td>\n",
       "    </tr>\n",
       "    <tr>\n",
       "      <th>3</th>\n",
       "      <td>etoro</td>\n",
       "      <td>https://go.etoro.com/en/stock-investing-commun...</td>\n",
       "      <td>Invest in the brands YOU love. Whether you’re ...</td>\n",
       "    </tr>\n",
       "    <tr>\n",
       "      <th>4</th>\n",
       "      <td>etoro</td>\n",
       "      <td>https://go.etoro.com/en/stock-investing-commun...</td>\n",
       "      <td>How to buy stocks without paying commission. L...</td>\n",
       "    </tr>\n",
       "  </tbody>\n",
       "</table>\n",
       "</div>"
      ],
      "text/plain": [
       "     company                                                url  \\\n",
       "0  robinhood                        https://robinhood.com/us/en   \n",
       "1  robinhood               https://robinhood.com/us/en/about-us   \n",
       "2      etoro  https://go.etoro.com/en/stock-investing-commun...   \n",
       "3      etoro  https://go.etoro.com/en/stock-investing-commun...   \n",
       "4      etoro  https://go.etoro.com/en/stock-investing-commun...   \n",
       "\n",
       "                                                text  \n",
       "0  Investing for Everyone. Commission-free invest...  \n",
       "1  At Robinhood Markets, our values are in servic...  \n",
       "2  Invest better, together with the world’s leadi...  \n",
       "3  Invest in the brands YOU love. Whether you’re ...  \n",
       "4  How to buy stocks without paying commission. L...  "
      ]
     },
     "execution_count": 4,
     "metadata": {},
     "output_type": "execute_result"
    }
   ],
   "source": [
    "df.head() # a preview of the dataset used"
   ]
  },
  {
   "cell_type": "code",
   "execution_count": 24,
   "metadata": {},
   "outputs": [
    {
     "data": {
      "text/plain": [
       "['robinhood', 'etoro', 'freetrade', 'trading212', 'e*trade', 'webull']"
      ]
     },
     "execution_count": 24,
     "metadata": {},
     "output_type": "execute_result"
    }
   ],
   "source": [
    "# companies included in the dataset\n",
    "list(df['company'].unique())"
   ]
  },
  {
   "cell_type": "markdown",
   "metadata": {},
   "source": [
    "## 2. Data preprocessing"
   ]
  },
  {
   "cell_type": "markdown",
   "metadata": {},
   "source": [
    "Now we move on to the data preprocessing. Below we create a new dataframe (evquivalent to a table), such that each company is a row and is assigned one long paragraph of text that contains all of the advertisements it has used - we store this table in the variable \"company_df\"."
   ]
  },
  {
   "cell_type": "code",
   "execution_count": 5,
   "metadata": {},
   "outputs": [
    {
     "data": {
      "text/html": [
       "<div>\n",
       "<style scoped>\n",
       "    .dataframe tbody tr th:only-of-type {\n",
       "        vertical-align: middle;\n",
       "    }\n",
       "\n",
       "    .dataframe tbody tr th {\n",
       "        vertical-align: top;\n",
       "    }\n",
       "\n",
       "    .dataframe thead th {\n",
       "        text-align: right;\n",
       "    }\n",
       "</style>\n",
       "<table border=\"1\" class=\"dataframe\">\n",
       "  <thead>\n",
       "    <tr style=\"text-align: right;\">\n",
       "      <th></th>\n",
       "      <th>company</th>\n",
       "      <th>text</th>\n",
       "    </tr>\n",
       "  </thead>\n",
       "  <tbody>\n",
       "    <tr>\n",
       "      <th>0</th>\n",
       "      <td>e*trade</td>\n",
       "      <td>Don’t wait to invest, open an account today wi...</td>\n",
       "    </tr>\n",
       "    <tr>\n",
       "      <th>1</th>\n",
       "      <td>etoro</td>\n",
       "      <td>Invest better, together with the world’s leadi...</td>\n",
       "    </tr>\n",
       "    <tr>\n",
       "      <th>2</th>\n",
       "      <td>freetrade</td>\n",
       "      <td>Invest. Commission-free. Investing is one of t...</td>\n",
       "    </tr>\n",
       "    <tr>\n",
       "      <th>3</th>\n",
       "      <td>robinhood</td>\n",
       "      <td>Investing for Everyone. Commission-free invest...</td>\n",
       "    </tr>\n",
       "    <tr>\n",
       "      <th>4</th>\n",
       "      <td>trading212</td>\n",
       "      <td>Go ahead — skip this ad. Those fat-cat commiss...</td>\n",
       "    </tr>\n",
       "  </tbody>\n",
       "</table>\n",
       "</div>"
      ],
      "text/plain": [
       "      company                                               text\n",
       "0     e*trade  Don’t wait to invest, open an account today wi...\n",
       "1       etoro  Invest better, together with the world’s leadi...\n",
       "2   freetrade  Invest. Commission-free. Investing is one of t...\n",
       "3   robinhood  Investing for Everyone. Commission-free invest...\n",
       "4  trading212  Go ahead — skip this ad. Those fat-cat commiss..."
      ]
     },
     "execution_count": 5,
     "metadata": {},
     "output_type": "execute_result"
    }
   ],
   "source": [
    "company_df = df.groupby(['company'])['text'].apply(','.join).reset_index()\n",
    "company_df.head() # preview of company_df"
   ]
  },
  {
   "cell_type": "code",
   "execution_count": 6,
   "metadata": {},
   "outputs": [],
   "source": [
    "# a list of paragraphs, where eah paragraph is all the text used by one unique company\n",
    "raw_text = list(company_df['text'])\n",
    "\n",
    "# removing urls, which should not be considered as words, from the text\n",
    "text = [re.sub(r'http\\S+', '', string) for string in raw_text]"
   ]
  },
  {
   "cell_type": "markdown",
   "metadata": {},
   "source": [
    "### 2.1 Reducing the dataset"
   ]
  },
  {
   "cell_type": "markdown",
   "metadata": {},
   "source": [
    "It is essential to reduce the complexity and extraneous information in the text using text preprocessing techniques, to make the findings more concise and informative. We also remove stop words, which are words that do not provide additional meaning, such as \"in\", \"to\", etc... as well as the company names from the dataset to reduce noise."
   ]
  },
  {
   "cell_type": "code",
   "execution_count": 7,
   "metadata": {},
   "outputs": [],
   "source": [
    "stemmer = SnowballStemmer(\"english\") # algorithm for stemming\n",
    "\n",
    "# add the company names as stop words\n",
    "newStopWords = set(['robinhood','freetrade', 'etoro', 'trading212', 'e-trade', 'etrade', 'e*trade','webull'])\n",
    "stopwords = gensim.parsing.preprocessing.STOPWORDS.union(newStopWords)\n",
    "\n",
    "def lemmatize_stemming(text):\n",
    "    return stemmer.stem(WordNetLemmatizer().lemmatize(text, pos='v'))\n",
    "\n",
    "# preprocessing data: tokenize and lemmatize\n",
    "def preprocess(text):\n",
    "    result=[]\n",
    "    for token in gensim.utils.simple_preprocess(text) :\n",
    "        if token not in stopwords and len(token) > 3:\n",
    "            result.append(lemmatize_stemming(token))\n",
    "            \n",
    "    return result"
   ]
  },
  {
   "cell_type": "markdown",
   "metadata": {},
   "source": [
    "The variable \"preprocessed_docs\" contains a list of lists, the outer list being the company and the innter list being the preprocessed words."
   ]
  },
  {
   "cell_type": "code",
   "execution_count": 8,
   "metadata": {},
   "outputs": [
    {
     "data": {
      "text/plain": [
       "['invest', 'better', 'world', 'lead', 'trade']"
      ]
     },
     "execution_count": 8,
     "metadata": {},
     "output_type": "execute_result"
    }
   ],
   "source": [
    "processed_docs = [] # variable which will contain a list of each text entry that has been preprocessed\n",
    "\n",
    "for doc in text:\n",
    "    processed_docs.append(preprocess(doc))\n",
    "#each doc is a company\n",
    "\n",
    "processed_docs[1][:5]"
   ]
  },
  {
   "cell_type": "markdown",
   "metadata": {},
   "source": [
    "### 2.2 Bag-of-Words (BoW) Model\n",
    "We use the cleaned dataset to create a BoW model, which  is a statistical language model that is based on word count. It is necessary for more sophisticated NLP techniques we will be employing later on, such as topic modelling."
   ]
  },
  {
   "cell_type": "code",
   "execution_count": 9,
   "metadata": {},
   "outputs": [],
   "source": [
    "'''\n",
    "Create the Bag-of-words model for each document (text from each company)\n",
    "dictionary maps the string representation of a word to its corresponding number\n",
    "'bow_corpus' is a list of dictionaries: For each document we create another dictionary reporting how many words there are (keys) and how many times those words appear (values). \n",
    "'''\n",
    "dictionary = gensim.corpora.Dictionary(processed_docs)\n",
    "bow_corpus = [dictionary.doc2bow(doc) for doc in processed_docs]\n"
   ]
  },
  {
   "cell_type": "code",
   "execution_count": 10,
   "metadata": {},
   "outputs": [
    {
     "data": {
      "text/plain": [
       "[(0, 13), (1, 1), (2, 1), (3, 1), (4, 1)]"
      ]
     },
     "execution_count": 10,
     "metadata": {},
     "output_type": "execute_result"
    }
   ],
   "source": [
    "# Illustration of the BoW model\n",
    "# for the first company, word 0 appears 13 times, word 1 appears 1 time, etc\n",
    "bow_corpus[0][:5]"
   ]
  },
  {
   "cell_type": "code",
   "execution_count": 11,
   "metadata": {},
   "outputs": [
    {
     "name": "stdout",
     "output_type": "stream",
     "text": [
      "Word 0 (\"account\") appears 13 time(s).\n",
      "Word 6 (\"award\") appears 4 time(s).\n",
      "Word 29 (\"commiss\") appears 7 time(s).\n",
      "Word 34 (\"contract\") appears 4 time(s).\n",
      "Word 45 (\"dream\") appears 11 time(s).\n",
      "Word 47 (\"earn\") appears 4 time(s).\n",
      "Word 49 (\"easi\") appears 6 time(s).\n",
      "Word 63 (\"financi\") appears 4 time(s).\n",
      "Word 71 (\"futur\") appears 4 time(s).\n",
      "Word 87 (\"help\") appears 4 time(s).\n",
      "Word 100 (\"invest\") appears 23 time(s).\n",
      "Word 101 (\"investor\") appears 4 time(s).\n",
      "Word 125 (\"market\") appears 5 time(s).\n",
      "Word 127 (\"minimum\") appears 5 time(s).\n",
      "Word 129 (\"money\") appears 6 time(s).\n"
     ]
    }
   ],
   "source": [
    "'''\n",
    "We can now preview BoW for our sample preprocessed document (noting that we have now separated our dataset into subsets by company)\n",
    "document_num is an index that keeps track of which company we are looking at\n",
    "For example if document_num = 0, we have the BoW model of the first company (Python numbering starts from 0)\n",
    "'''\n",
    "document_num = 0\n",
    "bow_doc_x = bow_corpus[document_num]\n",
    "\n",
    "n=0\n",
    "for i in range(len(bow_doc_x)):\n",
    "    if bow_doc_x[i][1]>3 and n<15:\n",
    "        print(\"Word {} (\\\"{}\\\") appears {} time(s).\".format(bow_doc_x[i][0], \n",
    "                                                    dictionary[bow_doc_x[i][0]], \n",
    "                                                    bow_doc_x[i][1]))\n",
    "        n+=1"
   ]
  },
  {
   "cell_type": "markdown",
   "metadata": {},
   "source": [
    "## 3. Textual Similarity\n",
    "Using spaCy's prepackages models, the similarity between two corpuora (or \"chunks\") of text can be computed. This is based on the transformation of text to a numerical vector representation, and then computing the vector distance between two representations. Smaller distances suggest a higher similarity.\n",
    "\n",
    "### 3.1 Similarity between companies\n",
    "First, the text is classified on the company that it belongs to, and the similarity between the text of different companies is computed."
   ]
  },
  {
   "cell_type": "code",
   "execution_count": 12,
   "metadata": {},
   "outputs": [],
   "source": [
    "# Load the spacy model en_core_web_md\n",
    "nlp = spacy.load('en_core_web_md')"
   ]
  },
  {
   "cell_type": "code",
   "execution_count": 13,
   "metadata": {},
   "outputs": [],
   "source": [
    "company_nlps = []\n",
    "for company_text in company_df['text'].tolist():\n",
    "    company_nlps.append(nlp(company_text))\n",
    "    "
   ]
  },
  {
   "cell_type": "code",
   "execution_count": 14,
   "metadata": {},
   "outputs": [],
   "source": [
    "similarity_matrix = []\n",
    "\n",
    "for i in range(len(company_nlps)):\n",
    "    sublist=[]\n",
    "    for j in range(len(company_nlps)):\n",
    "        sublist.append(company_nlps[i].similarity(company_nlps[j]))\n",
    "    similarity_matrix.append(sublist)"
   ]
  },
  {
   "cell_type": "code",
   "execution_count": 16,
   "metadata": {},
   "outputs": [],
   "source": [
    "company_names = company_df['company'].to_list()"
   ]
  },
  {
   "cell_type": "code",
   "execution_count": 17,
   "metadata": {},
   "outputs": [
    {
     "data": {
      "text/html": [
       "<div>\n",
       "<style scoped>\n",
       "    .dataframe tbody tr th:only-of-type {\n",
       "        vertical-align: middle;\n",
       "    }\n",
       "\n",
       "    .dataframe tbody tr th {\n",
       "        vertical-align: top;\n",
       "    }\n",
       "\n",
       "    .dataframe thead th {\n",
       "        text-align: right;\n",
       "    }\n",
       "</style>\n",
       "<table border=\"1\" class=\"dataframe\">\n",
       "  <thead>\n",
       "    <tr style=\"text-align: right;\">\n",
       "      <th></th>\n",
       "      <th>e*trade</th>\n",
       "      <th>etoro</th>\n",
       "      <th>freetrade</th>\n",
       "      <th>robinhood</th>\n",
       "      <th>trading212</th>\n",
       "      <th>webull</th>\n",
       "    </tr>\n",
       "  </thead>\n",
       "  <tbody>\n",
       "    <tr>\n",
       "      <th>e*trade</th>\n",
       "      <td>1.000000</td>\n",
       "      <td>0.987187</td>\n",
       "      <td>0.991490</td>\n",
       "      <td>0.988306</td>\n",
       "      <td>0.982421</td>\n",
       "      <td>0.976067</td>\n",
       "    </tr>\n",
       "    <tr>\n",
       "      <th>etoro</th>\n",
       "      <td>0.987187</td>\n",
       "      <td>1.000000</td>\n",
       "      <td>0.990037</td>\n",
       "      <td>0.979937</td>\n",
       "      <td>0.990672</td>\n",
       "      <td>0.984539</td>\n",
       "    </tr>\n",
       "    <tr>\n",
       "      <th>freetrade</th>\n",
       "      <td>0.991490</td>\n",
       "      <td>0.990037</td>\n",
       "      <td>1.000000</td>\n",
       "      <td>0.985991</td>\n",
       "      <td>0.990823</td>\n",
       "      <td>0.982183</td>\n",
       "    </tr>\n",
       "    <tr>\n",
       "      <th>robinhood</th>\n",
       "      <td>0.988306</td>\n",
       "      <td>0.979937</td>\n",
       "      <td>0.985991</td>\n",
       "      <td>1.000000</td>\n",
       "      <td>0.976259</td>\n",
       "      <td>0.965565</td>\n",
       "    </tr>\n",
       "    <tr>\n",
       "      <th>trading212</th>\n",
       "      <td>0.982421</td>\n",
       "      <td>0.990672</td>\n",
       "      <td>0.990823</td>\n",
       "      <td>0.976259</td>\n",
       "      <td>1.000000</td>\n",
       "      <td>0.983847</td>\n",
       "    </tr>\n",
       "    <tr>\n",
       "      <th>webull</th>\n",
       "      <td>0.976067</td>\n",
       "      <td>0.984539</td>\n",
       "      <td>0.982183</td>\n",
       "      <td>0.965565</td>\n",
       "      <td>0.983847</td>\n",
       "      <td>1.000000</td>\n",
       "    </tr>\n",
       "  </tbody>\n",
       "</table>\n",
       "</div>"
      ],
      "text/plain": [
       "             e*trade     etoro  freetrade  robinhood  trading212    webull\n",
       "e*trade     1.000000  0.987187   0.991490   0.988306    0.982421  0.976067\n",
       "etoro       0.987187  1.000000   0.990037   0.979937    0.990672  0.984539\n",
       "freetrade   0.991490  0.990037   1.000000   0.985991    0.990823  0.982183\n",
       "robinhood   0.988306  0.979937   0.985991   1.000000    0.976259  0.965565\n",
       "trading212  0.982421  0.990672   0.990823   0.976259    1.000000  0.983847\n",
       "webull      0.976067  0.984539   0.982183   0.965565    0.983847  1.000000"
      ]
     },
     "execution_count": 17,
     "metadata": {},
     "output_type": "execute_result"
    }
   ],
   "source": [
    "confusion_df = pd.DataFrame(similarity_matrix, columns = company_names, index=company_names)\n",
    "confusion_df"
   ]
  },
  {
   "cell_type": "code",
   "execution_count": 18,
   "metadata": {},
   "outputs": [
    {
     "data": {
      "text/html": [
       "<style type=\"text/css\">\n",
       "#T_ceab4_row0_col0, #T_ceab4_row1_col1, #T_ceab4_row2_col2, #T_ceab4_row3_col3, #T_ceab4_row4_col4, #T_ceab4_row5_col5 {\n",
       "  background-color: #4d004b;\n",
       "  color: #f1f1f1;\n",
       "}\n",
       "#T_ceab4_row0_col1, #T_ceab4_row1_col0 {\n",
       "  background-color: #8c6ab1;\n",
       "  color: #f1f1f1;\n",
       "}\n",
       "#T_ceab4_row0_col2, #T_ceab4_row2_col0 {\n",
       "  background-color: #88409c;\n",
       "  color: #f1f1f1;\n",
       "}\n",
       "#T_ceab4_row0_col3, #T_ceab4_row3_col0 {\n",
       "  background-color: #8b5eab;\n",
       "  color: #f1f1f1;\n",
       "}\n",
       "#T_ceab4_row0_col4, #T_ceab4_row4_col0 {\n",
       "  background-color: #8d99c8;\n",
       "  color: #f1f1f1;\n",
       "}\n",
       "#T_ceab4_row0_col5, #T_ceab4_row5_col0 {\n",
       "  background-color: #b0c9e1;\n",
       "  color: #000000;\n",
       "}\n",
       "#T_ceab4_row1_col2, #T_ceab4_row2_col1 {\n",
       "  background-color: #894fa3;\n",
       "  color: #f1f1f1;\n",
       "}\n",
       "#T_ceab4_row1_col3, #T_ceab4_row3_col1 {\n",
       "  background-color: #98b0d3;\n",
       "  color: #000000;\n",
       "}\n",
       "#T_ceab4_row1_col4, #T_ceab4_row4_col1 {\n",
       "  background-color: #8948a0;\n",
       "  color: #f1f1f1;\n",
       "}\n",
       "#T_ceab4_row1_col5, #T_ceab4_row5_col1 {\n",
       "  background-color: #8c84bd;\n",
       "  color: #f1f1f1;\n",
       "}\n",
       "#T_ceab4_row2_col3, #T_ceab4_row3_col2 {\n",
       "  background-color: #8c76b7;\n",
       "  color: #f1f1f1;\n",
       "}\n",
       "#T_ceab4_row2_col4, #T_ceab4_row4_col2 {\n",
       "  background-color: #8947a0;\n",
       "  color: #f1f1f1;\n",
       "}\n",
       "#T_ceab4_row2_col5, #T_ceab4_row5_col2 {\n",
       "  background-color: #8f9bc9;\n",
       "  color: #f1f1f1;\n",
       "}\n",
       "#T_ceab4_row3_col4, #T_ceab4_row4_col3 {\n",
       "  background-color: #afc8e0;\n",
       "  color: #000000;\n",
       "}\n",
       "#T_ceab4_row3_col5, #T_ceab4_row5_col3 {\n",
       "  background-color: #f7fcfd;\n",
       "  color: #000000;\n",
       "}\n",
       "#T_ceab4_row4_col5, #T_ceab4_row5_col4 {\n",
       "  background-color: #8c8cc1;\n",
       "  color: #f1f1f1;\n",
       "}\n",
       "</style>\n",
       "<table id=\"T_ceab4_\">\n",
       "  <thead>\n",
       "    <tr>\n",
       "      <th class=\"blank level0\" >&nbsp;</th>\n",
       "      <th class=\"col_heading level0 col0\" >e*trade</th>\n",
       "      <th class=\"col_heading level0 col1\" >etoro</th>\n",
       "      <th class=\"col_heading level0 col2\" >freetrade</th>\n",
       "      <th class=\"col_heading level0 col3\" >robinhood</th>\n",
       "      <th class=\"col_heading level0 col4\" >trading212</th>\n",
       "      <th class=\"col_heading level0 col5\" >webull</th>\n",
       "    </tr>\n",
       "  </thead>\n",
       "  <tbody>\n",
       "    <tr>\n",
       "      <th id=\"T_ceab4_level0_row0\" class=\"row_heading level0 row0\" >e*trade</th>\n",
       "      <td id=\"T_ceab4_row0_col0\" class=\"data row0 col0\" >1.000000</td>\n",
       "      <td id=\"T_ceab4_row0_col1\" class=\"data row0 col1\" >0.987187</td>\n",
       "      <td id=\"T_ceab4_row0_col2\" class=\"data row0 col2\" >0.991490</td>\n",
       "      <td id=\"T_ceab4_row0_col3\" class=\"data row0 col3\" >0.988306</td>\n",
       "      <td id=\"T_ceab4_row0_col4\" class=\"data row0 col4\" >0.982421</td>\n",
       "      <td id=\"T_ceab4_row0_col5\" class=\"data row0 col5\" >0.976067</td>\n",
       "    </tr>\n",
       "    <tr>\n",
       "      <th id=\"T_ceab4_level0_row1\" class=\"row_heading level0 row1\" >etoro</th>\n",
       "      <td id=\"T_ceab4_row1_col0\" class=\"data row1 col0\" >0.987187</td>\n",
       "      <td id=\"T_ceab4_row1_col1\" class=\"data row1 col1\" >1.000000</td>\n",
       "      <td id=\"T_ceab4_row1_col2\" class=\"data row1 col2\" >0.990037</td>\n",
       "      <td id=\"T_ceab4_row1_col3\" class=\"data row1 col3\" >0.979937</td>\n",
       "      <td id=\"T_ceab4_row1_col4\" class=\"data row1 col4\" >0.990672</td>\n",
       "      <td id=\"T_ceab4_row1_col5\" class=\"data row1 col5\" >0.984539</td>\n",
       "    </tr>\n",
       "    <tr>\n",
       "      <th id=\"T_ceab4_level0_row2\" class=\"row_heading level0 row2\" >freetrade</th>\n",
       "      <td id=\"T_ceab4_row2_col0\" class=\"data row2 col0\" >0.991490</td>\n",
       "      <td id=\"T_ceab4_row2_col1\" class=\"data row2 col1\" >0.990037</td>\n",
       "      <td id=\"T_ceab4_row2_col2\" class=\"data row2 col2\" >1.000000</td>\n",
       "      <td id=\"T_ceab4_row2_col3\" class=\"data row2 col3\" >0.985991</td>\n",
       "      <td id=\"T_ceab4_row2_col4\" class=\"data row2 col4\" >0.990823</td>\n",
       "      <td id=\"T_ceab4_row2_col5\" class=\"data row2 col5\" >0.982183</td>\n",
       "    </tr>\n",
       "    <tr>\n",
       "      <th id=\"T_ceab4_level0_row3\" class=\"row_heading level0 row3\" >robinhood</th>\n",
       "      <td id=\"T_ceab4_row3_col0\" class=\"data row3 col0\" >0.988306</td>\n",
       "      <td id=\"T_ceab4_row3_col1\" class=\"data row3 col1\" >0.979937</td>\n",
       "      <td id=\"T_ceab4_row3_col2\" class=\"data row3 col2\" >0.985991</td>\n",
       "      <td id=\"T_ceab4_row3_col3\" class=\"data row3 col3\" >1.000000</td>\n",
       "      <td id=\"T_ceab4_row3_col4\" class=\"data row3 col4\" >0.976259</td>\n",
       "      <td id=\"T_ceab4_row3_col5\" class=\"data row3 col5\" >0.965565</td>\n",
       "    </tr>\n",
       "    <tr>\n",
       "      <th id=\"T_ceab4_level0_row4\" class=\"row_heading level0 row4\" >trading212</th>\n",
       "      <td id=\"T_ceab4_row4_col0\" class=\"data row4 col0\" >0.982421</td>\n",
       "      <td id=\"T_ceab4_row4_col1\" class=\"data row4 col1\" >0.990672</td>\n",
       "      <td id=\"T_ceab4_row4_col2\" class=\"data row4 col2\" >0.990823</td>\n",
       "      <td id=\"T_ceab4_row4_col3\" class=\"data row4 col3\" >0.976259</td>\n",
       "      <td id=\"T_ceab4_row4_col4\" class=\"data row4 col4\" >1.000000</td>\n",
       "      <td id=\"T_ceab4_row4_col5\" class=\"data row4 col5\" >0.983847</td>\n",
       "    </tr>\n",
       "    <tr>\n",
       "      <th id=\"T_ceab4_level0_row5\" class=\"row_heading level0 row5\" >webull</th>\n",
       "      <td id=\"T_ceab4_row5_col0\" class=\"data row5 col0\" >0.976067</td>\n",
       "      <td id=\"T_ceab4_row5_col1\" class=\"data row5 col1\" >0.984539</td>\n",
       "      <td id=\"T_ceab4_row5_col2\" class=\"data row5 col2\" >0.982183</td>\n",
       "      <td id=\"T_ceab4_row5_col3\" class=\"data row5 col3\" >0.965565</td>\n",
       "      <td id=\"T_ceab4_row5_col4\" class=\"data row5 col4\" >0.983847</td>\n",
       "      <td id=\"T_ceab4_row5_col5\" class=\"data row5 col5\" >1.000000</td>\n",
       "    </tr>\n",
       "  </tbody>\n",
       "</table>\n"
      ],
      "text/plain": [
       "<pandas.io.formats.style.Styler at 0x2d7c9da65c8>"
      ]
     },
     "execution_count": 18,
     "metadata": {},
     "output_type": "execute_result"
    }
   ],
   "source": [
    "def colour_df(styler):\n",
    "    styler.background_gradient(axis=None,cmap=\"BuPu\")\n",
    "    return styler\n",
    "    \n",
    "confusion_df.style.pipe(colour_df)\n"
   ]
  },
  {
   "cell_type": "code",
   "execution_count": 25,
   "metadata": {},
   "outputs": [],
   "source": [
    "# saving as an excel document\n",
    "# confusion_df.to_excel('company_similarity.xlsx')"
   ]
  },
  {
   "cell_type": "markdown",
   "metadata": {},
   "source": [
    "Above is the final matrix that shows how similar each company's textual data is to others."
   ]
  },
  {
   "cell_type": "markdown",
   "metadata": {},
   "source": [
    "### 3.2 Similarity to aspiration words\n",
    "We compile a list that we deemed was \"representative\" of commonly used aspiration words. We transform that list to a vector representation to be able to compute the similarity between the dataset text and the representation of aspiration words."
   ]
  },
  {
   "cell_type": "code",
   "execution_count": null,
   "metadata": {},
   "outputs": [],
   "source": [
    "aspiration_words = ['start','dream','power','want','build','today','wait','retir'] # note that we already remove suffixes and prefixes to reduce dimensionality\n",
    " # words we consider representative of aspirations"
   ]
  },
  {
   "cell_type": "code",
   "execution_count": null,
   "metadata": {},
   "outputs": [],
   "source": [
    "all_words=[]\n",
    "for company in bow_corpus:\n",
    "    for i in range(len(company)):\n",
    "        word=dictionary[company[i][0]]\n",
    "        all_words.append(word)\n"
   ]
  },
  {
   "cell_type": "code",
   "execution_count": null,
   "metadata": {},
   "outputs": [],
   "source": [
    "# removing stopwords\n",
    "from nltk.corpus import stopwords\n",
    "stops = set(stopwords.words(\"english\"))\n",
    "all_words_filtered = [word for word in all_words if word not in stops]\n",
    "\n",
    "# convert each word in the full dataset to spacy nlp object which has a word embedding\n",
    "all_words_nlp = [nlp(word) for word in all_words_filtered]"
   ]
  },
  {
   "cell_type": "code",
   "execution_count": null,
   "metadata": {},
   "outputs": [],
   "source": [
    "# create spacy nlp object (vector respresentation) that represents aspiration words\n",
    "aspiration_nlp = nlp((' ').join(aspiration_words))"
   ]
  },
  {
   "cell_type": "code",
   "execution_count": null,
   "metadata": {},
   "outputs": [],
   "source": [
    "word_similarity = [word_nlp.similarity(aspiration_nlp) for word_nlp in all_words_nlp]"
   ]
  },
  {
   "cell_type": "code",
   "execution_count": null,
   "metadata": {},
   "outputs": [],
   "source": [
    "word_similarity_dict = {}\n",
    "for i in range(len(all_words_filtered)):\n",
    "    word_similarity_dict[all_words_filtered[i]]=word_similarity[i]"
   ]
  },
  {
   "cell_type": "code",
   "execution_count": null,
   "metadata": {},
   "outputs": [
    {
     "data": {
      "application/vnd.plotly.v1+json": {
       "config": {
        "plotlyServerURL": "https://plot.ly"
       },
       "data": [
        {
         "marker": {
          "color": "rgb(95, 70, 144)"
         },
         "type": "histogram",
         "x": [
          0.37755362562909955,
          -0.11710141425455159,
          0.4823453835041402,
          0,
          0.2386440348678751,
          0,
          0.2349567654350937,
          0.6451548523769555,
          0,
          0.41648083622718446,
          0.5706768678982315,
          0.31829799198323966,
          0.3675167010528467,
          0.2705347422367643,
          0,
          0.39871234669962113,
          0.6915399394443765,
          0.4253528261436164,
          0.24701707543370288,
          0.10610801892032279,
          0.10280148879308297,
          0.23610372151681205,
          0.5282734659679347,
          0.4383357313815305,
          0.48077287452288286,
          0.3637091391786653,
          0.32522316239309546,
          0.7211226266024418,
          0.20664554095831722,
          0,
          0,
          -0.04352272924573068,
          -0.19445638306833551,
          0,
          0.35727533867401723,
          0.4752775997994254,
          0.4273520802627921,
          0.1629721943336227,
          0,
          0,
          0.5499756912440857,
          0.27889104050695945,
          0.1970230283633935,
          0,
          0.37407020774481525,
          0.6911609766602176,
          0,
          0.4262812105912558,
          0.4629606559893028,
          0,
          0.6234323458167286,
          -0.22484661011286075,
          0.2528152902455153,
          0.12319958915460605,
          0,
          0,
          0,
          0,
          0.4964239208036418,
          0.3724524244886904,
          0.27208241767753916,
          0.4595806563590689,
          0,
          0,
          0.34036597282238745,
          0,
          0.5603198367769546,
          0.5517562429471611,
          0,
          0.4776290795856587,
          0.45651133015705736,
          0.011958589935740453,
          0.43064033390544765,
          0.2985342728132797,
          0.7793020528048853,
          0.7162443910628898,
          0.39907065999705793,
          0.4864270245644328,
          0.6548464466681803,
          0.6191139205552686,
          0,
          -0.31262605062236387,
          0.4722539980743444,
          0.6157264434047757,
          0.4673847994668169,
          0.6097222947312495,
          0,
          0.6514872956180601,
          0.4900318281985559,
          -0.16982813987518328,
          0.31024043736788565,
          0.426752771881968,
          0,
          0,
          0.15135388260729238,
          0.3994881834006653,
          0.35562752858998326,
          0.4696660316806808,
          0.19383580966946581,
          0.28036381837022795,
          0.5350829250314201,
          0.31098538319411917,
          0.18848139302676684,
          -0.15406559080539348,
          0.4892342809181203,
          0.5313408674850577,
          0.4343120083631177,
          0.4736201245655721,
          0.7300691088659366,
          0.47973749289851625,
          0.4805481632912485,
          0.4211065025192532,
          0.6297014865264611,
          0.6061714000835237,
          0.2874982795593113,
          0,
          0.6721276713701627,
          0.410419613660015,
          0.35112189907573316,
          0.622560998392493,
          0.6582348610955024,
          0.29108883070475566,
          0.2370329418284436,
          0.44211600257578326,
          0.7615425991613775,
          0.49036369753359205,
          0.18815494600957605,
          0.34412911882565844,
          0.21343990017993109,
          0.5626601717265082,
          0.3789485401405579,
          0.2765489217685581,
          0.33283286935677747,
          0.6885278616080347,
          0.7956563095844775,
          0,
          0.4911411395581266,
          0.39434365189815523,
          0.5375095155060441,
          -0.31262605062236387,
          0.4836654277311581,
          0,
          0.4345817227714796,
          0.27117759275513287,
          0.4854546323790585,
          0.21998433513368817,
          0.09039065654564286,
          0.5820642240868174,
          0.15265911728002696,
          0.6320520754410636,
          0.5883269508043848,
          0.3987584742484629,
          0.36658358058484425,
          0.000466368035348218,
          0.6083733416117649,
          -0.058814015832224106,
          0.38952316393625463,
          0.5120527352216702,
          0.35143453543830483,
          0.3155160056552889,
          0.21088710748137074,
          0.5892107836969559,
          0,
          0,
          0.39056248503709684,
          0,
          0.33550770298362376,
          0,
          0.65833566868235,
          0.37879618872734433,
          0,
          0.3306060652410925,
          0.5157308958129134,
          0.4239276998849539,
          0.6774426645634856,
          0.5202521415025539,
          0,
          0,
          0.44731091424617686,
          0,
          0.5950692700105167,
          0.4866737866048591,
          0.39451817440999926,
          0.18815494600957605,
          0.5357387838709371,
          0.470784306044086,
          0.3277075159517402,
          0.765985454285852,
          0.3457083893132316,
          0.6243225283905158,
          -0.09175034370997076,
          0.3647707682622271,
          0.4671759488288249,
          0.7339344276324459,
          0.3590147725519382,
          0.3770275347950426,
          0.38039743490587286,
          0.44933420063004564,
          0.7020161368947764,
          0.7203478965354788,
          0.6661549851213536,
          0.6256893427230139,
          0.41340433291052214,
          0.40290152968973236,
          0.2461999354886216,
          0,
          0.21419354701577198,
          0.3934504924813814,
          0,
          0.5186487925422184,
          0,
          0.7383356883726885,
          0.5038914406868407,
          0.815710358768236,
          0.40435603311120816,
          0.312191649950993,
          0.35301221887654455,
          0.48516395792944533,
          0.6692828817017427,
          0.6458922731042291,
          0.6058654586983889,
          0.4307329571488916,
          0.37755362562909955,
          0.3637091391786653,
          0,
          0,
          0,
          0.39907065999705793,
          0.15135388260729238,
          0.5350829250314201,
          0.7300691088659366,
          0.4805481632912485,
          0.410419613660015,
          0.49036369753359205,
          0.5820642240868174,
          0.6083733416117649,
          -0.058814015832224106,
          0.38952316393625463,
          0.35143453543830483,
          0.3457083893132316,
          -0.09175034370997076,
          0.3770275347950426,
          0.41340433291052214,
          0.40290152968973236,
          0.5186487925422184,
          0.6058654586983889,
          0.3986022075353932,
          0,
          0,
          0,
          0.18687137576938545,
          0.4238913830032746,
          0.47551673724065,
          0.7043421910041828,
          0.39129635341079744,
          0,
          0.24704292547877105,
          0.31448114766682833,
          0.5097859272141231,
          0.48841919382757354,
          0.20648753225395902,
          0,
          -0.31262605062236387,
          0,
          0,
          0.3074676002246998,
          0.19027995644545764,
          0,
          0.23589855084700054,
          0.329693739542326,
          0,
          0.5902005671874356,
          0.5092149243728884,
          0.4126767878842558,
          0.3362146493881543,
          0,
          0.3364749432301048,
          -0.09273613242876999,
          0.28437880483502603,
          0.4488656547017826,
          0.35794082606505695,
          0.3781607439362035,
          0,
          0.25401157141629527,
          0.38522699877326194,
          0.4148412451466701,
          0.4199631765818893,
          0.599377917260441,
          0.34090440584645,
          -0.04199573215914497,
          0.522703611733669,
          0.3928013956521196,
          0,
          0.30519542866292443,
          0,
          0.19117416868816675,
          0,
          0.4133685093220977,
          0.21780279639188285,
          0,
          0.644743002753556,
          0.33349791685127944,
          0,
          0.5249884782786904,
          0.37791314800295256,
          0.4066603562172373,
          0,
          0,
          0.32525692773795556,
          0,
          -0.11710141425455159,
          0,
          0.37755362562909955,
          0.5706768678982315,
          0.6915399394443765,
          0.4253528261436164,
          0.10280148879308297,
          0.5282734659679347,
          0,
          0,
          0.4752775997994254,
          0.27889104050695945,
          0,
          0,
          0,
          0.27208241767753916,
          0,
          0.5517562429471611,
          0.43064033390544765,
          0.7162443910628898,
          0.6191139205552686,
          0.6514872956180601,
          0.15135388260729238,
          0.4696660316806808,
          0.5350829250314201,
          0.31098538319411917,
          0.18848139302676684,
          0.7300691088659366,
          0.4805481632912485,
          0.6297014865264611,
          0.35112189907573316,
          0.622560998392493,
          0.7615425991613775,
          0.49036369753359205,
          0.4911411395581266,
          0.5375095155060441,
          0.6320520754410636,
          0.3987584742484629,
          0.36658358058484425,
          0.38952316393625463,
          0,
          0.65833566868235,
          0.37879618872734433,
          0.5157308958129134,
          0.765985454285852,
          0.3457083893132316,
          0.6243225283905158,
          0.7203478965354788,
          0.6661549851213536,
          0.41340433291052214,
          0.40290152968973236,
          0.815710358768236,
          0.47551673724065,
          0.7043421910041828,
          0.20648753225395902,
          0.3074676002246998,
          0.19027995644545764,
          0.23589855084700054,
          0,
          0.4488656547017826,
          0.35794082606505695,
          0.25401157141629527,
          0.4148412451466701,
          0,
          0.30519542866292443,
          0.4133685093220977,
          0.5249884782786904,
          -0.16814331558986903,
          0.3719846516796652,
          0.03223792056829865,
          0.3314353288506794,
          0,
          0.35828063052562137,
          0.6890816158857498,
          -0.1951292632684046,
          0.39049323781069517,
          0.4901274996607956,
          0.47835966380869327,
          0.10556740337952064,
          0,
          -0.20323189078808934,
          0.10515807348582144,
          0.512364072887278,
          0.3837577826869228,
          0.36316734481855895,
          0,
          0.5351165269112473,
          0.48495233124245496,
          0.3875517596129852,
          0.3883813431087547,
          0.5914367162662548,
          0.3989722592290722,
          0,
          -0.0308907179561245,
          0.269166015726306,
          0,
          0.5280398696368361,
          0.34291640055613465,
          0,
          0,
          0.5250380723271236,
          0.44688304180333377,
          0.5706434368095319,
          0.07697929920414243,
          0.42618059646723855,
          0.5842654306198269,
          0.4381034981937856,
          0.036686171546170335,
          0,
          0.18694255625682668,
          0.43095470553375154,
          0.4008568709477381,
          0.5376847664808002,
          0.42179524370629307,
          0.48612049302912336,
          0.5464434837384897,
          0,
          0.23788986447108915,
          0.44027808003951546,
          0.2991158415759652,
          0.03334786292162889,
          0.38607406638016073,
          0.41391651656848577,
          0.7080876615574658,
          0.5095122052051819,
          0,
          0.42957286112139886,
          0,
          0,
          0.3854410715851053,
          0.4161547462173337,
          0.48293568133779047,
          0.334128779660736,
          0.4910611451914656,
          0,
          0.524369623216043,
          0.48813453190673156,
          0.1684181831600556,
          -0.017429050781303287,
          0.39416635730759225,
          0.38469386273567213,
          0.5643496114534782,
          0.3699586555987099,
          0.4680625166184631,
          0.7314378870364504,
          0.41759255018329344,
          0.6973266443810581,
          0.39277376745113973,
          0.4492611879782784,
          0,
          0,
          0.3919146155147219,
          0.6471863960049266,
          -0.17891983042626744,
          0.7662936005365838,
          0.43339094597414196,
          0.6861427681797384,
          0.6915399394443765,
          0,
          0,
          0,
          0.27208241767753916,
          0,
          0,
          0.5603198367769546,
          0.5350829250314201,
          0.31098538319411917,
          0.47973749289851625,
          0.49036369753359205,
          0.5626601717265082,
          0.7956563095844775,
          0.36658358058484425,
          0,
          0.765985454285852,
          0.3457083893132316,
          0.41340433291052214,
          0.40290152968973236,
          0.6458922731042291,
          0.6058654586983889,
          0.7043421910041828,
          0.4488656547017826,
          0.4148412451466701,
          0.03223792056829865,
          0.39049323781069517,
          0.4901274996607956,
          0.10515807348582144,
          0.3875517596129852,
          0.5914367162662548,
          0.42179524370629307,
          0.38607406638016073,
          0.4161547462173337,
          0.48813453190673156,
          0.41759255018329344,
          0.6973266443810581,
          0.3268025539899372,
          0.23809776962601245,
          0.5117144950663457,
          -0.12147464095456256,
          0.5908091561955308,
          0.03614349040759894,
          0.49110087708867617,
          0.0831303844228225,
          0.22793822175311157,
          0.43965634964437655,
          0.3982872110009966,
          0.29665282219942785,
          0.5064000999770282,
          0,
          0.4513622253275221,
          0,
          0,
          0.14481465027427626,
          0,
          0.376299567454671,
          0.5959361944751357,
          0.47229175002673845,
          0.000466368035348218,
          0.572331487796629,
          0.2778408738090076,
          -0.12147464095456256,
          0.37755362562909955,
          0.5706768678982315,
          0.2705347422367643,
          0,
          0.6915399394443765,
          0.20664554095831722,
          0,
          0,
          0,
          0,
          0,
          0.39907065999705793,
          0.4864270245644328,
          0.15135388260729238,
          0.5350829250314201,
          0.6721276713701627,
          0.35112189907573316,
          0.49036369753359205,
          0.5626601717265082,
          0.4911411395581266,
          0.5375095155060441,
          0.5883269508043848,
          0,
          0.765985454285852,
          0.3457083893132316,
          0.40290152968973236,
          0.5186487925422184,
          0.815710358768236,
          0.6458922731042291,
          0.4307329571488916,
          0.20648753225395902,
          0.3074676002246998,
          -0.09273613242876999,
          0.28437880483502603,
          0.4488656547017826,
          0.35794082606505695,
          0.34090440584645,
          0.4133685093220977,
          0.5249884782786904,
          0,
          0.3719846516796652,
          0.3875517596129852,
          0,
          0.269166015726306,
          0,
          0.43095470553375154,
          0.44027808003951546,
          0.03334786292162889,
          0,
          0.48293568133779047,
          0.4910611451914656,
          0,
          0.6683476877714741,
          0.22526683711570267,
          0.2607238531213696,
          0.25122696806047407,
          0,
          0.37455517069892885,
          0.2702743870765747,
          0.26534413519922473,
          0.1871323574259857,
          0,
          0,
          0.28076486864356104,
          0,
          0.2910129028026262,
          0,
          0.006375640186210122,
          0.5275788056556284,
          0.34835331912116335,
          0.31337959500611845,
          -0.03836856833765569,
          0.43680746322468383,
          0.721296012093036,
          0.3091238747272305,
          0.30965823358038147,
          0.3753415269932717,
          -0.12147464095456256,
          0.35918284417599217,
          0.3605079417150659,
          0.47271973142558943,
          0.5013483477180021,
          0.15345114514886396,
          0,
          0.32286951187518365,
          0.33607762955286763,
          0.37755362562909955,
          0,
          0.5706768678982315,
          0.2705347422367643,
          0,
          0.4253528261436164,
          0.10610801892032279,
          0.23610372151681205,
          0.5282734659679347,
          0,
          0,
          -0.04352272924573068,
          0.35727533867401723,
          0.27889104050695945,
          0,
          0,
          0,
          0.27208241767753916,
          0,
          0,
          0.34036597282238745,
          0.4776290795856587,
          0.011958589935740453,
          0.7793020528048853,
          0.39907065999705793,
          0.6514872956180601,
          0.426752771881968,
          0.15135388260729238,
          0.3994881834006653,
          0.5350829250314201,
          0.31098538319411917,
          0.4892342809181203,
          0.4211065025192532,
          0.35112189907573316,
          0.6582348610955024,
          0.7615425991613775,
          0.49036369753359205,
          0.34412911882565844,
          0.21343990017993109,
          0.4911411395581266,
          0.39434365189815523,
          0.5375095155060441,
          -0.31262605062236387,
          0.4836654277311581,
          0.4854546323790585,
          0.6320520754410636,
          0.3987584742484629,
          0.6083733416117649,
          0.35143453543830483,
          0,
          0,
          0.3306060652410925,
          0.5157308958129134,
          0,
          0.39451817440999926,
          0.765985454285852,
          0.3457083893132316,
          0.4671759488288249,
          0.3770275347950426,
          0.7203478965354788,
          0.6661549851213536,
          0.41340433291052214,
          0.40290152968973236,
          0,
          0.7383356883726885,
          0.815710358768236,
          0.4307329571488916,
          0.3986022075353932,
          0,
          0,
          0.7043421910041828,
          0.3074676002246998,
          0.23589855084700054,
          0.329693739542326,
          0.5902005671874356,
          0.28437880483502603,
          0.4488656547017826,
          0.35794082606505695,
          0.4148412451466701,
          0.34090440584645,
          0.30519542866292443,
          0.4133685093220977,
          0,
          0,
          0.5249884782786904,
          0.32525692773795556,
          0.3314353288506794,
          0.512364072887278,
          0,
          0.48495233124245496,
          0.3875517596129852,
          0.3883813431087547,
          0,
          -0.0308907179561245,
          0.269166015726306,
          0.44688304180333377,
          0.07697929920414243,
          0.42618059646723855,
          0.4381034981937856,
          0.4008568709477381,
          0.48612049302912336,
          0.5464434837384897,
          0.38607406638016073,
          0.41391651656848577,
          0,
          0.524369623216043,
          0.48813453190673156,
          0.3699586555987099,
          0.41759255018329344,
          0.39277376745113973,
          0,
          0.3919146155147219,
          0.5908091561955308,
          0.03614349040759894,
          0.5959361944751357,
          0.572331487796629,
          -0.12147464095456256,
          0.25122696806047407,
          0.37455517069892885,
          0.5013483477180021,
          0.10250322214873439,
          -0.12147464095456256,
          0.14520027348996045,
          0,
          0.5832404290443344,
          0,
          0,
          0.5519668776062708,
          0,
          0.04341666900154946,
          0.35213162144748095,
          -0.012766532132580112,
          0,
          0,
          0.34532067456368515,
          0,
          0.4138691804547883,
          0.4225234173151814,
          0,
          0,
          0.47359565811621046,
          0,
          0.20745899966377823,
          0,
          0,
          0.5052423937453399,
          0,
          0.6368988362003045,
          0.2693503892910397,
          0.43456726701449383,
          0.5297237071284169,
          0.37885233471154006,
          0.4113845164792713,
          0.29201438282310577,
          -0.058699240487952,
          0,
          0.3337383879968652,
          0.5161026164614174,
          0,
          0,
          0.35174248742075875,
          0,
          0,
          0,
          0.3194329336110218,
          0.49351408454955004,
          0,
          0.4592109334454882,
          0,
          0,
          -0.31262605062236387,
          0.36598832689885336,
          0.7019613397287627,
          0,
          0,
          0.20577982267188424,
          0.2940233147162485,
          0.3750121922414309,
          0.5629852762458747,
          0.44708307616899245,
          0.6008148975900371,
          0.07697929920414243,
          0.04581572390949707,
          0,
          0.29958587070411097,
          0.20162878107700136,
          0.27196320299289173,
          0.11076952101181228,
          -0.22880302590781182,
          0.41031845632278485,
          0,
          0,
          0.4267091216906998,
          -0.06976794968239475,
          0.036686171546170335,
          0.011220743935070646,
          0.529250576973332,
          0.4209976100668016,
          0.4578406731837445,
          0.3280543205416479,
          0,
          0.4116195616718096,
          0,
          0.33446489997401796,
          0.2426058564926306,
          0.30917899695906953,
          0,
          0.3745912678580129,
          0.269166015726306,
          0.3936897920733623,
          0,
          0.20745899966377823,
          0.33277811635184196,
          0.3151071448296849,
          0,
          0.20896926586339282,
          0,
          0,
          0.3109874015062124,
          -0.12147464095456256,
          0.5004727845616237,
          -0.07211013775218356,
          0.5687100429040353,
          0.35770869884710665,
          -0.32231494684966455,
          0,
          0,
          0,
          0.30020483263660763,
          0.3634052573227711,
          0,
          0.4104614887172927,
          0,
          0.01861780488408484,
          0,
          0.1870361896076299,
          0.37314470773962427,
          0.4794770289177015,
          0.37951100405632304,
          -0.31262605062236387,
          0.11948637566715593,
          0.43250231000971595,
          -0.12147464095456256,
          0,
          0.5987449594674149,
          0,
          0.33173885215840404,
          0.3521733223406354,
          0.09649755902339383,
          0.5488906536410127,
          0,
          0,
          0,
          0,
          0,
          0,
          0,
          0.41323135670990546,
          0,
          0.1334287677604692,
          0.5357266014165394,
          0.24853377389872114
         ]
        }
       ],
       "layout": {
        "height": 400,
        "template": {
         "data": {
          "bar": [
           {
            "error_x": {
             "color": "#2a3f5f"
            },
            "error_y": {
             "color": "#2a3f5f"
            },
            "marker": {
             "line": {
              "color": "#E5ECF6",
              "width": 0.5
             }
            },
            "type": "bar"
           }
          ],
          "barpolar": [
           {
            "marker": {
             "line": {
              "color": "#E5ECF6",
              "width": 0.5
             }
            },
            "type": "barpolar"
           }
          ],
          "carpet": [
           {
            "aaxis": {
             "endlinecolor": "#2a3f5f",
             "gridcolor": "white",
             "linecolor": "white",
             "minorgridcolor": "white",
             "startlinecolor": "#2a3f5f"
            },
            "baxis": {
             "endlinecolor": "#2a3f5f",
             "gridcolor": "white",
             "linecolor": "white",
             "minorgridcolor": "white",
             "startlinecolor": "#2a3f5f"
            },
            "type": "carpet"
           }
          ],
          "choropleth": [
           {
            "colorbar": {
             "outlinewidth": 0,
             "ticks": ""
            },
            "type": "choropleth"
           }
          ],
          "contour": [
           {
            "colorbar": {
             "outlinewidth": 0,
             "ticks": ""
            },
            "colorscale": [
             [
              0,
              "#0d0887"
             ],
             [
              0.1111111111111111,
              "#46039f"
             ],
             [
              0.2222222222222222,
              "#7201a8"
             ],
             [
              0.3333333333333333,
              "#9c179e"
             ],
             [
              0.4444444444444444,
              "#bd3786"
             ],
             [
              0.5555555555555556,
              "#d8576b"
             ],
             [
              0.6666666666666666,
              "#ed7953"
             ],
             [
              0.7777777777777778,
              "#fb9f3a"
             ],
             [
              0.8888888888888888,
              "#fdca26"
             ],
             [
              1,
              "#f0f921"
             ]
            ],
            "type": "contour"
           }
          ],
          "contourcarpet": [
           {
            "colorbar": {
             "outlinewidth": 0,
             "ticks": ""
            },
            "type": "contourcarpet"
           }
          ],
          "heatmap": [
           {
            "colorbar": {
             "outlinewidth": 0,
             "ticks": ""
            },
            "colorscale": [
             [
              0,
              "#0d0887"
             ],
             [
              0.1111111111111111,
              "#46039f"
             ],
             [
              0.2222222222222222,
              "#7201a8"
             ],
             [
              0.3333333333333333,
              "#9c179e"
             ],
             [
              0.4444444444444444,
              "#bd3786"
             ],
             [
              0.5555555555555556,
              "#d8576b"
             ],
             [
              0.6666666666666666,
              "#ed7953"
             ],
             [
              0.7777777777777778,
              "#fb9f3a"
             ],
             [
              0.8888888888888888,
              "#fdca26"
             ],
             [
              1,
              "#f0f921"
             ]
            ],
            "type": "heatmap"
           }
          ],
          "heatmapgl": [
           {
            "colorbar": {
             "outlinewidth": 0,
             "ticks": ""
            },
            "colorscale": [
             [
              0,
              "#0d0887"
             ],
             [
              0.1111111111111111,
              "#46039f"
             ],
             [
              0.2222222222222222,
              "#7201a8"
             ],
             [
              0.3333333333333333,
              "#9c179e"
             ],
             [
              0.4444444444444444,
              "#bd3786"
             ],
             [
              0.5555555555555556,
              "#d8576b"
             ],
             [
              0.6666666666666666,
              "#ed7953"
             ],
             [
              0.7777777777777778,
              "#fb9f3a"
             ],
             [
              0.8888888888888888,
              "#fdca26"
             ],
             [
              1,
              "#f0f921"
             ]
            ],
            "type": "heatmapgl"
           }
          ],
          "histogram": [
           {
            "marker": {
             "colorbar": {
              "outlinewidth": 0,
              "ticks": ""
             }
            },
            "type": "histogram"
           }
          ],
          "histogram2d": [
           {
            "colorbar": {
             "outlinewidth": 0,
             "ticks": ""
            },
            "colorscale": [
             [
              0,
              "#0d0887"
             ],
             [
              0.1111111111111111,
              "#46039f"
             ],
             [
              0.2222222222222222,
              "#7201a8"
             ],
             [
              0.3333333333333333,
              "#9c179e"
             ],
             [
              0.4444444444444444,
              "#bd3786"
             ],
             [
              0.5555555555555556,
              "#d8576b"
             ],
             [
              0.6666666666666666,
              "#ed7953"
             ],
             [
              0.7777777777777778,
              "#fb9f3a"
             ],
             [
              0.8888888888888888,
              "#fdca26"
             ],
             [
              1,
              "#f0f921"
             ]
            ],
            "type": "histogram2d"
           }
          ],
          "histogram2dcontour": [
           {
            "colorbar": {
             "outlinewidth": 0,
             "ticks": ""
            },
            "colorscale": [
             [
              0,
              "#0d0887"
             ],
             [
              0.1111111111111111,
              "#46039f"
             ],
             [
              0.2222222222222222,
              "#7201a8"
             ],
             [
              0.3333333333333333,
              "#9c179e"
             ],
             [
              0.4444444444444444,
              "#bd3786"
             ],
             [
              0.5555555555555556,
              "#d8576b"
             ],
             [
              0.6666666666666666,
              "#ed7953"
             ],
             [
              0.7777777777777778,
              "#fb9f3a"
             ],
             [
              0.8888888888888888,
              "#fdca26"
             ],
             [
              1,
              "#f0f921"
             ]
            ],
            "type": "histogram2dcontour"
           }
          ],
          "mesh3d": [
           {
            "colorbar": {
             "outlinewidth": 0,
             "ticks": ""
            },
            "type": "mesh3d"
           }
          ],
          "parcoords": [
           {
            "line": {
             "colorbar": {
              "outlinewidth": 0,
              "ticks": ""
             }
            },
            "type": "parcoords"
           }
          ],
          "pie": [
           {
            "automargin": true,
            "type": "pie"
           }
          ],
          "scatter": [
           {
            "marker": {
             "colorbar": {
              "outlinewidth": 0,
              "ticks": ""
             }
            },
            "type": "scatter"
           }
          ],
          "scatter3d": [
           {
            "line": {
             "colorbar": {
              "outlinewidth": 0,
              "ticks": ""
             }
            },
            "marker": {
             "colorbar": {
              "outlinewidth": 0,
              "ticks": ""
             }
            },
            "type": "scatter3d"
           }
          ],
          "scattercarpet": [
           {
            "marker": {
             "colorbar": {
              "outlinewidth": 0,
              "ticks": ""
             }
            },
            "type": "scattercarpet"
           }
          ],
          "scattergeo": [
           {
            "marker": {
             "colorbar": {
              "outlinewidth": 0,
              "ticks": ""
             }
            },
            "type": "scattergeo"
           }
          ],
          "scattergl": [
           {
            "marker": {
             "colorbar": {
              "outlinewidth": 0,
              "ticks": ""
             }
            },
            "type": "scattergl"
           }
          ],
          "scattermapbox": [
           {
            "marker": {
             "colorbar": {
              "outlinewidth": 0,
              "ticks": ""
             }
            },
            "type": "scattermapbox"
           }
          ],
          "scatterpolar": [
           {
            "marker": {
             "colorbar": {
              "outlinewidth": 0,
              "ticks": ""
             }
            },
            "type": "scatterpolar"
           }
          ],
          "scatterpolargl": [
           {
            "marker": {
             "colorbar": {
              "outlinewidth": 0,
              "ticks": ""
             }
            },
            "type": "scatterpolargl"
           }
          ],
          "scatterternary": [
           {
            "marker": {
             "colorbar": {
              "outlinewidth": 0,
              "ticks": ""
             }
            },
            "type": "scatterternary"
           }
          ],
          "surface": [
           {
            "colorbar": {
             "outlinewidth": 0,
             "ticks": ""
            },
            "colorscale": [
             [
              0,
              "#0d0887"
             ],
             [
              0.1111111111111111,
              "#46039f"
             ],
             [
              0.2222222222222222,
              "#7201a8"
             ],
             [
              0.3333333333333333,
              "#9c179e"
             ],
             [
              0.4444444444444444,
              "#bd3786"
             ],
             [
              0.5555555555555556,
              "#d8576b"
             ],
             [
              0.6666666666666666,
              "#ed7953"
             ],
             [
              0.7777777777777778,
              "#fb9f3a"
             ],
             [
              0.8888888888888888,
              "#fdca26"
             ],
             [
              1,
              "#f0f921"
             ]
            ],
            "type": "surface"
           }
          ],
          "table": [
           {
            "cells": {
             "fill": {
              "color": "#EBF0F8"
             },
             "line": {
              "color": "white"
             }
            },
            "header": {
             "fill": {
              "color": "#C8D4E3"
             },
             "line": {
              "color": "white"
             }
            },
            "type": "table"
           }
          ]
         },
         "layout": {
          "annotationdefaults": {
           "arrowcolor": "#2a3f5f",
           "arrowhead": 0,
           "arrowwidth": 1
          },
          "autotypenumbers": "strict",
          "coloraxis": {
           "colorbar": {
            "outlinewidth": 0,
            "ticks": ""
           }
          },
          "colorscale": {
           "diverging": [
            [
             0,
             "#8e0152"
            ],
            [
             0.1,
             "#c51b7d"
            ],
            [
             0.2,
             "#de77ae"
            ],
            [
             0.3,
             "#f1b6da"
            ],
            [
             0.4,
             "#fde0ef"
            ],
            [
             0.5,
             "#f7f7f7"
            ],
            [
             0.6,
             "#e6f5d0"
            ],
            [
             0.7,
             "#b8e186"
            ],
            [
             0.8,
             "#7fbc41"
            ],
            [
             0.9,
             "#4d9221"
            ],
            [
             1,
             "#276419"
            ]
           ],
           "sequential": [
            [
             0,
             "#0d0887"
            ],
            [
             0.1111111111111111,
             "#46039f"
            ],
            [
             0.2222222222222222,
             "#7201a8"
            ],
            [
             0.3333333333333333,
             "#9c179e"
            ],
            [
             0.4444444444444444,
             "#bd3786"
            ],
            [
             0.5555555555555556,
             "#d8576b"
            ],
            [
             0.6666666666666666,
             "#ed7953"
            ],
            [
             0.7777777777777778,
             "#fb9f3a"
            ],
            [
             0.8888888888888888,
             "#fdca26"
            ],
            [
             1,
             "#f0f921"
            ]
           ],
           "sequentialminus": [
            [
             0,
             "#0d0887"
            ],
            [
             0.1111111111111111,
             "#46039f"
            ],
            [
             0.2222222222222222,
             "#7201a8"
            ],
            [
             0.3333333333333333,
             "#9c179e"
            ],
            [
             0.4444444444444444,
             "#bd3786"
            ],
            [
             0.5555555555555556,
             "#d8576b"
            ],
            [
             0.6666666666666666,
             "#ed7953"
            ],
            [
             0.7777777777777778,
             "#fb9f3a"
            ],
            [
             0.8888888888888888,
             "#fdca26"
            ],
            [
             1,
             "#f0f921"
            ]
           ]
          },
          "colorway": [
           "#636efa",
           "#EF553B",
           "#00cc96",
           "#ab63fa",
           "#FFA15A",
           "#19d3f3",
           "#FF6692",
           "#B6E880",
           "#FF97FF",
           "#FECB52"
          ],
          "font": {
           "color": "#2a3f5f"
          },
          "geo": {
           "bgcolor": "white",
           "lakecolor": "white",
           "landcolor": "#E5ECF6",
           "showlakes": true,
           "showland": true,
           "subunitcolor": "white"
          },
          "hoverlabel": {
           "align": "left"
          },
          "hovermode": "closest",
          "mapbox": {
           "style": "light"
          },
          "paper_bgcolor": "white",
          "plot_bgcolor": "#E5ECF6",
          "polar": {
           "angularaxis": {
            "gridcolor": "white",
            "linecolor": "white",
            "ticks": ""
           },
           "bgcolor": "#E5ECF6",
           "radialaxis": {
            "gridcolor": "white",
            "linecolor": "white",
            "ticks": ""
           }
          },
          "scene": {
           "xaxis": {
            "backgroundcolor": "#E5ECF6",
            "gridcolor": "white",
            "gridwidth": 2,
            "linecolor": "white",
            "showbackground": true,
            "ticks": "",
            "zerolinecolor": "white"
           },
           "yaxis": {
            "backgroundcolor": "#E5ECF6",
            "gridcolor": "white",
            "gridwidth": 2,
            "linecolor": "white",
            "showbackground": true,
            "ticks": "",
            "zerolinecolor": "white"
           },
           "zaxis": {
            "backgroundcolor": "#E5ECF6",
            "gridcolor": "white",
            "gridwidth": 2,
            "linecolor": "white",
            "showbackground": true,
            "ticks": "",
            "zerolinecolor": "white"
           }
          },
          "shapedefaults": {
           "line": {
            "color": "#2a3f5f"
           }
          },
          "ternary": {
           "aaxis": {
            "gridcolor": "white",
            "linecolor": "white",
            "ticks": ""
           },
           "baxis": {
            "gridcolor": "white",
            "linecolor": "white",
            "ticks": ""
           },
           "bgcolor": "#E5ECF6",
           "caxis": {
            "gridcolor": "white",
            "linecolor": "white",
            "ticks": ""
           }
          },
          "title": {
           "x": 0.05
          },
          "xaxis": {
           "automargin": true,
           "gridcolor": "white",
           "linecolor": "white",
           "ticks": "",
           "title": {
            "standoff": 15
           },
           "zerolinecolor": "white",
           "zerolinewidth": 2
          },
          "yaxis": {
           "automargin": true,
           "gridcolor": "white",
           "linecolor": "white",
           "ticks": "",
           "title": {
            "standoff": 15
           },
           "zerolinecolor": "white",
           "zerolinewidth": 2
          }
         }
        },
        "title": {
         "text": "Distribution of Similarity to Aspiration Words"
        },
        "width": 1100,
        "xaxis": {
         "title": {
          "text": "Similarity Score"
         }
        },
        "yaxis": {
         "title": {
          "text": "Word Frequency"
         }
        }
       }
      }
     },
     "metadata": {},
     "output_type": "display_data"
    }
   ],
   "source": [
    "fig = go.Figure(data=[go.Histogram(x=word_similarity,marker_color='rgb(95, 70, 144)')])\n",
    "\n",
    "fig.update_layout(\n",
    "    title=\"Distribution of Similarity to Aspiration Words\",\n",
    "    xaxis_title=\"Similarity Score\",\n",
    "    yaxis_title=\"Word Frequency\",\n",
    "    width=1100,\n",
    "    height=400\n",
    ")\n",
    "# fig.write_image('similarity_aspiration.png', scale=2)\n",
    "\n",
    "fig.show()"
   ]
  },
  {
   "cell_type": "markdown",
   "metadata": {},
   "source": [
    "Most of the words are positively similar, which suggests that there is a generally present link to aspirations "
   ]
  },
  {
   "cell_type": "markdown",
   "metadata": {},
   "source": [
    "### 3.3 Similarity to investing\n",
    "Using the same process as when computing the similarity to aspiration words (see 3.2), similairty to the term \"invest\" is calculated."
   ]
  },
  {
   "cell_type": "code",
   "execution_count": null,
   "metadata": {},
   "outputs": [
    {
     "name": "stderr",
     "output_type": "stream",
     "text": [
      "C:\\Users\\joyji\\Anaconda3\\envs\\myenv\\lib\\site-packages\\ipykernel_launcher.py:2: UserWarning:\n",
      "\n",
      "[W008] Evaluating Doc.similarity based on empty vectors.\n",
      "\n"
     ]
    },
    {
     "data": {
      "application/vnd.plotly.v1+json": {
       "config": {
        "plotlyServerURL": "https://plot.ly"
       },
       "data": [
        {
         "marker": {
          "color": "rgb(95, 70, 144)"
         },
         "type": "histogram",
         "x": [
          0.3522770637739698,
          -0.03858241943378071,
          0.2954135290734829,
          0,
          0.32312970721433737,
          0,
          0.19199199778430615,
          0.2501338358910596,
          0,
          0.2718094363631044,
          0.34465029511782397,
          0.2757725792597217,
          0.3047660015910187,
          0.3878739208082656,
          0,
          0.3267679187893021,
          0.48048117756812136,
          0.5730785687031635,
          0.38526906112577464,
          0.08872070876534711,
          -0.03599349833867754,
          0.10920427437697931,
          0.25847774444562244,
          0.1546227755258519,
          0.2876336938125205,
          0.15956713708580048,
          0.13386085244675255,
          0.37321892103161863,
          0.05897490126758191,
          0,
          0,
          -0.04390225804377987,
          -0.11097796796342438,
          0,
          0.31631972588936724,
          0.2284404516381463,
          0.18618954632960658,
          0.39311534386750807,
          0,
          0,
          0.5085157958410581,
          0.2628924908262054,
          0.14711401382736602,
          0,
          0.5149717611042115,
          0.3299304353107365,
          0,
          0.5031765162092299,
          0.225910493295521,
          0,
          0.4092496047677732,
          -0.09863792951451945,
          0.06245420425823944,
          0.08296822359415257,
          0,
          0,
          0,
          0,
          0.2167690789893545,
          0.2787062736777439,
          0.3178710342856497,
          0.1267248750949187,
          0,
          0,
          0.3705882988204975,
          0,
          0.4324519452577534,
          0.2899413080647481,
          0,
          0.14246748162881562,
          0.4056490758312104,
          -0.07203204254646677,
          0.1406389512428853,
          0.3256291042586864,
          0.4365541411388559,
          0.4549867740389029,
          0.38094429400942403,
          0.29816809780920955,
          0.3558575902307909,
          0.2713736857709651,
          0,
          -0.05061419516455053,
          0.327840684684835,
          0.3169279329532258,
          0.16704348240591566,
          0.24589381251352618,
          0,
          0.4360926202253327,
          0.26671028777255257,
          -0.10289512547587584,
          0.12190199340707808,
          0.20966169989422226,
          0,
          0,
          0.15569369815441397,
          0.3247688284876847,
          0.265154141191173,
          0.48319310188851394,
          0.11832278865963104,
          0.15654481405495743,
          1,
          0.6030104700931138,
          0.14643299570712617,
          -0.1274755585183956,
          0.24118436705142174,
          0.305475591921463,
          0.15175442658858215,
          0.199021060388821,
          0.37207481982133694,
          0.14892109997231112,
          0.24717263321175256,
          0.3078889286094462,
          0.4364736743359366,
          0.32535221240657936,
          0.24050081650156732,
          0,
          0.3250575557280662,
          0.18127952906494518,
          0.108015964473427,
          0.2987374660784276,
          0.33229834161636074,
          0.22918952938102297,
          0.20179261570405033,
          0.18524038895163716,
          0.4940840810181293,
          0.5235717987744007,
          0.07445994094185719,
          0.3367784528521782,
          0.13018788569695178,
          0.6535385226991948,
          0.08258820712028951,
          0.1294066376135853,
          0.14316699095727195,
          0.43672466152263517,
          0.5307755103081161,
          0,
          0.43690852039189115,
          0.2816350066790898,
          0.2230883869639346,
          -0.05061419516455053,
          0.3827274962569039,
          0,
          0.2071567879765978,
          0.24065793077910594,
          0.3102835130128686,
          0.0943246010007024,
          0.02262488060063327,
          0.34912648868831464,
          0.11817779434027878,
          0.2977021122057555,
          0.46389763581578825,
          0.2714759929728886,
          0.23373452176787166,
          -0.03431981164280402,
          0.30078862308443205,
          -0.06463529547449436,
          0.35739104993606247,
          0.28591830695747744,
          0.3184687673460841,
          0.3003549877656465,
          0.0714621666979104,
          0.40530635369218426,
          0,
          0,
          0.344890142542093,
          0,
          0.38426328834469575,
          0,
          0.30444483511174913,
          0.40707266552285104,
          0,
          0.28172776544653216,
          0.3788605005819531,
          0.13087029576989417,
          0.2878950280106313,
          0.2688706084888668,
          0,
          0,
          0.21096702581344912,
          0,
          0.3336693487871281,
          0.34638903587082875,
          0.38680902161243585,
          0.07445994094185719,
          0.3024206744022008,
          0.23152455894021512,
          0.1922119528746989,
          0.38313562163114523,
          0.39205331957174266,
          0.3040523685151185,
          -0.031113630268631717,
          0.13918528983105072,
          0.27688021998904233,
          0.47000935153597573,
          0.1535837189585147,
          0.27238098010349815,
          0.11782520114114262,
          0.22499912077930848,
          0.3075937498500326,
          0.3306348624155469,
          0.31991907442666284,
          0.2634381380693893,
          0.23639727032662225,
          0.3951664678832609,
          0.40003012929177134,
          0,
          0.3678306510705548,
          0.33555677034211695,
          0,
          0.5112276779806447,
          0,
          0.3276149959570732,
          0.2324371432791767,
          0.5122988710644093,
          0.23791317201373965,
          0.16493289043798812,
          0.2196545486795537,
          0.2407765177657302,
          0.4087788511457056,
          0.323972801417763,
          0.338959133727337,
          0.2957017729325691,
          0.3522770637739698,
          0.15956713708580048,
          0,
          0,
          0,
          0.38094429400942403,
          0.15569369815441397,
          1,
          0.37207481982133694,
          0.24717263321175256,
          0.18127952906494518,
          0.5235717987744007,
          0.34912648868831464,
          0.30078862308443205,
          -0.06463529547449436,
          0.35739104993606247,
          0.3184687673460841,
          0.39205331957174266,
          -0.031113630268631717,
          0.27238098010349815,
          0.23639727032662225,
          0.3951664678832609,
          0.5112276779806447,
          0.338959133727337,
          0.2730499232964117,
          0,
          0,
          0,
          0.23274044445985992,
          0.17767620585211924,
          0.507705209890655,
          0.42868307194603195,
          0.3516532334787627,
          0,
          0.11959511593955684,
          0.28310391406777036,
          0.5035598033681715,
          0.3391883754258543,
          0.0551422551626031,
          0,
          -0.05061419516455053,
          0,
          0,
          0.19469829792291557,
          0.15878516082977095,
          0,
          0.376261068944475,
          0.18831142373131513,
          0,
          0.3508474662940323,
          0.30813358634851135,
          0.15129520159847404,
          0.24883493851821173,
          0,
          0.19177181132970197,
          0.11323128535814075,
          0.30283984832307814,
          0.19789947165596783,
          0.6610171904172332,
          0.1747108280508812,
          0,
          0.16690110697371638,
          0.1992682026494011,
          0.3139459694197903,
          0.2611274001163125,
          0.2400625594610235,
          0.43119448846819725,
          -0.09374950169509096,
          0.5740757802815193,
          0.24868307184221922,
          0,
          0.5332285319614227,
          0,
          0.08613560389067991,
          0,
          0.37676348111712227,
          0.0939871917660328,
          0,
          0.31908017074888884,
          0.11203152657336093,
          0,
          0.47949011248791334,
          0.13641144219831722,
          0.32005110585994706,
          0,
          0,
          0.1555221982786853,
          0,
          -0.03858241943378071,
          0,
          0.3522770637739698,
          0.34465029511782397,
          0.48048117756812136,
          0.5730785687031635,
          -0.03599349833867754,
          0.25847774444562244,
          0,
          0,
          0.2284404516381463,
          0.2628924908262054,
          0,
          0,
          0,
          0.3178710342856497,
          0,
          0.2899413080647481,
          0.1406389512428853,
          0.4549867740389029,
          0.2713736857709651,
          0.4360926202253327,
          0.15569369815441397,
          0.48319310188851394,
          1,
          0.6030104700931138,
          0.14643299570712617,
          0.37207481982133694,
          0.24717263321175256,
          0.4364736743359366,
          0.108015964473427,
          0.2987374660784276,
          0.4940840810181293,
          0.5235717987744007,
          0.43690852039189115,
          0.2230883869639346,
          0.2977021122057555,
          0.2714759929728886,
          0.23373452176787166,
          0.35739104993606247,
          0,
          0.30444483511174913,
          0.40707266552285104,
          0.3788605005819531,
          0.38313562163114523,
          0.39205331957174266,
          0.3040523685151185,
          0.3306348624155469,
          0.31991907442666284,
          0.23639727032662225,
          0.3951664678832609,
          0.5122988710644093,
          0.507705209890655,
          0.42868307194603195,
          0.0551422551626031,
          0.19469829792291557,
          0.15878516082977095,
          0.376261068944475,
          0,
          0.19789947165596783,
          0.6610171904172332,
          0.16690110697371638,
          0.3139459694197903,
          0,
          0.5332285319614227,
          0.37676348111712227,
          0.47949011248791334,
          -0.10216349136620502,
          0.16807982820911316,
          0.01557949323387705,
          0.5712405238046618,
          0,
          0.4539883597462872,
          0.39034181362365405,
          -0.06372252774308389,
          0.20383484884664624,
          0.4158035159071618,
          0.22256253870685927,
          0.01689180134985379,
          0,
          -0.029820137958905008,
          -0.00958968077309511,
          0.25915696972324087,
          0.2997439200279491,
          0.2374679337814038,
          0,
          0.21819705323815577,
          0.4936110100427245,
          0.17841714512532408,
          0.14279819566226445,
          0.46818810820883805,
          0.22534664628250495,
          0,
          0.037922286436210845,
          0.5130497435149712,
          0,
          0.2784530306405249,
          0.22932717927493268,
          0,
          0,
          0.44176865610406413,
          0.2564951341875009,
          0.4997540319199459,
          0.057908063079790704,
          0.25344304976994275,
          0.3134024267569543,
          0.169812476582846,
          0.270159612626413,
          0,
          0.033127238338014474,
          0.22174020944255668,
          0.26062726116839235,
          0.286756920835071,
          0.24806527731672706,
          0.29264307452460286,
          0.307851099748304,
          0,
          0.46170248368711836,
          0.24815313883276685,
          0.23096568613317253,
          0.01795889956765963,
          0.3205349569820153,
          0.38755773246065567,
          0.4332447252508115,
          0.21885544115731168,
          0,
          0.2286198605423223,
          0,
          0,
          0.3485871864812006,
          0.3312524863534355,
          0.3358930650586737,
          0.36759755159906077,
          0.1839420887858686,
          0,
          0.5817893614900078,
          0.26908791634752477,
          0.19299871393700885,
          0.1587286336039987,
          0.2730156535938967,
          0.2213004502834953,
          0.48254590240047546,
          0.2679546494676259,
          0.20142230542399805,
          0.38363997760120033,
          0.29833984928912194,
          0.38255776881120446,
          0.310717050025955,
          0.2051485370216858,
          0,
          0,
          0.22075332516300986,
          0.4426268982545029,
          -0.04049854524489767,
          0.40936618329488544,
          0.5496884771569939,
          0.32365522033734606,
          0.48048117756812136,
          0,
          0,
          0,
          0.3178710342856497,
          0,
          0,
          0.4324519452577534,
          1,
          0.6030104700931138,
          0.14892109997231112,
          0.5235717987744007,
          0.6535385226991948,
          0.5307755103081161,
          0.23373452176787166,
          0,
          0.38313562163114523,
          0.39205331957174266,
          0.23639727032662225,
          0.3951664678832609,
          0.323972801417763,
          0.338959133727337,
          0.42868307194603195,
          0.19789947165596783,
          0.3139459694197903,
          0.01557949323387705,
          0.20383484884664624,
          0.4158035159071618,
          -0.00958968077309511,
          0.17841714512532408,
          0.46818810820883805,
          0.24806527731672706,
          0.3205349569820153,
          0.3312524863534355,
          0.26908791634752477,
          0.29833984928912194,
          0.38255776881120446,
          0.217827046427274,
          0.042210585513686234,
          0.3830542354700752,
          -0.025629088046920937,
          0.4037262091090295,
          0.017243050840480452,
          0.30229444773742964,
          -0.030752470841944882,
          0.17110204103289442,
          0.10860194162488435,
          0.09574194803204097,
          0.09430068116114679,
          0.09077708443525,
          0,
          0.297421145046828,
          0,
          0,
          0.01151741617755113,
          0,
          0.16402510639261703,
          0.36547317403747454,
          0.44182808514892685,
          -0.03431981164280402,
          0.2539780960863833,
          0.2568635857746648,
          -0.025629088046920937,
          0.3522770637739698,
          0.34465029511782397,
          0.3878739208082656,
          0,
          0.48048117756812136,
          0.05897490126758191,
          0,
          0,
          0,
          0,
          0,
          0.38094429400942403,
          0.29816809780920955,
          0.15569369815441397,
          1,
          0.3250575557280662,
          0.108015964473427,
          0.5235717987744007,
          0.6535385226991948,
          0.43690852039189115,
          0.2230883869639346,
          0.46389763581578825,
          0,
          0.38313562163114523,
          0.39205331957174266,
          0.3951664678832609,
          0.5112276779806447,
          0.5122988710644093,
          0.323972801417763,
          0.2957017729325691,
          0.0551422551626031,
          0.19469829792291557,
          0.11323128535814075,
          0.30283984832307814,
          0.19789947165596783,
          0.6610171904172332,
          0.43119448846819725,
          0.37676348111712227,
          0.47949011248791334,
          0,
          0.16807982820911316,
          0.17841714512532408,
          0,
          0.5130497435149712,
          0,
          0.22174020944255668,
          0.24815313883276685,
          0.01795889956765963,
          0,
          0.3358930650586737,
          0.1839420887858686,
          0,
          0.40462452239386754,
          0.1444402289346917,
          0.2919723496694253,
          0.06072621938334746,
          0,
          0.4223627641961166,
          0.17581142455222412,
          0.1289203742833323,
          0.12143019401920566,
          0,
          0,
          0.21464167666719594,
          0,
          0.21867478552298272,
          0,
          0.011032595487093318,
          0.29714354523551767,
          0.4819125648397848,
          0.3318343948526276,
          -0.02257847481736795,
          0.43594863268891326,
          0.4440383664156877,
          0.17937413302991254,
          0.13926899632107154,
          0.2246350095306192,
          -0.025629088046920937,
          0.2815055924061334,
          0.24578372964683143,
          0.2782642441210138,
          0.4114944873498809,
          0.07013797046916077,
          0,
          0.19135643207668251,
          0.2566617637949016,
          0.3522770637739698,
          0,
          0.34465029511782397,
          0.3878739208082656,
          0,
          0.5730785687031635,
          0.08872070876534711,
          0.10920427437697931,
          0.25847774444562244,
          0,
          0,
          -0.04390225804377987,
          0.31631972588936724,
          0.2628924908262054,
          0,
          0,
          0,
          0.3178710342856497,
          0,
          0,
          0.3705882988204975,
          0.14246748162881562,
          -0.07203204254646677,
          0.4365541411388559,
          0.38094429400942403,
          0.4360926202253327,
          0.20966169989422226,
          0.15569369815441397,
          0.3247688284876847,
          1,
          0.6030104700931138,
          0.24118436705142174,
          0.3078889286094462,
          0.108015964473427,
          0.33229834161636074,
          0.4940840810181293,
          0.5235717987744007,
          0.3367784528521782,
          0.13018788569695178,
          0.43690852039189115,
          0.2816350066790898,
          0.2230883869639346,
          -0.05061419516455053,
          0.3827274962569039,
          0.3102835130128686,
          0.2977021122057555,
          0.2714759929728886,
          0.30078862308443205,
          0.3184687673460841,
          0,
          0,
          0.28172776544653216,
          0.3788605005819531,
          0,
          0.38680902161243585,
          0.38313562163114523,
          0.39205331957174266,
          0.27688021998904233,
          0.27238098010349815,
          0.3306348624155469,
          0.31991907442666284,
          0.23639727032662225,
          0.3951664678832609,
          0,
          0.3276149959570732,
          0.5122988710644093,
          0.2957017729325691,
          0.2730499232964117,
          0,
          0,
          0.42868307194603195,
          0.19469829792291557,
          0.376261068944475,
          0.18831142373131513,
          0.3508474662940323,
          0.30283984832307814,
          0.19789947165596783,
          0.6610171904172332,
          0.3139459694197903,
          0.43119448846819725,
          0.5332285319614227,
          0.37676348111712227,
          0,
          0,
          0.47949011248791334,
          0.1555221982786853,
          0.5712405238046618,
          0.25915696972324087,
          0,
          0.4936110100427245,
          0.17841714512532408,
          0.14279819566226445,
          0,
          0.037922286436210845,
          0.5130497435149712,
          0.2564951341875009,
          0.057908063079790704,
          0.25344304976994275,
          0.169812476582846,
          0.26062726116839235,
          0.29264307452460286,
          0.307851099748304,
          0.3205349569820153,
          0.38755773246065567,
          0,
          0.5817893614900078,
          0.26908791634752477,
          0.2679546494676259,
          0.29833984928912194,
          0.310717050025955,
          0,
          0.22075332516300986,
          0.4037262091090295,
          0.017243050840480452,
          0.36547317403747454,
          0.2539780960863833,
          -0.025629088046920937,
          0.06072621938334746,
          0.4223627641961166,
          0.4114944873498809,
          0.15454852745579578,
          -0.025629088046920937,
          0.1598320579977011,
          0,
          0.4070626127148148,
          0,
          0,
          0.28300209899591894,
          0,
          0.009825787584776806,
          0.0937853073338062,
          0.16290506214389933,
          0,
          0,
          0.20030315102318544,
          0,
          0.26253835640858114,
          0.3560716319419195,
          0,
          0,
          0.30711285551617307,
          0,
          0.3037299700780886,
          0,
          0,
          0.29296694390046046,
          0,
          0.22914567099564273,
          0.2416790081744169,
          0.28781825847919734,
          0.46535391524901765,
          0.18177523218123673,
          0.3264437502671112,
          0.15261305078993073,
          -0.060974288827172346,
          0,
          0.08195097805426918,
          0.2792039698237522,
          0,
          0,
          0.11976322876777037,
          0,
          0,
          0,
          0.2641738673207287,
          0.5289292842480613,
          0,
          0.38154477193588254,
          0,
          0,
          -0.05061419516455053,
          0.4311650470809627,
          0.38338796523798474,
          0,
          0,
          0.07368004409994298,
          0.300153805982617,
          0.18961431327348968,
          0.36445127503479113,
          0.17298538524978233,
          0.4111350841923883,
          0.057908063079790704,
          0.050283048963824184,
          0,
          0.24301249735587774,
          0.13671642297979655,
          0.2705092849805678,
          0.01335928489039624,
          -0.05040116174343594,
          0.3466255685661241,
          0,
          0,
          0.33713544477081986,
          0.053010529371664256,
          0.270159612626413,
          -0.04139359335130952,
          0.3073536484961418,
          0.21792724328886137,
          0.25102396005297695,
          0.33914535877760776,
          0,
          0.3024271627841502,
          0,
          0.2634213775509603,
          0.10671694886329282,
          0.2454255548137239,
          0,
          0.12701398026993382,
          0.5130497435149712,
          0.17897103365815523,
          0,
          0.3037299700780886,
          0.13268538188736873,
          0.04592914772217358,
          0,
          0.22681723213284163,
          0,
          0,
          0.2657486113078895,
          -0.025629088046920937,
          0.24255733448902192,
          -0.08604192863365609,
          0.3668724169130555,
          0.21949585726659535,
          -0.1583695685301506,
          0,
          0,
          0,
          0.16229683168844655,
          0.17387175355945822,
          0,
          0.31052151377922,
          0,
          0.1992413083114751,
          0,
          0.14341617224846942,
          0.24834851481374576,
          0.27460967028499444,
          0.12256583567315353,
          -0.05061419516455053,
          0.024482217674557643,
          0.2492526745960662,
          -0.025629088046920937,
          0,
          0.34216888115277766,
          0,
          0.2107069733101202,
          0.2279097841835085,
          0.020900556896602928,
          0.3739472502665791,
          0,
          0,
          0,
          0,
          0,
          0,
          0,
          0.38346539401120533,
          0,
          0.20621398416518022,
          0.19004675373894822,
          0.1328995670574698
         ]
        }
       ],
       "layout": {
        "height": 400,
        "legend": {
         "title": {
          "text": "Legend Title"
         }
        },
        "template": {
         "data": {
          "bar": [
           {
            "error_x": {
             "color": "#2a3f5f"
            },
            "error_y": {
             "color": "#2a3f5f"
            },
            "marker": {
             "line": {
              "color": "#E5ECF6",
              "width": 0.5
             }
            },
            "type": "bar"
           }
          ],
          "barpolar": [
           {
            "marker": {
             "line": {
              "color": "#E5ECF6",
              "width": 0.5
             }
            },
            "type": "barpolar"
           }
          ],
          "carpet": [
           {
            "aaxis": {
             "endlinecolor": "#2a3f5f",
             "gridcolor": "white",
             "linecolor": "white",
             "minorgridcolor": "white",
             "startlinecolor": "#2a3f5f"
            },
            "baxis": {
             "endlinecolor": "#2a3f5f",
             "gridcolor": "white",
             "linecolor": "white",
             "minorgridcolor": "white",
             "startlinecolor": "#2a3f5f"
            },
            "type": "carpet"
           }
          ],
          "choropleth": [
           {
            "colorbar": {
             "outlinewidth": 0,
             "ticks": ""
            },
            "type": "choropleth"
           }
          ],
          "contour": [
           {
            "colorbar": {
             "outlinewidth": 0,
             "ticks": ""
            },
            "colorscale": [
             [
              0,
              "#0d0887"
             ],
             [
              0.1111111111111111,
              "#46039f"
             ],
             [
              0.2222222222222222,
              "#7201a8"
             ],
             [
              0.3333333333333333,
              "#9c179e"
             ],
             [
              0.4444444444444444,
              "#bd3786"
             ],
             [
              0.5555555555555556,
              "#d8576b"
             ],
             [
              0.6666666666666666,
              "#ed7953"
             ],
             [
              0.7777777777777778,
              "#fb9f3a"
             ],
             [
              0.8888888888888888,
              "#fdca26"
             ],
             [
              1,
              "#f0f921"
             ]
            ],
            "type": "contour"
           }
          ],
          "contourcarpet": [
           {
            "colorbar": {
             "outlinewidth": 0,
             "ticks": ""
            },
            "type": "contourcarpet"
           }
          ],
          "heatmap": [
           {
            "colorbar": {
             "outlinewidth": 0,
             "ticks": ""
            },
            "colorscale": [
             [
              0,
              "#0d0887"
             ],
             [
              0.1111111111111111,
              "#46039f"
             ],
             [
              0.2222222222222222,
              "#7201a8"
             ],
             [
              0.3333333333333333,
              "#9c179e"
             ],
             [
              0.4444444444444444,
              "#bd3786"
             ],
             [
              0.5555555555555556,
              "#d8576b"
             ],
             [
              0.6666666666666666,
              "#ed7953"
             ],
             [
              0.7777777777777778,
              "#fb9f3a"
             ],
             [
              0.8888888888888888,
              "#fdca26"
             ],
             [
              1,
              "#f0f921"
             ]
            ],
            "type": "heatmap"
           }
          ],
          "heatmapgl": [
           {
            "colorbar": {
             "outlinewidth": 0,
             "ticks": ""
            },
            "colorscale": [
             [
              0,
              "#0d0887"
             ],
             [
              0.1111111111111111,
              "#46039f"
             ],
             [
              0.2222222222222222,
              "#7201a8"
             ],
             [
              0.3333333333333333,
              "#9c179e"
             ],
             [
              0.4444444444444444,
              "#bd3786"
             ],
             [
              0.5555555555555556,
              "#d8576b"
             ],
             [
              0.6666666666666666,
              "#ed7953"
             ],
             [
              0.7777777777777778,
              "#fb9f3a"
             ],
             [
              0.8888888888888888,
              "#fdca26"
             ],
             [
              1,
              "#f0f921"
             ]
            ],
            "type": "heatmapgl"
           }
          ],
          "histogram": [
           {
            "marker": {
             "colorbar": {
              "outlinewidth": 0,
              "ticks": ""
             }
            },
            "type": "histogram"
           }
          ],
          "histogram2d": [
           {
            "colorbar": {
             "outlinewidth": 0,
             "ticks": ""
            },
            "colorscale": [
             [
              0,
              "#0d0887"
             ],
             [
              0.1111111111111111,
              "#46039f"
             ],
             [
              0.2222222222222222,
              "#7201a8"
             ],
             [
              0.3333333333333333,
              "#9c179e"
             ],
             [
              0.4444444444444444,
              "#bd3786"
             ],
             [
              0.5555555555555556,
              "#d8576b"
             ],
             [
              0.6666666666666666,
              "#ed7953"
             ],
             [
              0.7777777777777778,
              "#fb9f3a"
             ],
             [
              0.8888888888888888,
              "#fdca26"
             ],
             [
              1,
              "#f0f921"
             ]
            ],
            "type": "histogram2d"
           }
          ],
          "histogram2dcontour": [
           {
            "colorbar": {
             "outlinewidth": 0,
             "ticks": ""
            },
            "colorscale": [
             [
              0,
              "#0d0887"
             ],
             [
              0.1111111111111111,
              "#46039f"
             ],
             [
              0.2222222222222222,
              "#7201a8"
             ],
             [
              0.3333333333333333,
              "#9c179e"
             ],
             [
              0.4444444444444444,
              "#bd3786"
             ],
             [
              0.5555555555555556,
              "#d8576b"
             ],
             [
              0.6666666666666666,
              "#ed7953"
             ],
             [
              0.7777777777777778,
              "#fb9f3a"
             ],
             [
              0.8888888888888888,
              "#fdca26"
             ],
             [
              1,
              "#f0f921"
             ]
            ],
            "type": "histogram2dcontour"
           }
          ],
          "mesh3d": [
           {
            "colorbar": {
             "outlinewidth": 0,
             "ticks": ""
            },
            "type": "mesh3d"
           }
          ],
          "parcoords": [
           {
            "line": {
             "colorbar": {
              "outlinewidth": 0,
              "ticks": ""
             }
            },
            "type": "parcoords"
           }
          ],
          "pie": [
           {
            "automargin": true,
            "type": "pie"
           }
          ],
          "scatter": [
           {
            "marker": {
             "colorbar": {
              "outlinewidth": 0,
              "ticks": ""
             }
            },
            "type": "scatter"
           }
          ],
          "scatter3d": [
           {
            "line": {
             "colorbar": {
              "outlinewidth": 0,
              "ticks": ""
             }
            },
            "marker": {
             "colorbar": {
              "outlinewidth": 0,
              "ticks": ""
             }
            },
            "type": "scatter3d"
           }
          ],
          "scattercarpet": [
           {
            "marker": {
             "colorbar": {
              "outlinewidth": 0,
              "ticks": ""
             }
            },
            "type": "scattercarpet"
           }
          ],
          "scattergeo": [
           {
            "marker": {
             "colorbar": {
              "outlinewidth": 0,
              "ticks": ""
             }
            },
            "type": "scattergeo"
           }
          ],
          "scattergl": [
           {
            "marker": {
             "colorbar": {
              "outlinewidth": 0,
              "ticks": ""
             }
            },
            "type": "scattergl"
           }
          ],
          "scattermapbox": [
           {
            "marker": {
             "colorbar": {
              "outlinewidth": 0,
              "ticks": ""
             }
            },
            "type": "scattermapbox"
           }
          ],
          "scatterpolar": [
           {
            "marker": {
             "colorbar": {
              "outlinewidth": 0,
              "ticks": ""
             }
            },
            "type": "scatterpolar"
           }
          ],
          "scatterpolargl": [
           {
            "marker": {
             "colorbar": {
              "outlinewidth": 0,
              "ticks": ""
             }
            },
            "type": "scatterpolargl"
           }
          ],
          "scatterternary": [
           {
            "marker": {
             "colorbar": {
              "outlinewidth": 0,
              "ticks": ""
             }
            },
            "type": "scatterternary"
           }
          ],
          "surface": [
           {
            "colorbar": {
             "outlinewidth": 0,
             "ticks": ""
            },
            "colorscale": [
             [
              0,
              "#0d0887"
             ],
             [
              0.1111111111111111,
              "#46039f"
             ],
             [
              0.2222222222222222,
              "#7201a8"
             ],
             [
              0.3333333333333333,
              "#9c179e"
             ],
             [
              0.4444444444444444,
              "#bd3786"
             ],
             [
              0.5555555555555556,
              "#d8576b"
             ],
             [
              0.6666666666666666,
              "#ed7953"
             ],
             [
              0.7777777777777778,
              "#fb9f3a"
             ],
             [
              0.8888888888888888,
              "#fdca26"
             ],
             [
              1,
              "#f0f921"
             ]
            ],
            "type": "surface"
           }
          ],
          "table": [
           {
            "cells": {
             "fill": {
              "color": "#EBF0F8"
             },
             "line": {
              "color": "white"
             }
            },
            "header": {
             "fill": {
              "color": "#C8D4E3"
             },
             "line": {
              "color": "white"
             }
            },
            "type": "table"
           }
          ]
         },
         "layout": {
          "annotationdefaults": {
           "arrowcolor": "#2a3f5f",
           "arrowhead": 0,
           "arrowwidth": 1
          },
          "autotypenumbers": "strict",
          "coloraxis": {
           "colorbar": {
            "outlinewidth": 0,
            "ticks": ""
           }
          },
          "colorscale": {
           "diverging": [
            [
             0,
             "#8e0152"
            ],
            [
             0.1,
             "#c51b7d"
            ],
            [
             0.2,
             "#de77ae"
            ],
            [
             0.3,
             "#f1b6da"
            ],
            [
             0.4,
             "#fde0ef"
            ],
            [
             0.5,
             "#f7f7f7"
            ],
            [
             0.6,
             "#e6f5d0"
            ],
            [
             0.7,
             "#b8e186"
            ],
            [
             0.8,
             "#7fbc41"
            ],
            [
             0.9,
             "#4d9221"
            ],
            [
             1,
             "#276419"
            ]
           ],
           "sequential": [
            [
             0,
             "#0d0887"
            ],
            [
             0.1111111111111111,
             "#46039f"
            ],
            [
             0.2222222222222222,
             "#7201a8"
            ],
            [
             0.3333333333333333,
             "#9c179e"
            ],
            [
             0.4444444444444444,
             "#bd3786"
            ],
            [
             0.5555555555555556,
             "#d8576b"
            ],
            [
             0.6666666666666666,
             "#ed7953"
            ],
            [
             0.7777777777777778,
             "#fb9f3a"
            ],
            [
             0.8888888888888888,
             "#fdca26"
            ],
            [
             1,
             "#f0f921"
            ]
           ],
           "sequentialminus": [
            [
             0,
             "#0d0887"
            ],
            [
             0.1111111111111111,
             "#46039f"
            ],
            [
             0.2222222222222222,
             "#7201a8"
            ],
            [
             0.3333333333333333,
             "#9c179e"
            ],
            [
             0.4444444444444444,
             "#bd3786"
            ],
            [
             0.5555555555555556,
             "#d8576b"
            ],
            [
             0.6666666666666666,
             "#ed7953"
            ],
            [
             0.7777777777777778,
             "#fb9f3a"
            ],
            [
             0.8888888888888888,
             "#fdca26"
            ],
            [
             1,
             "#f0f921"
            ]
           ]
          },
          "colorway": [
           "#636efa",
           "#EF553B",
           "#00cc96",
           "#ab63fa",
           "#FFA15A",
           "#19d3f3",
           "#FF6692",
           "#B6E880",
           "#FF97FF",
           "#FECB52"
          ],
          "font": {
           "color": "#2a3f5f"
          },
          "geo": {
           "bgcolor": "white",
           "lakecolor": "white",
           "landcolor": "#E5ECF6",
           "showlakes": true,
           "showland": true,
           "subunitcolor": "white"
          },
          "hoverlabel": {
           "align": "left"
          },
          "hovermode": "closest",
          "mapbox": {
           "style": "light"
          },
          "paper_bgcolor": "white",
          "plot_bgcolor": "#E5ECF6",
          "polar": {
           "angularaxis": {
            "gridcolor": "white",
            "linecolor": "white",
            "ticks": ""
           },
           "bgcolor": "#E5ECF6",
           "radialaxis": {
            "gridcolor": "white",
            "linecolor": "white",
            "ticks": ""
           }
          },
          "scene": {
           "xaxis": {
            "backgroundcolor": "#E5ECF6",
            "gridcolor": "white",
            "gridwidth": 2,
            "linecolor": "white",
            "showbackground": true,
            "ticks": "",
            "zerolinecolor": "white"
           },
           "yaxis": {
            "backgroundcolor": "#E5ECF6",
            "gridcolor": "white",
            "gridwidth": 2,
            "linecolor": "white",
            "showbackground": true,
            "ticks": "",
            "zerolinecolor": "white"
           },
           "zaxis": {
            "backgroundcolor": "#E5ECF6",
            "gridcolor": "white",
            "gridwidth": 2,
            "linecolor": "white",
            "showbackground": true,
            "ticks": "",
            "zerolinecolor": "white"
           }
          },
          "shapedefaults": {
           "line": {
            "color": "#2a3f5f"
           }
          },
          "ternary": {
           "aaxis": {
            "gridcolor": "white",
            "linecolor": "white",
            "ticks": ""
           },
           "baxis": {
            "gridcolor": "white",
            "linecolor": "white",
            "ticks": ""
           },
           "bgcolor": "#E5ECF6",
           "caxis": {
            "gridcolor": "white",
            "linecolor": "white",
            "ticks": ""
           }
          },
          "title": {
           "x": 0.05
          },
          "xaxis": {
           "automargin": true,
           "gridcolor": "white",
           "linecolor": "white",
           "ticks": "",
           "title": {
            "standoff": 15
           },
           "zerolinecolor": "white",
           "zerolinewidth": 2
          },
          "yaxis": {
           "automargin": true,
           "gridcolor": "white",
           "linecolor": "white",
           "ticks": "",
           "title": {
            "standoff": 15
           },
           "zerolinecolor": "white",
           "zerolinewidth": 2
          }
         }
        },
        "title": {
         "text": "Distribution of Similarity to 'invest'"
        },
        "width": 1100,
        "xaxis": {
         "title": {
          "text": "Similarity Score"
         }
        },
        "yaxis": {
         "title": {
          "text": "Word Frequency"
         }
        }
       }
      }
     },
     "metadata": {},
     "output_type": "display_data"
    }
   ],
   "source": [
    "invest_nlp = nlp('invest')\n",
    "invest_word_similarity = [word_nlp.similarity(invest_nlp) for word_nlp in all_words_nlp]\n",
    "\n",
    "fig = go.Figure(data=[go.Histogram(x=invest_word_similarity,marker_color='rgb(95, 70, 144)')])\n",
    "\n",
    "fig.update_layout(\n",
    "    title=\"Distribution of Similarity to 'invest'\",\n",
    "    xaxis_title=\"Similarity Score\",\n",
    "    yaxis_title=\"Word Frequency\",\n",
    "    legend_title=\"Legend Title\",\n",
    "    width=1100,\n",
    "    height=400\n",
    ")\n",
    "# fig.write_image('similarity_invest.png', scale=2)\n",
    "\n",
    "fig.show()"
   ]
  },
  {
   "cell_type": "markdown",
   "metadata": {},
   "source": [
    "## 4. Keyword Statistics"
   ]
  },
  {
   "cell_type": "markdown",
   "metadata": {},
   "source": [
    "### 4.1 Word Frequencies\n",
    "#### 4.1.1 Plotting Histograms\n",
    "This following code plots a simple stacked histogram of the most frequently used words by company."
   ]
  },
  {
   "cell_type": "code",
   "execution_count": null,
   "metadata": {},
   "outputs": [],
   "source": [
    "import plotly.express as px\n",
    "import plotly.graph_objects as go\n",
    "%matplotlib inline"
   ]
  },
  {
   "cell_type": "markdown",
   "metadata": {},
   "source": [
    "\"freq_df\" is a dataframe (table) that stores the number of times each word is used by each company, to be able to plot the  word frequency histogram"
   ]
  },
  {
   "cell_type": "code",
   "execution_count": null,
   "metadata": {},
   "outputs": [
    {
     "name": "stdout",
     "output_type": "stream",
     "text": [
      "Running...\n",
      "Running...\n",
      "Running...\n",
      "Running...\n",
      "Running...\n",
      "Running...\n"
     ]
    }
   ],
   "source": [
    "# creating the dataframe for the stacked histogram\n",
    "freq_df = pd.DataFrame()\n",
    "j=0\n",
    "\n",
    "for company in bow_corpus:\n",
    "    freq_counts = {}\n",
    "    print('Running...')\n",
    "    for i in range(len(company)):\n",
    "        word=dictionary[company[i][0]]\n",
    "        count=company[i][1]\n",
    "        if word not in freq_counts.keys():\n",
    "            freq_counts[word]=count\n",
    "        else:\n",
    "            freq_counts[word]+=count\n",
    "    comp_df = pd.DataFrame.from_dict(freq_counts, orient='index', columns=company_df['company'].iloc[[j]])\n",
    "    freq_df = freq_df.join(comp_df, how='outer')\n",
    "    j+=1\n",
    "\n",
    "freq_df.fillna(0, inplace=True)\n",
    "freq_df = freq_df.reset_index()\n",
    "freq_df = freq_df.rename(columns={'index':'word'})\n",
    "freq_df['total'] = freq_df.sum(axis=1, numeric_only=True)\n",
    "\n"
   ]
  },
  {
   "cell_type": "code",
   "execution_count": null,
   "metadata": {},
   "outputs": [],
   "source": [
    "# we only keep words that appear more than 6 times to remove infrequent words and reduce the size of the histigram\n",
    "filtered_freq_df = freq_df[freq_df['total']>=7]"
   ]
  },
  {
   "cell_type": "code",
   "execution_count": null,
   "metadata": {},
   "outputs": [
    {
     "data": {
      "text/html": [
       "<div>\n",
       "<style scoped>\n",
       "    .dataframe tbody tr th:only-of-type {\n",
       "        vertical-align: middle;\n",
       "    }\n",
       "\n",
       "    .dataframe tbody tr th {\n",
       "        vertical-align: top;\n",
       "    }\n",
       "\n",
       "    .dataframe thead th {\n",
       "        text-align: right;\n",
       "    }\n",
       "</style>\n",
       "<table border=\"1\" class=\"dataframe\">\n",
       "  <thead>\n",
       "    <tr style=\"text-align: right;\">\n",
       "      <th></th>\n",
       "      <th>word</th>\n",
       "      <th>e*trade</th>\n",
       "      <th>etoro</th>\n",
       "      <th>freetrade</th>\n",
       "      <th>robinhood</th>\n",
       "      <th>trading212</th>\n",
       "      <th>webull</th>\n",
       "      <th>total</th>\n",
       "    </tr>\n",
       "  </thead>\n",
       "  <tbody>\n",
       "    <tr>\n",
       "      <th>1</th>\n",
       "      <td>access</td>\n",
       "      <td>0.0</td>\n",
       "      <td>1.0</td>\n",
       "      <td>0.0</td>\n",
       "      <td>0.0</td>\n",
       "      <td>0.0</td>\n",
       "      <td>7.0</td>\n",
       "      <td>8.0</td>\n",
       "    </tr>\n",
       "    <tr>\n",
       "      <th>2</th>\n",
       "      <td>account</td>\n",
       "      <td>13.0</td>\n",
       "      <td>1.0</td>\n",
       "      <td>6.0</td>\n",
       "      <td>0.0</td>\n",
       "      <td>2.0</td>\n",
       "      <td>20.0</td>\n",
       "      <td>42.0</td>\n",
       "    </tr>\n",
       "    <tr>\n",
       "      <th>9</th>\n",
       "      <td>advanc</td>\n",
       "      <td>0.0</td>\n",
       "      <td>1.0</td>\n",
       "      <td>0.0</td>\n",
       "      <td>0.0</td>\n",
       "      <td>0.0</td>\n",
       "      <td>7.0</td>\n",
       "      <td>8.0</td>\n",
       "    </tr>\n",
       "    <tr>\n",
       "      <th>58</th>\n",
       "      <td>brokerag</td>\n",
       "      <td>2.0</td>\n",
       "      <td>0.0</td>\n",
       "      <td>0.0</td>\n",
       "      <td>0.0</td>\n",
       "      <td>1.0</td>\n",
       "      <td>10.0</td>\n",
       "      <td>13.0</td>\n",
       "    </tr>\n",
       "    <tr>\n",
       "      <th>61</th>\n",
       "      <td>build</td>\n",
       "      <td>1.0</td>\n",
       "      <td>0.0</td>\n",
       "      <td>4.0</td>\n",
       "      <td>1.0</td>\n",
       "      <td>1.0</td>\n",
       "      <td>0.0</td>\n",
       "      <td>7.0</td>\n",
       "    </tr>\n",
       "  </tbody>\n",
       "</table>\n",
       "</div>"
      ],
      "text/plain": [
       "        word  e*trade  etoro  freetrade  robinhood  trading212  webull  total\n",
       "1     access      0.0    1.0        0.0        0.0         0.0     7.0    8.0\n",
       "2    account     13.0    1.0        6.0        0.0         2.0    20.0   42.0\n",
       "9     advanc      0.0    1.0        0.0        0.0         0.0     7.0    8.0\n",
       "58  brokerag      2.0    0.0        0.0        0.0         1.0    10.0   13.0\n",
       "61     build      1.0    0.0        4.0        1.0         1.0     0.0    7.0"
      ]
     },
     "metadata": {},
     "output_type": "display_data"
    }
   ],
   "source": [
    "filtered_freq_df.head()"
   ]
  },
  {
   "cell_type": "code",
   "execution_count": null,
   "metadata": {},
   "outputs": [
    {
     "data": {
      "application/vnd.plotly.v1+json": {
       "config": {
        "plotlyServerURL": "https://plot.ly"
       },
       "data": [
        {
         "alignmentgroup": "True",
         "hovertemplate": "variable=e*trade<br>word=%{x}<br>value=%{y}<extra></extra>",
         "legendgroup": "e*trade",
         "marker": {
          "color": "rgb(95, 70, 144)"
         },
         "name": "e*trade",
         "offsetgroup": "e*trade",
         "orientation": "v",
         "showlegend": true,
         "textposition": "auto",
         "type": "bar",
         "x": [
          "access",
          "account",
          "advanc",
          "brokerag",
          "build",
          "cash",
          "check",
          "claim",
          "commiss",
          "compani",
          "crypto",
          "custom",
          "data",
          "dream",
          "easi",
          "fee",
          "financi",
          "free",
          "fund",
          "help",
          "industri",
          "invest",
          "investor",
          "limit",
          "littl",
          "market",
          "minimum",
          "money",
          "nasdaq",
          "onlin",
          "open",
          "option",
          "platform",
          "portfolio",
          "power",
          "protect",
          "provid",
          "retir",
          "secur",
          "servic",
          "share",
          "start",
          "stock",
          "stop",
          "term",
          "time",
          "today",
          "tool",
          "trade",
          "wait",
          "want"
         ],
         "xaxis": "x",
         "y": [
          0,
          13,
          0,
          2,
          1,
          1,
          2,
          0,
          7,
          1,
          0,
          0,
          0,
          11,
          6,
          1,
          4,
          0,
          0,
          4,
          1,
          23,
          4,
          0,
          2,
          5,
          5,
          6,
          0,
          7,
          8,
          5,
          3,
          0,
          8,
          0,
          0,
          5,
          0,
          1,
          0,
          24,
          3,
          8,
          0,
          3,
          19,
          7,
          37,
          9,
          4
         ],
         "yaxis": "y"
        },
        {
         "alignmentgroup": "True",
         "hovertemplate": "variable=etoro<br>word=%{x}<br>value=%{y}<extra></extra>",
         "legendgroup": "etoro",
         "marker": {
          "color": "rgb(29, 105, 150)"
         },
         "name": "etoro",
         "offsetgroup": "etoro",
         "orientation": "v",
         "showlegend": true,
         "textposition": "auto",
         "type": "bar",
         "x": [
          "access",
          "account",
          "advanc",
          "brokerag",
          "build",
          "cash",
          "check",
          "claim",
          "commiss",
          "compani",
          "crypto",
          "custom",
          "data",
          "dream",
          "easi",
          "fee",
          "financi",
          "free",
          "fund",
          "help",
          "industri",
          "invest",
          "investor",
          "limit",
          "littl",
          "market",
          "minimum",
          "money",
          "nasdaq",
          "onlin",
          "open",
          "option",
          "platform",
          "portfolio",
          "power",
          "protect",
          "provid",
          "retir",
          "secur",
          "servic",
          "share",
          "start",
          "stock",
          "stop",
          "term",
          "time",
          "today",
          "tool",
          "trade",
          "wait",
          "want"
         ],
         "xaxis": "x",
         "y": [
          1,
          1,
          1,
          0,
          0,
          0,
          0,
          0,
          3,
          1,
          0,
          0,
          1,
          0,
          1,
          0,
          0,
          1,
          1,
          0,
          2,
          8,
          0,
          1,
          0,
          2,
          0,
          0,
          0,
          0,
          0,
          0,
          0,
          1,
          1,
          1,
          0,
          0,
          2,
          0,
          4,
          0,
          9,
          0,
          0,
          0,
          0,
          1,
          4,
          0,
          0
         ],
         "yaxis": "y"
        },
        {
         "alignmentgroup": "True",
         "hovertemplate": "variable=freetrade<br>word=%{x}<br>value=%{y}<extra></extra>",
         "legendgroup": "freetrade",
         "marker": {
          "color": "rgb(56, 166, 165)"
         },
         "name": "freetrade",
         "offsetgroup": "freetrade",
         "orientation": "v",
         "showlegend": true,
         "textposition": "auto",
         "type": "bar",
         "x": [
          "access",
          "account",
          "advanc",
          "brokerag",
          "build",
          "cash",
          "check",
          "claim",
          "commiss",
          "compani",
          "crypto",
          "custom",
          "data",
          "dream",
          "easi",
          "fee",
          "financi",
          "free",
          "fund",
          "help",
          "industri",
          "invest",
          "investor",
          "limit",
          "littl",
          "market",
          "minimum",
          "money",
          "nasdaq",
          "onlin",
          "open",
          "option",
          "platform",
          "portfolio",
          "power",
          "protect",
          "provid",
          "retir",
          "secur",
          "servic",
          "share",
          "start",
          "stock",
          "stop",
          "term",
          "time",
          "today",
          "tool",
          "trade",
          "wait",
          "want"
         ],
         "xaxis": "x",
         "y": [
          0,
          6,
          0,
          0,
          4,
          1,
          4,
          0,
          5,
          1,
          0,
          3,
          2,
          0,
          3,
          3,
          1,
          7,
          3,
          1,
          1,
          26,
          1,
          1,
          1,
          2,
          0,
          0,
          0,
          0,
          2,
          0,
          1,
          3,
          0,
          4,
          1,
          1,
          0,
          0,
          5,
          6,
          6,
          1,
          5,
          1,
          3,
          1,
          3,
          0,
          1
         ],
         "yaxis": "y"
        },
        {
         "alignmentgroup": "True",
         "hovertemplate": "variable=robinhood<br>word=%{x}<br>value=%{y}<extra></extra>",
         "legendgroup": "robinhood",
         "marker": {
          "color": "rgb(15, 133, 84)"
         },
         "name": "robinhood",
         "offsetgroup": "robinhood",
         "orientation": "v",
         "showlegend": true,
         "textposition": "auto",
         "type": "bar",
         "x": [
          "access",
          "account",
          "advanc",
          "brokerag",
          "build",
          "cash",
          "check",
          "claim",
          "commiss",
          "compani",
          "crypto",
          "custom",
          "data",
          "dream",
          "easi",
          "fee",
          "financi",
          "free",
          "fund",
          "help",
          "industri",
          "invest",
          "investor",
          "limit",
          "littl",
          "market",
          "minimum",
          "money",
          "nasdaq",
          "onlin",
          "open",
          "option",
          "platform",
          "portfolio",
          "power",
          "protect",
          "provid",
          "retir",
          "secur",
          "servic",
          "share",
          "start",
          "stock",
          "stop",
          "term",
          "time",
          "today",
          "tool",
          "trade",
          "wait",
          "want"
         ],
         "xaxis": "x",
         "y": [
          0,
          0,
          0,
          0,
          1,
          0,
          0,
          0,
          2,
          1,
          1,
          3,
          0,
          0,
          0,
          1,
          1,
          3,
          0,
          0,
          0,
          4,
          1,
          1,
          0,
          1,
          0,
          1,
          0,
          0,
          0,
          0,
          0,
          0,
          0,
          0,
          0,
          0,
          0,
          1,
          0,
          1,
          1,
          0,
          1,
          0,
          0,
          1,
          1,
          0,
          0
         ],
         "yaxis": "y"
        },
        {
         "alignmentgroup": "True",
         "hovertemplate": "variable=trading212<br>word=%{x}<br>value=%{y}<extra></extra>",
         "legendgroup": "trading212",
         "marker": {
          "color": "rgb(115, 175, 72)"
         },
         "name": "trading212",
         "offsetgroup": "trading212",
         "orientation": "v",
         "showlegend": true,
         "textposition": "auto",
         "type": "bar",
         "x": [
          "access",
          "account",
          "advanc",
          "brokerag",
          "build",
          "cash",
          "check",
          "claim",
          "commiss",
          "compani",
          "crypto",
          "custom",
          "data",
          "dream",
          "easi",
          "fee",
          "financi",
          "free",
          "fund",
          "help",
          "industri",
          "invest",
          "investor",
          "limit",
          "littl",
          "market",
          "minimum",
          "money",
          "nasdaq",
          "onlin",
          "open",
          "option",
          "platform",
          "portfolio",
          "power",
          "protect",
          "provid",
          "retir",
          "secur",
          "servic",
          "share",
          "start",
          "stock",
          "stop",
          "term",
          "time",
          "today",
          "tool",
          "trade",
          "wait",
          "want"
         ],
         "xaxis": "x",
         "y": [
          0,
          2,
          0,
          1,
          1,
          0,
          0,
          0,
          2,
          2,
          0,
          1,
          2,
          0,
          1,
          0,
          2,
          3,
          2,
          0,
          2,
          6,
          0,
          0,
          1,
          2,
          0,
          6,
          0,
          0,
          1,
          0,
          0,
          0,
          0,
          4,
          0,
          0,
          0,
          1,
          4,
          1,
          9,
          0,
          0,
          0,
          0,
          0,
          4,
          0,
          2
         ],
         "yaxis": "y"
        },
        {
         "alignmentgroup": "True",
         "hovertemplate": "variable=webull<br>word=%{x}<br>value=%{y}<extra></extra>",
         "legendgroup": "webull",
         "marker": {
          "color": "rgb(237, 173, 8)"
         },
         "name": "webull",
         "offsetgroup": "webull",
         "orientation": "v",
         "showlegend": true,
         "textposition": "auto",
         "type": "bar",
         "x": [
          "access",
          "account",
          "advanc",
          "brokerag",
          "build",
          "cash",
          "check",
          "claim",
          "commiss",
          "compani",
          "crypto",
          "custom",
          "data",
          "dream",
          "easi",
          "fee",
          "financi",
          "free",
          "fund",
          "help",
          "industri",
          "invest",
          "investor",
          "limit",
          "littl",
          "market",
          "minimum",
          "money",
          "nasdaq",
          "onlin",
          "open",
          "option",
          "platform",
          "portfolio",
          "power",
          "protect",
          "provid",
          "retir",
          "secur",
          "servic",
          "share",
          "start",
          "stock",
          "stop",
          "term",
          "time",
          "today",
          "tool",
          "trade",
          "wait",
          "want"
         ],
         "xaxis": "x",
         "y": [
          7,
          20,
          7,
          10,
          0,
          5,
          1,
          9,
          9,
          4,
          7,
          6,
          3,
          0,
          1,
          2,
          12,
          24,
          8,
          2,
          3,
          14,
          7,
          4,
          4,
          10,
          5,
          0,
          7,
          2,
          13,
          5,
          5,
          3,
          1,
          7,
          8,
          1,
          10,
          5,
          4,
          5,
          24,
          0,
          1,
          4,
          8,
          5,
          15,
          1,
          4
         ],
         "yaxis": "y"
        }
       ],
       "layout": {
        "barmode": "relative",
        "font": {
         "size": 10
        },
        "legend": {
         "title": {
          "text": "Company"
         },
         "tracegroupgap": 0
        },
        "margin": {
         "t": 60
        },
        "template": {
         "data": {
          "bar": [
           {
            "error_x": {
             "color": "#2a3f5f"
            },
            "error_y": {
             "color": "#2a3f5f"
            },
            "marker": {
             "line": {
              "color": "#E5ECF6",
              "width": 0.5
             }
            },
            "type": "bar"
           }
          ],
          "barpolar": [
           {
            "marker": {
             "line": {
              "color": "#E5ECF6",
              "width": 0.5
             }
            },
            "type": "barpolar"
           }
          ],
          "carpet": [
           {
            "aaxis": {
             "endlinecolor": "#2a3f5f",
             "gridcolor": "white",
             "linecolor": "white",
             "minorgridcolor": "white",
             "startlinecolor": "#2a3f5f"
            },
            "baxis": {
             "endlinecolor": "#2a3f5f",
             "gridcolor": "white",
             "linecolor": "white",
             "minorgridcolor": "white",
             "startlinecolor": "#2a3f5f"
            },
            "type": "carpet"
           }
          ],
          "choropleth": [
           {
            "colorbar": {
             "outlinewidth": 0,
             "ticks": ""
            },
            "type": "choropleth"
           }
          ],
          "contour": [
           {
            "colorbar": {
             "outlinewidth": 0,
             "ticks": ""
            },
            "colorscale": [
             [
              0,
              "#0d0887"
             ],
             [
              0.1111111111111111,
              "#46039f"
             ],
             [
              0.2222222222222222,
              "#7201a8"
             ],
             [
              0.3333333333333333,
              "#9c179e"
             ],
             [
              0.4444444444444444,
              "#bd3786"
             ],
             [
              0.5555555555555556,
              "#d8576b"
             ],
             [
              0.6666666666666666,
              "#ed7953"
             ],
             [
              0.7777777777777778,
              "#fb9f3a"
             ],
             [
              0.8888888888888888,
              "#fdca26"
             ],
             [
              1,
              "#f0f921"
             ]
            ],
            "type": "contour"
           }
          ],
          "contourcarpet": [
           {
            "colorbar": {
             "outlinewidth": 0,
             "ticks": ""
            },
            "type": "contourcarpet"
           }
          ],
          "heatmap": [
           {
            "colorbar": {
             "outlinewidth": 0,
             "ticks": ""
            },
            "colorscale": [
             [
              0,
              "#0d0887"
             ],
             [
              0.1111111111111111,
              "#46039f"
             ],
             [
              0.2222222222222222,
              "#7201a8"
             ],
             [
              0.3333333333333333,
              "#9c179e"
             ],
             [
              0.4444444444444444,
              "#bd3786"
             ],
             [
              0.5555555555555556,
              "#d8576b"
             ],
             [
              0.6666666666666666,
              "#ed7953"
             ],
             [
              0.7777777777777778,
              "#fb9f3a"
             ],
             [
              0.8888888888888888,
              "#fdca26"
             ],
             [
              1,
              "#f0f921"
             ]
            ],
            "type": "heatmap"
           }
          ],
          "heatmapgl": [
           {
            "colorbar": {
             "outlinewidth": 0,
             "ticks": ""
            },
            "colorscale": [
             [
              0,
              "#0d0887"
             ],
             [
              0.1111111111111111,
              "#46039f"
             ],
             [
              0.2222222222222222,
              "#7201a8"
             ],
             [
              0.3333333333333333,
              "#9c179e"
             ],
             [
              0.4444444444444444,
              "#bd3786"
             ],
             [
              0.5555555555555556,
              "#d8576b"
             ],
             [
              0.6666666666666666,
              "#ed7953"
             ],
             [
              0.7777777777777778,
              "#fb9f3a"
             ],
             [
              0.8888888888888888,
              "#fdca26"
             ],
             [
              1,
              "#f0f921"
             ]
            ],
            "type": "heatmapgl"
           }
          ],
          "histogram": [
           {
            "marker": {
             "colorbar": {
              "outlinewidth": 0,
              "ticks": ""
             }
            },
            "type": "histogram"
           }
          ],
          "histogram2d": [
           {
            "colorbar": {
             "outlinewidth": 0,
             "ticks": ""
            },
            "colorscale": [
             [
              0,
              "#0d0887"
             ],
             [
              0.1111111111111111,
              "#46039f"
             ],
             [
              0.2222222222222222,
              "#7201a8"
             ],
             [
              0.3333333333333333,
              "#9c179e"
             ],
             [
              0.4444444444444444,
              "#bd3786"
             ],
             [
              0.5555555555555556,
              "#d8576b"
             ],
             [
              0.6666666666666666,
              "#ed7953"
             ],
             [
              0.7777777777777778,
              "#fb9f3a"
             ],
             [
              0.8888888888888888,
              "#fdca26"
             ],
             [
              1,
              "#f0f921"
             ]
            ],
            "type": "histogram2d"
           }
          ],
          "histogram2dcontour": [
           {
            "colorbar": {
             "outlinewidth": 0,
             "ticks": ""
            },
            "colorscale": [
             [
              0,
              "#0d0887"
             ],
             [
              0.1111111111111111,
              "#46039f"
             ],
             [
              0.2222222222222222,
              "#7201a8"
             ],
             [
              0.3333333333333333,
              "#9c179e"
             ],
             [
              0.4444444444444444,
              "#bd3786"
             ],
             [
              0.5555555555555556,
              "#d8576b"
             ],
             [
              0.6666666666666666,
              "#ed7953"
             ],
             [
              0.7777777777777778,
              "#fb9f3a"
             ],
             [
              0.8888888888888888,
              "#fdca26"
             ],
             [
              1,
              "#f0f921"
             ]
            ],
            "type": "histogram2dcontour"
           }
          ],
          "mesh3d": [
           {
            "colorbar": {
             "outlinewidth": 0,
             "ticks": ""
            },
            "type": "mesh3d"
           }
          ],
          "parcoords": [
           {
            "line": {
             "colorbar": {
              "outlinewidth": 0,
              "ticks": ""
             }
            },
            "type": "parcoords"
           }
          ],
          "pie": [
           {
            "automargin": true,
            "type": "pie"
           }
          ],
          "scatter": [
           {
            "marker": {
             "colorbar": {
              "outlinewidth": 0,
              "ticks": ""
             }
            },
            "type": "scatter"
           }
          ],
          "scatter3d": [
           {
            "line": {
             "colorbar": {
              "outlinewidth": 0,
              "ticks": ""
             }
            },
            "marker": {
             "colorbar": {
              "outlinewidth": 0,
              "ticks": ""
             }
            },
            "type": "scatter3d"
           }
          ],
          "scattercarpet": [
           {
            "marker": {
             "colorbar": {
              "outlinewidth": 0,
              "ticks": ""
             }
            },
            "type": "scattercarpet"
           }
          ],
          "scattergeo": [
           {
            "marker": {
             "colorbar": {
              "outlinewidth": 0,
              "ticks": ""
             }
            },
            "type": "scattergeo"
           }
          ],
          "scattergl": [
           {
            "marker": {
             "colorbar": {
              "outlinewidth": 0,
              "ticks": ""
             }
            },
            "type": "scattergl"
           }
          ],
          "scattermapbox": [
           {
            "marker": {
             "colorbar": {
              "outlinewidth": 0,
              "ticks": ""
             }
            },
            "type": "scattermapbox"
           }
          ],
          "scatterpolar": [
           {
            "marker": {
             "colorbar": {
              "outlinewidth": 0,
              "ticks": ""
             }
            },
            "type": "scatterpolar"
           }
          ],
          "scatterpolargl": [
           {
            "marker": {
             "colorbar": {
              "outlinewidth": 0,
              "ticks": ""
             }
            },
            "type": "scatterpolargl"
           }
          ],
          "scatterternary": [
           {
            "marker": {
             "colorbar": {
              "outlinewidth": 0,
              "ticks": ""
             }
            },
            "type": "scatterternary"
           }
          ],
          "surface": [
           {
            "colorbar": {
             "outlinewidth": 0,
             "ticks": ""
            },
            "colorscale": [
             [
              0,
              "#0d0887"
             ],
             [
              0.1111111111111111,
              "#46039f"
             ],
             [
              0.2222222222222222,
              "#7201a8"
             ],
             [
              0.3333333333333333,
              "#9c179e"
             ],
             [
              0.4444444444444444,
              "#bd3786"
             ],
             [
              0.5555555555555556,
              "#d8576b"
             ],
             [
              0.6666666666666666,
              "#ed7953"
             ],
             [
              0.7777777777777778,
              "#fb9f3a"
             ],
             [
              0.8888888888888888,
              "#fdca26"
             ],
             [
              1,
              "#f0f921"
             ]
            ],
            "type": "surface"
           }
          ],
          "table": [
           {
            "cells": {
             "fill": {
              "color": "#EBF0F8"
             },
             "line": {
              "color": "white"
             }
            },
            "header": {
             "fill": {
              "color": "#C8D4E3"
             },
             "line": {
              "color": "white"
             }
            },
            "type": "table"
           }
          ]
         },
         "layout": {
          "annotationdefaults": {
           "arrowcolor": "#2a3f5f",
           "arrowhead": 0,
           "arrowwidth": 1
          },
          "autotypenumbers": "strict",
          "coloraxis": {
           "colorbar": {
            "outlinewidth": 0,
            "ticks": ""
           }
          },
          "colorscale": {
           "diverging": [
            [
             0,
             "#8e0152"
            ],
            [
             0.1,
             "#c51b7d"
            ],
            [
             0.2,
             "#de77ae"
            ],
            [
             0.3,
             "#f1b6da"
            ],
            [
             0.4,
             "#fde0ef"
            ],
            [
             0.5,
             "#f7f7f7"
            ],
            [
             0.6,
             "#e6f5d0"
            ],
            [
             0.7,
             "#b8e186"
            ],
            [
             0.8,
             "#7fbc41"
            ],
            [
             0.9,
             "#4d9221"
            ],
            [
             1,
             "#276419"
            ]
           ],
           "sequential": [
            [
             0,
             "#0d0887"
            ],
            [
             0.1111111111111111,
             "#46039f"
            ],
            [
             0.2222222222222222,
             "#7201a8"
            ],
            [
             0.3333333333333333,
             "#9c179e"
            ],
            [
             0.4444444444444444,
             "#bd3786"
            ],
            [
             0.5555555555555556,
             "#d8576b"
            ],
            [
             0.6666666666666666,
             "#ed7953"
            ],
            [
             0.7777777777777778,
             "#fb9f3a"
            ],
            [
             0.8888888888888888,
             "#fdca26"
            ],
            [
             1,
             "#f0f921"
            ]
           ],
           "sequentialminus": [
            [
             0,
             "#0d0887"
            ],
            [
             0.1111111111111111,
             "#46039f"
            ],
            [
             0.2222222222222222,
             "#7201a8"
            ],
            [
             0.3333333333333333,
             "#9c179e"
            ],
            [
             0.4444444444444444,
             "#bd3786"
            ],
            [
             0.5555555555555556,
             "#d8576b"
            ],
            [
             0.6666666666666666,
             "#ed7953"
            ],
            [
             0.7777777777777778,
             "#fb9f3a"
            ],
            [
             0.8888888888888888,
             "#fdca26"
            ],
            [
             1,
             "#f0f921"
            ]
           ]
          },
          "colorway": [
           "#636efa",
           "#EF553B",
           "#00cc96",
           "#ab63fa",
           "#FFA15A",
           "#19d3f3",
           "#FF6692",
           "#B6E880",
           "#FF97FF",
           "#FECB52"
          ],
          "font": {
           "color": "#2a3f5f"
          },
          "geo": {
           "bgcolor": "white",
           "lakecolor": "white",
           "landcolor": "#E5ECF6",
           "showlakes": true,
           "showland": true,
           "subunitcolor": "white"
          },
          "hoverlabel": {
           "align": "left"
          },
          "hovermode": "closest",
          "mapbox": {
           "style": "light"
          },
          "paper_bgcolor": "white",
          "plot_bgcolor": "#E5ECF6",
          "polar": {
           "angularaxis": {
            "gridcolor": "white",
            "linecolor": "white",
            "ticks": ""
           },
           "bgcolor": "#E5ECF6",
           "radialaxis": {
            "gridcolor": "white",
            "linecolor": "white",
            "ticks": ""
           }
          },
          "scene": {
           "xaxis": {
            "backgroundcolor": "#E5ECF6",
            "gridcolor": "white",
            "gridwidth": 2,
            "linecolor": "white",
            "showbackground": true,
            "ticks": "",
            "zerolinecolor": "white"
           },
           "yaxis": {
            "backgroundcolor": "#E5ECF6",
            "gridcolor": "white",
            "gridwidth": 2,
            "linecolor": "white",
            "showbackground": true,
            "ticks": "",
            "zerolinecolor": "white"
           },
           "zaxis": {
            "backgroundcolor": "#E5ECF6",
            "gridcolor": "white",
            "gridwidth": 2,
            "linecolor": "white",
            "showbackground": true,
            "ticks": "",
            "zerolinecolor": "white"
           }
          },
          "shapedefaults": {
           "line": {
            "color": "#2a3f5f"
           }
          },
          "ternary": {
           "aaxis": {
            "gridcolor": "white",
            "linecolor": "white",
            "ticks": ""
           },
           "baxis": {
            "gridcolor": "white",
            "linecolor": "white",
            "ticks": ""
           },
           "bgcolor": "#E5ECF6",
           "caxis": {
            "gridcolor": "white",
            "linecolor": "white",
            "ticks": ""
           }
          },
          "title": {
           "x": 0.05
          },
          "xaxis": {
           "automargin": true,
           "gridcolor": "white",
           "linecolor": "white",
           "ticks": "",
           "title": {
            "standoff": 15
           },
           "zerolinecolor": "white",
           "zerolinewidth": 2
          },
          "yaxis": {
           "automargin": true,
           "gridcolor": "white",
           "linecolor": "white",
           "ticks": "",
           "title": {
            "standoff": 15
           },
           "zerolinecolor": "white",
           "zerolinewidth": 2
          }
         }
        },
        "title": {
         "text": "Stacked Histogram - word frequency, all companies"
        },
        "width": 900,
        "xaxis": {
         "anchor": "y",
         "categoryorder": "total descending",
         "domain": [
          0,
          1
         ],
         "title": {
          "text": ""
         }
        },
        "yaxis": {
         "anchor": "x",
         "domain": [
          0,
          1
         ],
         "title": {
          "text": "Word Frequency"
         }
        }
       }
      }
     },
     "metadata": {},
     "output_type": "display_data"
    }
   ],
   "source": [
    "fig = px.bar(filtered_freq_df, x=\"word\", y=[\"e*trade\",\"etoro\",\"freetrade\",\"robinhood\",\"trading212\",\"webull\"], color_discrete_sequence=px.colors.qualitative.Prism)\n",
    "\n",
    "fig.update_layout(\n",
    "    xaxis={'categoryorder':'total descending'},\n",
    "    title=\"Stacked Histogram - word frequency, all companies\",\n",
    "    xaxis_title=\"\",\n",
    "    yaxis_title=\"Word Frequency\",\n",
    "    legend_title=\"Company\",\n",
    "    font=dict(size=10),\n",
    "    width = 900\n",
    ")\n",
    "#fig.write_html(\"histogram_word_frequency.html\")\n",
    "#fig.write_image('frequency_all_comp.png', scale=2)\n",
    "fig.show()"
   ]
  },
  {
   "cell_type": "markdown",
   "metadata": {},
   "source": [
    "Next, separating the stacked histogram into individual companies"
   ]
  },
  {
   "cell_type": "code",
   "execution_count": null,
   "metadata": {},
   "outputs": [
    {
     "data": {
      "application/vnd.plotly.v1+json": {
       "config": {
        "plotlyServerURL": "https://plot.ly"
       },
       "data": [
        {
         "alignmentgroup": "True",
         "hovertemplate": "variable=e*trade<br>word=%{x}<br>value=%{y}<extra></extra>",
         "legendgroup": "e*trade",
         "marker": {
          "color": "#636efa"
         },
         "name": "e*trade",
         "offsetgroup": "e*trade",
         "orientation": "v",
         "showlegend": true,
         "textposition": "auto",
         "type": "bar",
         "x": [
          "access",
          "account",
          "advanc",
          "brokerag",
          "build",
          "cash",
          "check",
          "claim",
          "commiss",
          "compani",
          "crypto",
          "custom",
          "data",
          "dream",
          "easi",
          "fee",
          "financi",
          "free",
          "fund",
          "help",
          "industri",
          "invest",
          "investor",
          "limit",
          "littl",
          "market",
          "minimum",
          "money",
          "nasdaq",
          "onlin",
          "open",
          "option",
          "platform",
          "portfolio",
          "power",
          "protect",
          "provid",
          "retir",
          "secur",
          "servic",
          "share",
          "start",
          "stock",
          "stop",
          "term",
          "time",
          "today",
          "tool",
          "trade",
          "wait",
          "want"
         ],
         "xaxis": "x",
         "y": [
          0,
          13,
          0,
          2,
          1,
          1,
          2,
          0,
          7,
          1,
          0,
          0,
          0,
          11,
          6,
          1,
          4,
          0,
          0,
          4,
          1,
          23,
          4,
          0,
          2,
          5,
          5,
          6,
          0,
          7,
          8,
          5,
          3,
          0,
          8,
          0,
          0,
          5,
          0,
          1,
          0,
          24,
          3,
          8,
          0,
          3,
          19,
          7,
          37,
          9,
          4
         ],
         "yaxis": "y"
        }
       ],
       "layout": {
        "barmode": "relative",
        "legend": {
         "title": {
          "text": "variable"
         },
         "tracegroupgap": 0
        },
        "template": {
         "data": {
          "bar": [
           {
            "error_x": {
             "color": "#2a3f5f"
            },
            "error_y": {
             "color": "#2a3f5f"
            },
            "marker": {
             "line": {
              "color": "#E5ECF6",
              "width": 0.5
             }
            },
            "type": "bar"
           }
          ],
          "barpolar": [
           {
            "marker": {
             "line": {
              "color": "#E5ECF6",
              "width": 0.5
             }
            },
            "type": "barpolar"
           }
          ],
          "carpet": [
           {
            "aaxis": {
             "endlinecolor": "#2a3f5f",
             "gridcolor": "white",
             "linecolor": "white",
             "minorgridcolor": "white",
             "startlinecolor": "#2a3f5f"
            },
            "baxis": {
             "endlinecolor": "#2a3f5f",
             "gridcolor": "white",
             "linecolor": "white",
             "minorgridcolor": "white",
             "startlinecolor": "#2a3f5f"
            },
            "type": "carpet"
           }
          ],
          "choropleth": [
           {
            "colorbar": {
             "outlinewidth": 0,
             "ticks": ""
            },
            "type": "choropleth"
           }
          ],
          "contour": [
           {
            "colorbar": {
             "outlinewidth": 0,
             "ticks": ""
            },
            "colorscale": [
             [
              0,
              "#0d0887"
             ],
             [
              0.1111111111111111,
              "#46039f"
             ],
             [
              0.2222222222222222,
              "#7201a8"
             ],
             [
              0.3333333333333333,
              "#9c179e"
             ],
             [
              0.4444444444444444,
              "#bd3786"
             ],
             [
              0.5555555555555556,
              "#d8576b"
             ],
             [
              0.6666666666666666,
              "#ed7953"
             ],
             [
              0.7777777777777778,
              "#fb9f3a"
             ],
             [
              0.8888888888888888,
              "#fdca26"
             ],
             [
              1,
              "#f0f921"
             ]
            ],
            "type": "contour"
           }
          ],
          "contourcarpet": [
           {
            "colorbar": {
             "outlinewidth": 0,
             "ticks": ""
            },
            "type": "contourcarpet"
           }
          ],
          "heatmap": [
           {
            "colorbar": {
             "outlinewidth": 0,
             "ticks": ""
            },
            "colorscale": [
             [
              0,
              "#0d0887"
             ],
             [
              0.1111111111111111,
              "#46039f"
             ],
             [
              0.2222222222222222,
              "#7201a8"
             ],
             [
              0.3333333333333333,
              "#9c179e"
             ],
             [
              0.4444444444444444,
              "#bd3786"
             ],
             [
              0.5555555555555556,
              "#d8576b"
             ],
             [
              0.6666666666666666,
              "#ed7953"
             ],
             [
              0.7777777777777778,
              "#fb9f3a"
             ],
             [
              0.8888888888888888,
              "#fdca26"
             ],
             [
              1,
              "#f0f921"
             ]
            ],
            "type": "heatmap"
           }
          ],
          "heatmapgl": [
           {
            "colorbar": {
             "outlinewidth": 0,
             "ticks": ""
            },
            "colorscale": [
             [
              0,
              "#0d0887"
             ],
             [
              0.1111111111111111,
              "#46039f"
             ],
             [
              0.2222222222222222,
              "#7201a8"
             ],
             [
              0.3333333333333333,
              "#9c179e"
             ],
             [
              0.4444444444444444,
              "#bd3786"
             ],
             [
              0.5555555555555556,
              "#d8576b"
             ],
             [
              0.6666666666666666,
              "#ed7953"
             ],
             [
              0.7777777777777778,
              "#fb9f3a"
             ],
             [
              0.8888888888888888,
              "#fdca26"
             ],
             [
              1,
              "#f0f921"
             ]
            ],
            "type": "heatmapgl"
           }
          ],
          "histogram": [
           {
            "marker": {
             "colorbar": {
              "outlinewidth": 0,
              "ticks": ""
             }
            },
            "type": "histogram"
           }
          ],
          "histogram2d": [
           {
            "colorbar": {
             "outlinewidth": 0,
             "ticks": ""
            },
            "colorscale": [
             [
              0,
              "#0d0887"
             ],
             [
              0.1111111111111111,
              "#46039f"
             ],
             [
              0.2222222222222222,
              "#7201a8"
             ],
             [
              0.3333333333333333,
              "#9c179e"
             ],
             [
              0.4444444444444444,
              "#bd3786"
             ],
             [
              0.5555555555555556,
              "#d8576b"
             ],
             [
              0.6666666666666666,
              "#ed7953"
             ],
             [
              0.7777777777777778,
              "#fb9f3a"
             ],
             [
              0.8888888888888888,
              "#fdca26"
             ],
             [
              1,
              "#f0f921"
             ]
            ],
            "type": "histogram2d"
           }
          ],
          "histogram2dcontour": [
           {
            "colorbar": {
             "outlinewidth": 0,
             "ticks": ""
            },
            "colorscale": [
             [
              0,
              "#0d0887"
             ],
             [
              0.1111111111111111,
              "#46039f"
             ],
             [
              0.2222222222222222,
              "#7201a8"
             ],
             [
              0.3333333333333333,
              "#9c179e"
             ],
             [
              0.4444444444444444,
              "#bd3786"
             ],
             [
              0.5555555555555556,
              "#d8576b"
             ],
             [
              0.6666666666666666,
              "#ed7953"
             ],
             [
              0.7777777777777778,
              "#fb9f3a"
             ],
             [
              0.8888888888888888,
              "#fdca26"
             ],
             [
              1,
              "#f0f921"
             ]
            ],
            "type": "histogram2dcontour"
           }
          ],
          "mesh3d": [
           {
            "colorbar": {
             "outlinewidth": 0,
             "ticks": ""
            },
            "type": "mesh3d"
           }
          ],
          "parcoords": [
           {
            "line": {
             "colorbar": {
              "outlinewidth": 0,
              "ticks": ""
             }
            },
            "type": "parcoords"
           }
          ],
          "pie": [
           {
            "automargin": true,
            "type": "pie"
           }
          ],
          "scatter": [
           {
            "marker": {
             "colorbar": {
              "outlinewidth": 0,
              "ticks": ""
             }
            },
            "type": "scatter"
           }
          ],
          "scatter3d": [
           {
            "line": {
             "colorbar": {
              "outlinewidth": 0,
              "ticks": ""
             }
            },
            "marker": {
             "colorbar": {
              "outlinewidth": 0,
              "ticks": ""
             }
            },
            "type": "scatter3d"
           }
          ],
          "scattercarpet": [
           {
            "marker": {
             "colorbar": {
              "outlinewidth": 0,
              "ticks": ""
             }
            },
            "type": "scattercarpet"
           }
          ],
          "scattergeo": [
           {
            "marker": {
             "colorbar": {
              "outlinewidth": 0,
              "ticks": ""
             }
            },
            "type": "scattergeo"
           }
          ],
          "scattergl": [
           {
            "marker": {
             "colorbar": {
              "outlinewidth": 0,
              "ticks": ""
             }
            },
            "type": "scattergl"
           }
          ],
          "scattermapbox": [
           {
            "marker": {
             "colorbar": {
              "outlinewidth": 0,
              "ticks": ""
             }
            },
            "type": "scattermapbox"
           }
          ],
          "scatterpolar": [
           {
            "marker": {
             "colorbar": {
              "outlinewidth": 0,
              "ticks": ""
             }
            },
            "type": "scatterpolar"
           }
          ],
          "scatterpolargl": [
           {
            "marker": {
             "colorbar": {
              "outlinewidth": 0,
              "ticks": ""
             }
            },
            "type": "scatterpolargl"
           }
          ],
          "scatterternary": [
           {
            "marker": {
             "colorbar": {
              "outlinewidth": 0,
              "ticks": ""
             }
            },
            "type": "scatterternary"
           }
          ],
          "surface": [
           {
            "colorbar": {
             "outlinewidth": 0,
             "ticks": ""
            },
            "colorscale": [
             [
              0,
              "#0d0887"
             ],
             [
              0.1111111111111111,
              "#46039f"
             ],
             [
              0.2222222222222222,
              "#7201a8"
             ],
             [
              0.3333333333333333,
              "#9c179e"
             ],
             [
              0.4444444444444444,
              "#bd3786"
             ],
             [
              0.5555555555555556,
              "#d8576b"
             ],
             [
              0.6666666666666666,
              "#ed7953"
             ],
             [
              0.7777777777777778,
              "#fb9f3a"
             ],
             [
              0.8888888888888888,
              "#fdca26"
             ],
             [
              1,
              "#f0f921"
             ]
            ],
            "type": "surface"
           }
          ],
          "table": [
           {
            "cells": {
             "fill": {
              "color": "#EBF0F8"
             },
             "line": {
              "color": "white"
             }
            },
            "header": {
             "fill": {
              "color": "#C8D4E3"
             },
             "line": {
              "color": "white"
             }
            },
            "type": "table"
           }
          ]
         },
         "layout": {
          "annotationdefaults": {
           "arrowcolor": "#2a3f5f",
           "arrowhead": 0,
           "arrowwidth": 1
          },
          "autotypenumbers": "strict",
          "coloraxis": {
           "colorbar": {
            "outlinewidth": 0,
            "ticks": ""
           }
          },
          "colorscale": {
           "diverging": [
            [
             0,
             "#8e0152"
            ],
            [
             0.1,
             "#c51b7d"
            ],
            [
             0.2,
             "#de77ae"
            ],
            [
             0.3,
             "#f1b6da"
            ],
            [
             0.4,
             "#fde0ef"
            ],
            [
             0.5,
             "#f7f7f7"
            ],
            [
             0.6,
             "#e6f5d0"
            ],
            [
             0.7,
             "#b8e186"
            ],
            [
             0.8,
             "#7fbc41"
            ],
            [
             0.9,
             "#4d9221"
            ],
            [
             1,
             "#276419"
            ]
           ],
           "sequential": [
            [
             0,
             "#0d0887"
            ],
            [
             0.1111111111111111,
             "#46039f"
            ],
            [
             0.2222222222222222,
             "#7201a8"
            ],
            [
             0.3333333333333333,
             "#9c179e"
            ],
            [
             0.4444444444444444,
             "#bd3786"
            ],
            [
             0.5555555555555556,
             "#d8576b"
            ],
            [
             0.6666666666666666,
             "#ed7953"
            ],
            [
             0.7777777777777778,
             "#fb9f3a"
            ],
            [
             0.8888888888888888,
             "#fdca26"
            ],
            [
             1,
             "#f0f921"
            ]
           ],
           "sequentialminus": [
            [
             0,
             "#0d0887"
            ],
            [
             0.1111111111111111,
             "#46039f"
            ],
            [
             0.2222222222222222,
             "#7201a8"
            ],
            [
             0.3333333333333333,
             "#9c179e"
            ],
            [
             0.4444444444444444,
             "#bd3786"
            ],
            [
             0.5555555555555556,
             "#d8576b"
            ],
            [
             0.6666666666666666,
             "#ed7953"
            ],
            [
             0.7777777777777778,
             "#fb9f3a"
            ],
            [
             0.8888888888888888,
             "#fdca26"
            ],
            [
             1,
             "#f0f921"
            ]
           ]
          },
          "colorway": [
           "#636efa",
           "#EF553B",
           "#00cc96",
           "#ab63fa",
           "#FFA15A",
           "#19d3f3",
           "#FF6692",
           "#B6E880",
           "#FF97FF",
           "#FECB52"
          ],
          "font": {
           "color": "#2a3f5f"
          },
          "geo": {
           "bgcolor": "white",
           "lakecolor": "white",
           "landcolor": "#E5ECF6",
           "showlakes": true,
           "showland": true,
           "subunitcolor": "white"
          },
          "hoverlabel": {
           "align": "left"
          },
          "hovermode": "closest",
          "mapbox": {
           "style": "light"
          },
          "paper_bgcolor": "white",
          "plot_bgcolor": "#E5ECF6",
          "polar": {
           "angularaxis": {
            "gridcolor": "white",
            "linecolor": "white",
            "ticks": ""
           },
           "bgcolor": "#E5ECF6",
           "radialaxis": {
            "gridcolor": "white",
            "linecolor": "white",
            "ticks": ""
           }
          },
          "scene": {
           "xaxis": {
            "backgroundcolor": "#E5ECF6",
            "gridcolor": "white",
            "gridwidth": 2,
            "linecolor": "white",
            "showbackground": true,
            "ticks": "",
            "zerolinecolor": "white"
           },
           "yaxis": {
            "backgroundcolor": "#E5ECF6",
            "gridcolor": "white",
            "gridwidth": 2,
            "linecolor": "white",
            "showbackground": true,
            "ticks": "",
            "zerolinecolor": "white"
           },
           "zaxis": {
            "backgroundcolor": "#E5ECF6",
            "gridcolor": "white",
            "gridwidth": 2,
            "linecolor": "white",
            "showbackground": true,
            "ticks": "",
            "zerolinecolor": "white"
           }
          },
          "shapedefaults": {
           "line": {
            "color": "#2a3f5f"
           }
          },
          "ternary": {
           "aaxis": {
            "gridcolor": "white",
            "linecolor": "white",
            "ticks": ""
           },
           "baxis": {
            "gridcolor": "white",
            "linecolor": "white",
            "ticks": ""
           },
           "bgcolor": "#E5ECF6",
           "caxis": {
            "gridcolor": "white",
            "linecolor": "white",
            "ticks": ""
           }
          },
          "title": {
           "x": 0.05
          },
          "xaxis": {
           "automargin": true,
           "gridcolor": "white",
           "linecolor": "white",
           "ticks": "",
           "title": {
            "standoff": 15
           },
           "zerolinecolor": "white",
           "zerolinewidth": 2
          },
          "yaxis": {
           "automargin": true,
           "gridcolor": "white",
           "linecolor": "white",
           "ticks": "",
           "title": {
            "standoff": 15
           },
           "zerolinecolor": "white",
           "zerolinewidth": 2
          }
         }
        },
        "title": {
         "text": "Word Frequency"
        },
        "xaxis": {
         "anchor": "y",
         "categoryorder": "total descending",
         "domain": [
          0,
          1
         ],
         "title": {
          "text": "word"
         }
        },
        "yaxis": {
         "anchor": "x",
         "domain": [
          0,
          1
         ],
         "title": {
          "text": "value"
         }
        }
       }
      }
     },
     "metadata": {},
     "output_type": "display_data"
    }
   ],
   "source": [
    "# for example only analysing E*TRADE\n",
    "fig = px.bar(filtered_freq_df, x=\"word\", y=[\"e*trade\"], title=\"Word Frequency\")\n",
    "fig.update_layout(xaxis={'categoryorder':'total descending'})\n",
    "fig.show()"
   ]
  },
  {
   "cell_type": "code",
   "execution_count": null,
   "metadata": {},
   "outputs": [
    {
     "data": {
      "application/vnd.plotly.v1+json": {
       "config": {
        "plotlyServerURL": "https://plot.ly"
       },
       "data": [
        {
         "alignmentgroup": "True",
         "hovertemplate": "variable=e*trade<br>word=%{x}<br>value=%{y}<extra></extra>",
         "legendgroup": "e*trade",
         "marker": {
          "color": "rgb(95, 70, 144)"
         },
         "name": "e*trade",
         "offsetgroup": "e*trade",
         "orientation": "v",
         "showlegend": true,
         "textposition": "auto",
         "type": "bar",
         "x": [
          "access",
          "account",
          "advanc",
          "brokerag",
          "build",
          "cash",
          "check",
          "claim",
          "commiss",
          "compani",
          "crypto",
          "custom",
          "data",
          "dream",
          "easi",
          "fee",
          "financi",
          "free",
          "fund",
          "help",
          "industri",
          "invest",
          "investor",
          "limit",
          "littl",
          "market",
          "minimum",
          "money",
          "nasdaq",
          "onlin",
          "open",
          "option",
          "platform",
          "portfolio",
          "power",
          "protect",
          "provid",
          "retir",
          "secur",
          "servic",
          "share",
          "start",
          "stock",
          "stop",
          "term",
          "time",
          "today",
          "tool",
          "trade",
          "wait",
          "want"
         ],
         "xaxis": "x",
         "y": [
          0,
          13,
          0,
          2,
          1,
          1,
          2,
          0,
          7,
          1,
          0,
          0,
          0,
          11,
          6,
          1,
          4,
          0,
          0,
          4,
          1,
          23,
          4,
          0,
          2,
          5,
          5,
          6,
          0,
          7,
          8,
          5,
          3,
          0,
          8,
          0,
          0,
          5,
          0,
          1,
          0,
          24,
          3,
          8,
          0,
          3,
          19,
          7,
          37,
          9,
          4
         ],
         "yaxis": "y"
        },
        {
         "alignmentgroup": "True",
         "hovertemplate": "variable=etoro<br>word=%{x}<br>value=%{y}<extra></extra>",
         "legendgroup": "etoro",
         "marker": {
          "color": "rgb(29, 105, 150)"
         },
         "name": "etoro",
         "offsetgroup": "etoro",
         "orientation": "v",
         "showlegend": true,
         "textposition": "auto",
         "type": "bar",
         "x": [
          "access",
          "account",
          "advanc",
          "brokerag",
          "build",
          "cash",
          "check",
          "claim",
          "commiss",
          "compani",
          "crypto",
          "custom",
          "data",
          "dream",
          "easi",
          "fee",
          "financi",
          "free",
          "fund",
          "help",
          "industri",
          "invest",
          "investor",
          "limit",
          "littl",
          "market",
          "minimum",
          "money",
          "nasdaq",
          "onlin",
          "open",
          "option",
          "platform",
          "portfolio",
          "power",
          "protect",
          "provid",
          "retir",
          "secur",
          "servic",
          "share",
          "start",
          "stock",
          "stop",
          "term",
          "time",
          "today",
          "tool",
          "trade",
          "wait",
          "want"
         ],
         "xaxis": "x2",
         "y": [
          1,
          1,
          1,
          0,
          0,
          0,
          0,
          0,
          3,
          1,
          0,
          0,
          1,
          0,
          1,
          0,
          0,
          1,
          1,
          0,
          2,
          8,
          0,
          1,
          0,
          2,
          0,
          0,
          0,
          0,
          0,
          0,
          0,
          1,
          1,
          1,
          0,
          0,
          2,
          0,
          4,
          0,
          9,
          0,
          0,
          0,
          0,
          1,
          4,
          0,
          0
         ],
         "yaxis": "y2"
        },
        {
         "alignmentgroup": "True",
         "hovertemplate": "variable=freetrade<br>word=%{x}<br>value=%{y}<extra></extra>",
         "legendgroup": "freetrade",
         "marker": {
          "color": "rgb(56, 166, 165)"
         },
         "name": "freetrade",
         "offsetgroup": "freetrade",
         "orientation": "v",
         "showlegend": true,
         "textposition": "auto",
         "type": "bar",
         "x": [
          "access",
          "account",
          "advanc",
          "brokerag",
          "build",
          "cash",
          "check",
          "claim",
          "commiss",
          "compani",
          "crypto",
          "custom",
          "data",
          "dream",
          "easi",
          "fee",
          "financi",
          "free",
          "fund",
          "help",
          "industri",
          "invest",
          "investor",
          "limit",
          "littl",
          "market",
          "minimum",
          "money",
          "nasdaq",
          "onlin",
          "open",
          "option",
          "platform",
          "portfolio",
          "power",
          "protect",
          "provid",
          "retir",
          "secur",
          "servic",
          "share",
          "start",
          "stock",
          "stop",
          "term",
          "time",
          "today",
          "tool",
          "trade",
          "wait",
          "want"
         ],
         "xaxis": "x3",
         "y": [
          0,
          6,
          0,
          0,
          4,
          1,
          4,
          0,
          5,
          1,
          0,
          3,
          2,
          0,
          3,
          3,
          1,
          7,
          3,
          1,
          1,
          26,
          1,
          1,
          1,
          2,
          0,
          0,
          0,
          0,
          2,
          0,
          1,
          3,
          0,
          4,
          1,
          1,
          0,
          0,
          5,
          6,
          6,
          1,
          5,
          1,
          3,
          1,
          3,
          0,
          1
         ],
         "yaxis": "y3"
        },
        {
         "alignmentgroup": "True",
         "hovertemplate": "variable=robinhood<br>word=%{x}<br>value=%{y}<extra></extra>",
         "legendgroup": "robinhood",
         "marker": {
          "color": "rgb(15, 133, 84)"
         },
         "name": "robinhood",
         "offsetgroup": "robinhood",
         "orientation": "v",
         "showlegend": true,
         "textposition": "auto",
         "type": "bar",
         "x": [
          "access",
          "account",
          "advanc",
          "brokerag",
          "build",
          "cash",
          "check",
          "claim",
          "commiss",
          "compani",
          "crypto",
          "custom",
          "data",
          "dream",
          "easi",
          "fee",
          "financi",
          "free",
          "fund",
          "help",
          "industri",
          "invest",
          "investor",
          "limit",
          "littl",
          "market",
          "minimum",
          "money",
          "nasdaq",
          "onlin",
          "open",
          "option",
          "platform",
          "portfolio",
          "power",
          "protect",
          "provid",
          "retir",
          "secur",
          "servic",
          "share",
          "start",
          "stock",
          "stop",
          "term",
          "time",
          "today",
          "tool",
          "trade",
          "wait",
          "want"
         ],
         "xaxis": "x4",
         "y": [
          0,
          0,
          0,
          0,
          1,
          0,
          0,
          0,
          2,
          1,
          1,
          3,
          0,
          0,
          0,
          1,
          1,
          3,
          0,
          0,
          0,
          4,
          1,
          1,
          0,
          1,
          0,
          1,
          0,
          0,
          0,
          0,
          0,
          0,
          0,
          0,
          0,
          0,
          0,
          1,
          0,
          1,
          1,
          0,
          1,
          0,
          0,
          1,
          1,
          0,
          0
         ],
         "yaxis": "y4"
        },
        {
         "alignmentgroup": "True",
         "hovertemplate": "variable=trading212<br>word=%{x}<br>value=%{y}<extra></extra>",
         "legendgroup": "trading212",
         "marker": {
          "color": "rgb(115, 175, 72)"
         },
         "name": "trading212",
         "offsetgroup": "trading212",
         "orientation": "v",
         "showlegend": true,
         "textposition": "auto",
         "type": "bar",
         "x": [
          "access",
          "account",
          "advanc",
          "brokerag",
          "build",
          "cash",
          "check",
          "claim",
          "commiss",
          "compani",
          "crypto",
          "custom",
          "data",
          "dream",
          "easi",
          "fee",
          "financi",
          "free",
          "fund",
          "help",
          "industri",
          "invest",
          "investor",
          "limit",
          "littl",
          "market",
          "minimum",
          "money",
          "nasdaq",
          "onlin",
          "open",
          "option",
          "platform",
          "portfolio",
          "power",
          "protect",
          "provid",
          "retir",
          "secur",
          "servic",
          "share",
          "start",
          "stock",
          "stop",
          "term",
          "time",
          "today",
          "tool",
          "trade",
          "wait",
          "want"
         ],
         "xaxis": "x5",
         "y": [
          0,
          2,
          0,
          1,
          1,
          0,
          0,
          0,
          2,
          2,
          0,
          1,
          2,
          0,
          1,
          0,
          2,
          3,
          2,
          0,
          2,
          6,
          0,
          0,
          1,
          2,
          0,
          6,
          0,
          0,
          1,
          0,
          0,
          0,
          0,
          4,
          0,
          0,
          0,
          1,
          4,
          1,
          9,
          0,
          0,
          0,
          0,
          0,
          4,
          0,
          2
         ],
         "yaxis": "y5"
        },
        {
         "alignmentgroup": "True",
         "hovertemplate": "variable=webull<br>word=%{x}<br>value=%{y}<extra></extra>",
         "legendgroup": "webull",
         "marker": {
          "color": "rgb(237, 173, 8)"
         },
         "name": "webull",
         "offsetgroup": "webull",
         "orientation": "v",
         "showlegend": true,
         "textposition": "auto",
         "type": "bar",
         "x": [
          "access",
          "account",
          "advanc",
          "brokerag",
          "build",
          "cash",
          "check",
          "claim",
          "commiss",
          "compani",
          "crypto",
          "custom",
          "data",
          "dream",
          "easi",
          "fee",
          "financi",
          "free",
          "fund",
          "help",
          "industri",
          "invest",
          "investor",
          "limit",
          "littl",
          "market",
          "minimum",
          "money",
          "nasdaq",
          "onlin",
          "open",
          "option",
          "platform",
          "portfolio",
          "power",
          "protect",
          "provid",
          "retir",
          "secur",
          "servic",
          "share",
          "start",
          "stock",
          "stop",
          "term",
          "time",
          "today",
          "tool",
          "trade",
          "wait",
          "want"
         ],
         "xaxis": "x6",
         "y": [
          7,
          20,
          7,
          10,
          0,
          5,
          1,
          9,
          9,
          4,
          7,
          6,
          3,
          0,
          1,
          2,
          12,
          24,
          8,
          2,
          3,
          14,
          7,
          4,
          4,
          10,
          5,
          0,
          7,
          2,
          13,
          5,
          5,
          3,
          1,
          7,
          8,
          1,
          10,
          5,
          4,
          5,
          24,
          0,
          1,
          4,
          8,
          5,
          15,
          1,
          4
         ],
         "yaxis": "y6"
        }
       ],
       "layout": {
        "height": 1500,
        "template": {
         "data": {
          "bar": [
           {
            "error_x": {
             "color": "#2a3f5f"
            },
            "error_y": {
             "color": "#2a3f5f"
            },
            "marker": {
             "line": {
              "color": "#E5ECF6",
              "width": 0.5
             }
            },
            "type": "bar"
           }
          ],
          "barpolar": [
           {
            "marker": {
             "line": {
              "color": "#E5ECF6",
              "width": 0.5
             }
            },
            "type": "barpolar"
           }
          ],
          "carpet": [
           {
            "aaxis": {
             "endlinecolor": "#2a3f5f",
             "gridcolor": "white",
             "linecolor": "white",
             "minorgridcolor": "white",
             "startlinecolor": "#2a3f5f"
            },
            "baxis": {
             "endlinecolor": "#2a3f5f",
             "gridcolor": "white",
             "linecolor": "white",
             "minorgridcolor": "white",
             "startlinecolor": "#2a3f5f"
            },
            "type": "carpet"
           }
          ],
          "choropleth": [
           {
            "colorbar": {
             "outlinewidth": 0,
             "ticks": ""
            },
            "type": "choropleth"
           }
          ],
          "contour": [
           {
            "colorbar": {
             "outlinewidth": 0,
             "ticks": ""
            },
            "colorscale": [
             [
              0,
              "#0d0887"
             ],
             [
              0.1111111111111111,
              "#46039f"
             ],
             [
              0.2222222222222222,
              "#7201a8"
             ],
             [
              0.3333333333333333,
              "#9c179e"
             ],
             [
              0.4444444444444444,
              "#bd3786"
             ],
             [
              0.5555555555555556,
              "#d8576b"
             ],
             [
              0.6666666666666666,
              "#ed7953"
             ],
             [
              0.7777777777777778,
              "#fb9f3a"
             ],
             [
              0.8888888888888888,
              "#fdca26"
             ],
             [
              1,
              "#f0f921"
             ]
            ],
            "type": "contour"
           }
          ],
          "contourcarpet": [
           {
            "colorbar": {
             "outlinewidth": 0,
             "ticks": ""
            },
            "type": "contourcarpet"
           }
          ],
          "heatmap": [
           {
            "colorbar": {
             "outlinewidth": 0,
             "ticks": ""
            },
            "colorscale": [
             [
              0,
              "#0d0887"
             ],
             [
              0.1111111111111111,
              "#46039f"
             ],
             [
              0.2222222222222222,
              "#7201a8"
             ],
             [
              0.3333333333333333,
              "#9c179e"
             ],
             [
              0.4444444444444444,
              "#bd3786"
             ],
             [
              0.5555555555555556,
              "#d8576b"
             ],
             [
              0.6666666666666666,
              "#ed7953"
             ],
             [
              0.7777777777777778,
              "#fb9f3a"
             ],
             [
              0.8888888888888888,
              "#fdca26"
             ],
             [
              1,
              "#f0f921"
             ]
            ],
            "type": "heatmap"
           }
          ],
          "heatmapgl": [
           {
            "colorbar": {
             "outlinewidth": 0,
             "ticks": ""
            },
            "colorscale": [
             [
              0,
              "#0d0887"
             ],
             [
              0.1111111111111111,
              "#46039f"
             ],
             [
              0.2222222222222222,
              "#7201a8"
             ],
             [
              0.3333333333333333,
              "#9c179e"
             ],
             [
              0.4444444444444444,
              "#bd3786"
             ],
             [
              0.5555555555555556,
              "#d8576b"
             ],
             [
              0.6666666666666666,
              "#ed7953"
             ],
             [
              0.7777777777777778,
              "#fb9f3a"
             ],
             [
              0.8888888888888888,
              "#fdca26"
             ],
             [
              1,
              "#f0f921"
             ]
            ],
            "type": "heatmapgl"
           }
          ],
          "histogram": [
           {
            "marker": {
             "colorbar": {
              "outlinewidth": 0,
              "ticks": ""
             }
            },
            "type": "histogram"
           }
          ],
          "histogram2d": [
           {
            "colorbar": {
             "outlinewidth": 0,
             "ticks": ""
            },
            "colorscale": [
             [
              0,
              "#0d0887"
             ],
             [
              0.1111111111111111,
              "#46039f"
             ],
             [
              0.2222222222222222,
              "#7201a8"
             ],
             [
              0.3333333333333333,
              "#9c179e"
             ],
             [
              0.4444444444444444,
              "#bd3786"
             ],
             [
              0.5555555555555556,
              "#d8576b"
             ],
             [
              0.6666666666666666,
              "#ed7953"
             ],
             [
              0.7777777777777778,
              "#fb9f3a"
             ],
             [
              0.8888888888888888,
              "#fdca26"
             ],
             [
              1,
              "#f0f921"
             ]
            ],
            "type": "histogram2d"
           }
          ],
          "histogram2dcontour": [
           {
            "colorbar": {
             "outlinewidth": 0,
             "ticks": ""
            },
            "colorscale": [
             [
              0,
              "#0d0887"
             ],
             [
              0.1111111111111111,
              "#46039f"
             ],
             [
              0.2222222222222222,
              "#7201a8"
             ],
             [
              0.3333333333333333,
              "#9c179e"
             ],
             [
              0.4444444444444444,
              "#bd3786"
             ],
             [
              0.5555555555555556,
              "#d8576b"
             ],
             [
              0.6666666666666666,
              "#ed7953"
             ],
             [
              0.7777777777777778,
              "#fb9f3a"
             ],
             [
              0.8888888888888888,
              "#fdca26"
             ],
             [
              1,
              "#f0f921"
             ]
            ],
            "type": "histogram2dcontour"
           }
          ],
          "mesh3d": [
           {
            "colorbar": {
             "outlinewidth": 0,
             "ticks": ""
            },
            "type": "mesh3d"
           }
          ],
          "parcoords": [
           {
            "line": {
             "colorbar": {
              "outlinewidth": 0,
              "ticks": ""
             }
            },
            "type": "parcoords"
           }
          ],
          "pie": [
           {
            "automargin": true,
            "type": "pie"
           }
          ],
          "scatter": [
           {
            "marker": {
             "colorbar": {
              "outlinewidth": 0,
              "ticks": ""
             }
            },
            "type": "scatter"
           }
          ],
          "scatter3d": [
           {
            "line": {
             "colorbar": {
              "outlinewidth": 0,
              "ticks": ""
             }
            },
            "marker": {
             "colorbar": {
              "outlinewidth": 0,
              "ticks": ""
             }
            },
            "type": "scatter3d"
           }
          ],
          "scattercarpet": [
           {
            "marker": {
             "colorbar": {
              "outlinewidth": 0,
              "ticks": ""
             }
            },
            "type": "scattercarpet"
           }
          ],
          "scattergeo": [
           {
            "marker": {
             "colorbar": {
              "outlinewidth": 0,
              "ticks": ""
             }
            },
            "type": "scattergeo"
           }
          ],
          "scattergl": [
           {
            "marker": {
             "colorbar": {
              "outlinewidth": 0,
              "ticks": ""
             }
            },
            "type": "scattergl"
           }
          ],
          "scattermapbox": [
           {
            "marker": {
             "colorbar": {
              "outlinewidth": 0,
              "ticks": ""
             }
            },
            "type": "scattermapbox"
           }
          ],
          "scatterpolar": [
           {
            "marker": {
             "colorbar": {
              "outlinewidth": 0,
              "ticks": ""
             }
            },
            "type": "scatterpolar"
           }
          ],
          "scatterpolargl": [
           {
            "marker": {
             "colorbar": {
              "outlinewidth": 0,
              "ticks": ""
             }
            },
            "type": "scatterpolargl"
           }
          ],
          "scatterternary": [
           {
            "marker": {
             "colorbar": {
              "outlinewidth": 0,
              "ticks": ""
             }
            },
            "type": "scatterternary"
           }
          ],
          "surface": [
           {
            "colorbar": {
             "outlinewidth": 0,
             "ticks": ""
            },
            "colorscale": [
             [
              0,
              "#0d0887"
             ],
             [
              0.1111111111111111,
              "#46039f"
             ],
             [
              0.2222222222222222,
              "#7201a8"
             ],
             [
              0.3333333333333333,
              "#9c179e"
             ],
             [
              0.4444444444444444,
              "#bd3786"
             ],
             [
              0.5555555555555556,
              "#d8576b"
             ],
             [
              0.6666666666666666,
              "#ed7953"
             ],
             [
              0.7777777777777778,
              "#fb9f3a"
             ],
             [
              0.8888888888888888,
              "#fdca26"
             ],
             [
              1,
              "#f0f921"
             ]
            ],
            "type": "surface"
           }
          ],
          "table": [
           {
            "cells": {
             "fill": {
              "color": "#EBF0F8"
             },
             "line": {
              "color": "white"
             }
            },
            "header": {
             "fill": {
              "color": "#C8D4E3"
             },
             "line": {
              "color": "white"
             }
            },
            "type": "table"
           }
          ]
         },
         "layout": {
          "annotationdefaults": {
           "arrowcolor": "#2a3f5f",
           "arrowhead": 0,
           "arrowwidth": 1
          },
          "autotypenumbers": "strict",
          "coloraxis": {
           "colorbar": {
            "outlinewidth": 0,
            "ticks": ""
           }
          },
          "colorscale": {
           "diverging": [
            [
             0,
             "#8e0152"
            ],
            [
             0.1,
             "#c51b7d"
            ],
            [
             0.2,
             "#de77ae"
            ],
            [
             0.3,
             "#f1b6da"
            ],
            [
             0.4,
             "#fde0ef"
            ],
            [
             0.5,
             "#f7f7f7"
            ],
            [
             0.6,
             "#e6f5d0"
            ],
            [
             0.7,
             "#b8e186"
            ],
            [
             0.8,
             "#7fbc41"
            ],
            [
             0.9,
             "#4d9221"
            ],
            [
             1,
             "#276419"
            ]
           ],
           "sequential": [
            [
             0,
             "#0d0887"
            ],
            [
             0.1111111111111111,
             "#46039f"
            ],
            [
             0.2222222222222222,
             "#7201a8"
            ],
            [
             0.3333333333333333,
             "#9c179e"
            ],
            [
             0.4444444444444444,
             "#bd3786"
            ],
            [
             0.5555555555555556,
             "#d8576b"
            ],
            [
             0.6666666666666666,
             "#ed7953"
            ],
            [
             0.7777777777777778,
             "#fb9f3a"
            ],
            [
             0.8888888888888888,
             "#fdca26"
            ],
            [
             1,
             "#f0f921"
            ]
           ],
           "sequentialminus": [
            [
             0,
             "#0d0887"
            ],
            [
             0.1111111111111111,
             "#46039f"
            ],
            [
             0.2222222222222222,
             "#7201a8"
            ],
            [
             0.3333333333333333,
             "#9c179e"
            ],
            [
             0.4444444444444444,
             "#bd3786"
            ],
            [
             0.5555555555555556,
             "#d8576b"
            ],
            [
             0.6666666666666666,
             "#ed7953"
            ],
            [
             0.7777777777777778,
             "#fb9f3a"
            ],
            [
             0.8888888888888888,
             "#fdca26"
            ],
            [
             1,
             "#f0f921"
            ]
           ]
          },
          "colorway": [
           "#636efa",
           "#EF553B",
           "#00cc96",
           "#ab63fa",
           "#FFA15A",
           "#19d3f3",
           "#FF6692",
           "#B6E880",
           "#FF97FF",
           "#FECB52"
          ],
          "font": {
           "color": "#2a3f5f"
          },
          "geo": {
           "bgcolor": "white",
           "lakecolor": "white",
           "landcolor": "#E5ECF6",
           "showlakes": true,
           "showland": true,
           "subunitcolor": "white"
          },
          "hoverlabel": {
           "align": "left"
          },
          "hovermode": "closest",
          "mapbox": {
           "style": "light"
          },
          "paper_bgcolor": "white",
          "plot_bgcolor": "#E5ECF6",
          "polar": {
           "angularaxis": {
            "gridcolor": "white",
            "linecolor": "white",
            "ticks": ""
           },
           "bgcolor": "#E5ECF6",
           "radialaxis": {
            "gridcolor": "white",
            "linecolor": "white",
            "ticks": ""
           }
          },
          "scene": {
           "xaxis": {
            "backgroundcolor": "#E5ECF6",
            "gridcolor": "white",
            "gridwidth": 2,
            "linecolor": "white",
            "showbackground": true,
            "ticks": "",
            "zerolinecolor": "white"
           },
           "yaxis": {
            "backgroundcolor": "#E5ECF6",
            "gridcolor": "white",
            "gridwidth": 2,
            "linecolor": "white",
            "showbackground": true,
            "ticks": "",
            "zerolinecolor": "white"
           },
           "zaxis": {
            "backgroundcolor": "#E5ECF6",
            "gridcolor": "white",
            "gridwidth": 2,
            "linecolor": "white",
            "showbackground": true,
            "ticks": "",
            "zerolinecolor": "white"
           }
          },
          "shapedefaults": {
           "line": {
            "color": "#2a3f5f"
           }
          },
          "ternary": {
           "aaxis": {
            "gridcolor": "white",
            "linecolor": "white",
            "ticks": ""
           },
           "baxis": {
            "gridcolor": "white",
            "linecolor": "white",
            "ticks": ""
           },
           "bgcolor": "#E5ECF6",
           "caxis": {
            "gridcolor": "white",
            "linecolor": "white",
            "ticks": ""
           }
          },
          "title": {
           "x": 0.05
          },
          "xaxis": {
           "automargin": true,
           "gridcolor": "white",
           "linecolor": "white",
           "ticks": "",
           "title": {
            "standoff": 15
           },
           "zerolinecolor": "white",
           "zerolinewidth": 2
          },
          "yaxis": {
           "automargin": true,
           "gridcolor": "white",
           "linecolor": "white",
           "ticks": "",
           "title": {
            "standoff": 15
           },
           "zerolinecolor": "white",
           "zerolinewidth": 2
          }
         }
        },
        "width": 1000,
        "xaxis": {
         "anchor": "y",
         "categoryorder": "total descending",
         "domain": [
          0,
          1
         ]
        },
        "xaxis2": {
         "anchor": "y2",
         "categoryorder": "total descending",
         "domain": [
          0,
          1
         ]
        },
        "xaxis3": {
         "anchor": "y3",
         "categoryorder": "total descending",
         "domain": [
          0,
          1
         ]
        },
        "xaxis4": {
         "anchor": "y4",
         "categoryorder": "total descending",
         "domain": [
          0,
          1
         ]
        },
        "xaxis5": {
         "anchor": "y5",
         "categoryorder": "total descending",
         "domain": [
          0,
          1
         ]
        },
        "xaxis6": {
         "anchor": "y6",
         "categoryorder": "total descending",
         "domain": [
          0,
          1
         ]
        },
        "yaxis": {
         "anchor": "x",
         "domain": [
          0.875,
          1
         ]
        },
        "yaxis2": {
         "anchor": "x2",
         "domain": [
          0.7,
          0.825
         ]
        },
        "yaxis3": {
         "anchor": "x3",
         "domain": [
          0.525,
          0.65
         ]
        },
        "yaxis4": {
         "anchor": "x4",
         "domain": [
          0.35,
          0.475
         ]
        },
        "yaxis5": {
         "anchor": "x5",
         "domain": [
          0.175,
          0.3
         ]
        },
        "yaxis6": {
         "anchor": "x6",
         "domain": [
          0,
          0.125
         ]
        }
       }
      }
     },
     "metadata": {},
     "output_type": "display_data"
    }
   ],
   "source": [
    "# Subplots of each company\n",
    "from plotly.subplots import make_subplots\n",
    "\n",
    "fig = make_subplots(rows=6, cols=1)\n",
    "\n",
    "list_subplots = list(px.bar(filtered_freq_df, x=\"word\", y=[\"e*trade\",\"etoro\",\"freetrade\",\"robinhood\",\"trading212\",\"webull\"], color_discrete_sequence=px.colors.qualitative.Prism,title=\"Word Frequency\").select_traces())\n",
    "\n",
    "i=0\n",
    "row=1\n",
    "col=1\n",
    "for company in [\"e*trade\",\"etoro\",\"freetrade\",\"robinhood\",\"trading212\",\"webull\"]:\n",
    "\n",
    "    fig.add_trace(list_subplots[i], row=row, col=col)\n",
    "    \n",
    "    row+=1\n",
    "    i+=1\n",
    "\n",
    "fig.update_xaxes({'categoryorder':'total descending'})\n",
    "fig.update_layout(\n",
    "    width=1000,\n",
    "    height=1500,\n",
    "    )\n",
    "# fig.write_image('frequency_individual_comp.png', scale=2)\n",
    "fig.show()"
   ]
  },
  {
   "cell_type": "markdown",
   "metadata": {},
   "source": [
    "#### 4.1.2 Aspiration words"
   ]
  },
  {
   "cell_type": "code",
   "execution_count": null,
   "metadata": {},
   "outputs": [],
   "source": [
    "aspiration_words = ['start','dream','power','want','build','today','wait','retir'] # reused from section 3\n",
    "\n",
    "proportion_aspiration = filtered_freq_df[filtered_freq_df['word'].isin(aspiration_words)]['total'].sum() / filtered_freq_df['total'].sum()\n",
    "proportion_aspiration # the percentage of words that are included in the list of aspiration words "
   ]
  },
  {
   "cell_type": "markdown",
   "metadata": {},
   "source": [
    "As seen above, 14.86% of words used in the entire dataset are included in the list of aspiration words we compiled earlier"
   ]
  },
  {
   "cell_type": "markdown",
   "metadata": {},
   "source": [
    "### 4.2 N-grams\n",
    "We now proceed to compute the most frequent word collocations and wordsin the dataset using n-grams."
   ]
  },
  {
   "cell_type": "code",
   "execution_count": null,
   "metadata": {},
   "outputs": [],
   "source": [
    "# the joined_text variable is a full list of individual words used in the full dataset, i.e., ['invest','your','money'...]\n",
    "# note that nltk n-gram functions uses an ordered list of words\n",
    "joined_text = []\n",
    "\n",
    "for text in processed_docs:\n",
    "    for word in text:\n",
    "        joined_text.append(word)\n"
   ]
  },
  {
   "cell_type": "markdown",
   "metadata": {},
   "source": [
    "#### 4.2.1 Bigrams\n",
    "We first use NLTK's BigramCollocationFinder() class to find the top bigrams (two-word collocations) in the text by raw frequency"
   ]
  },
  {
   "cell_type": "code",
   "execution_count": null,
   "metadata": {},
   "outputs": [
    {
     "data": {
      "text/plain": [
       "[(('start', 'invest'), 16),\n",
       " (('free', 'stock'), 15),\n",
       " (('open', 'account'), 12),\n",
       " (('commiss', 'free'), 11),\n",
       " (('account', 'today'), 9),\n",
       " (('brokerag', 'account'), 8),\n",
       " (('stop', 'wait'), 8),\n",
       " (('wait', 'start'), 8),\n",
       " (('open', 'fund'), 7),\n",
       " (('account', 'minimum'), 6)]"
      ]
     },
     "execution_count": 13,
     "metadata": {},
     "output_type": "execute_result"
    }
   ],
   "source": [
    "from nltk.collocations import *\n",
    "bigram_measures = nltk.collocations.BigramAssocMeasures()\n",
    "\n",
    "finder = BigramCollocationFinder.from_words(joined_text)\n",
    "finder.apply_freq_filter(3)\n",
    "\n",
    "sorted(finder.ngram_fd.items(), key=lambda t: (-t[1], t[0]))[:10]\n",
    "# pure word frequency\n"
   ]
  },
  {
   "cell_type": "markdown",
   "metadata": {},
   "source": [
    "As a sanity check, we also use the NLTK freq_dist class, which should yield the same results"
   ]
  },
  {
   "cell_type": "code",
   "execution_count": null,
   "metadata": {},
   "outputs": [
    {
     "data": {
      "text/plain": [
       "[(('start', 'invest'), 16),\n",
       " (('free', 'stock'), 15),\n",
       " (('open', 'account'), 12),\n",
       " (('commiss', 'free'), 11),\n",
       " (('account', 'today'), 9),\n",
       " (('stop', 'wait'), 8),\n",
       " (('wait', 'start'), 8),\n",
       " (('brokerag', 'account'), 8),\n",
       " (('open', 'fund'), 7),\n",
       " (('account', 'minimum'), 6)]"
      ]
     },
     "execution_count": 60,
     "metadata": {},
     "output_type": "execute_result"
    }
   ],
   "source": [
    "from nltk.util import ngrams\n",
    "from nltk.collocations import BigramCollocationFinder\n",
    "\n",
    "word_fd = nltk.FreqDist(joined_text)\n",
    "bigram_fd = nltk.FreqDist(nltk.bigrams(joined_text))\n",
    "\n",
    "bigram_fd.most_common(10)\n",
    "# again this orders by raw frequency only, and we have the same results which validates our previous findings"
   ]
  },
  {
   "cell_type": "markdown",
   "metadata": {},
   "source": [
    "#### 4.2.2 Trigrams\n",
    "Trigrams are the top 3-word collocations - we use a very similar approach:"
   ]
  },
  {
   "cell_type": "code",
   "execution_count": null,
   "metadata": {},
   "outputs": [
    {
     "data": {
      "text/plain": [
       "[(('stop', 'wait', 'start'), 8),\n",
       " (('wait', 'start', 'invest'), 8),\n",
       " (('commiss', 'free', 'invest'), 5),\n",
       " (('invest', 'capit', 'risk'), 5),\n",
       " (('chanc', 'claim', 'free'), 4),\n",
       " (('claim', 'free', 'stock'), 4),\n",
       " (('open', 'account', 'today'), 4),\n",
       " (('open', 'fund', 'account'), 4),\n",
       " (('award', 'win', 'mobil'), 3),\n",
       " (('brokerag', 'account', 'today'), 3)]"
      ]
     },
     "execution_count": 61,
     "metadata": {},
     "output_type": "execute_result"
    }
   ],
   "source": [
    "finder = TrigramCollocationFinder.from_words(joined_text)\n",
    "trigram_measures = nltk.collocations.TrigramAssocMeasures()\n",
    "\n",
    "finder.apply_freq_filter(2)\n",
    "\n",
    "sorted(finder.ngram_fd.items(), key=lambda t: (-t[1], t[0]))[:10]\n",
    "\n"
   ]
  },
  {
   "cell_type": "markdown",
   "metadata": {},
   "source": [
    "## 5. LDA Topic Modelling\n",
    "\n",
    "### 5.1 Text preparation\n"
   ]
  },
  {
   "cell_type": "markdown",
   "metadata": {},
   "source": [
    "The model we use here is Genssim's CoherenceModel"
   ]
  },
  {
   "cell_type": "code",
   "execution_count": null,
   "metadata": {},
   "outputs": [],
   "source": [
    "# function imports\n",
    "from pprint import pprint\n",
    "from gensim.models import CoherenceModel"
   ]
  },
  {
   "cell_type": "code",
   "execution_count": null,
   "metadata": {},
   "outputs": [],
   "source": [
    "# Term Document Frequency corpus\n",
    "corpus = [dictionary.doc2bow(text) for text in processed_docs]"
   ]
  },
  {
   "cell_type": "code",
   "execution_count": null,
   "metadata": {},
   "outputs": [
    {
     "data": {
      "text/plain": [
       "[('account', 13),\n",
       " ('activ', 1),\n",
       " ('actual', 1),\n",
       " ('administr', 1),\n",
       " ('advisor', 1)]"
      ]
     },
     "execution_count": 64,
     "metadata": {},
     "output_type": "execute_result"
    }
   ],
   "source": [
    "# This format is interpretable for humans represents what the Bag of Words model we computed earlier works under the hood\n",
    "# Displayed as (word,frequency)\n",
    "[[(dictionary[id], freq) for id, freq in cp] for cp in corpus[:1]][0][:5]"
   ]
  },
  {
   "cell_type": "markdown",
   "metadata": {},
   "source": [
    "### 5.2 Testing for the number of topics\n",
    "LDA modelling does not tell us how many different themes/topics there are in the corpus of text. Therefore, we perfom initial testing to determine the optimal number of topics. The test statistic we use is C_v coherence."
   ]
  },
  {
   "cell_type": "code",
   "execution_count": null,
   "metadata": {},
   "outputs": [],
   "source": [
    "coherence_list=[]\n",
    "perplexity_list = []\n",
    "for i in range(1,6):\n",
    "    lda_model = gensim.models.ldamodel.LdaModel(corpus=corpus,\n",
    "                                           id2word=dictionary,\n",
    "                                           num_topics=i, \n",
    "                                           random_state=100,\n",
    "                                           update_every=1,\n",
    "                                           chunksize=100,\n",
    "                                           passes=10,\n",
    "                                           alpha='auto',\n",
    "                                           per_word_topics=True)\n",
    "\n",
    "    perplexity_list.append(lda_model.log_perplexity(corpus)) # perplexity here is a negative value because it is a logarithm\n",
    "\n",
    "\n",
    "    coherence_model_lda = CoherenceModel(model=lda_model, texts=processed_docs, dictionary=dictionary, coherence='c_v')\n",
    "    coherence_list.append(coherence_model_lda.get_coherence())\n",
    "\n",
    "\n",
    "\n"
   ]
  },
  {
   "cell_type": "markdown",
   "metadata": {},
   "source": [
    "At 3 topics we have the smallest absolute value for perplexity"
   ]
  },
  {
   "cell_type": "code",
   "execution_count": null,
   "metadata": {},
   "outputs": [
    {
     "data": {
      "text/plain": [
       "[<matplotlib.lines.Line2D at 0x1472754a188>]"
      ]
     },
     "execution_count": 20,
     "metadata": {},
     "output_type": "execute_result"
    },
    {
     "data": {
      "image/png": "[encoded data removed]",
      "text/plain": [
       "<Figure size 432x288 with 1 Axes>"
      ]
     },
     "metadata": {
      "needs_background": "light"
     },
     "output_type": "display_data"
    }
   ],
   "source": [
    "plt.plot([i for i in range(1,6)],perplexity_list)\n"
   ]
  },
  {
   "cell_type": "code",
   "execution_count": null,
   "metadata": {},
   "outputs": [
    {
     "data": {
      "text/plain": [
       "Text(0, 0.5, 'Coherence (C_v)')"
      ]
     },
     "execution_count": 21,
     "metadata": {},
     "output_type": "execute_result"
    },
    {
     "data": {
      "image/png": "[encoded data removed]",
      "text/plain": [
       "<Figure size 432x288 with 1 Axes>"
      ]
     },
     "metadata": {
      "needs_background": "light"
     },
     "output_type": "display_data"
    }
   ],
   "source": [
    "plt.plot([i for i in range(1,6)],coherence_list)\n",
    "plt.xlabel(\"Number of Topics\")\n",
    "plt.ylabel(\"Coherence (C_v)\")"
   ]
  },
  {
   "cell_type": "markdown",
   "metadata": {},
   "source": [
    "From the graph above, modelling coherence with the corresponding number of topics, we can see that the coherence is highest at 3 topics, i.e. the model performs best for that number of topics, and the themes are the most distinguishable from each other."
   ]
  },
  {
   "cell_type": "markdown",
   "metadata": {},
   "source": [
    "### 5.3 Model creation"
   ]
  },
  {
   "cell_type": "markdown",
   "metadata": {},
   "source": [
    "We can now proceed to model the topics, knowing that there are 3 distinct topics in the corpus"
   ]
  },
  {
   "cell_type": "code",
   "execution_count": null,
   "metadata": {},
   "outputs": [
    {
     "name": "stderr",
     "output_type": "stream",
     "text": [
      "C:\\Users\\joyji\\Anaconda3\\envs\\myenv\\lib\\site-packages\\sklearn\\decomposition\\online_lda.py:29: DeprecationWarning: `np.float` is a deprecated alias for the builtin `float`. To silence this warning, use `float` by itself. Doing this will not modify any behavior and is safe. If you specifically wanted the numpy scalar type, use `np.float64` here.\n",
      "Deprecated in NumPy 1.20; for more details and guidance: https://numpy.org/devdocs/release/1.20.0-notes.html#deprecations\n",
      "  EPS = np.finfo(np.float).eps\n"
     ]
    }
   ],
   "source": [
    "# Plotting tools configuration\n",
    "import pyLDAvis\n",
    "import pyLDAvis.gensim_models as gensimvis\n",
    "pyLDAvis.enable_notebook()"
   ]
  },
  {
   "cell_type": "code",
   "execution_count": null,
   "metadata": {},
   "outputs": [
    {
     "name": "stdout",
     "output_type": "stream",
     "text": [
      "[(0,\n",
      "  '0.028*\"free\" + 0.028*\"stock\" + 0.024*\"account\" + 0.018*\"trade\" + '\n",
      "  '0.017*\"invest\" + 0.016*\"open\" + 0.014*\"financi\" + 0.012*\"secur\" + '\n",
      "  '0.012*\"market\" + 0.012*\"brokerag\"'),\n",
      " (1,\n",
      "  '0.053*\"trade\" + 0.035*\"start\" + 0.033*\"invest\" + 0.028*\"today\" + '\n",
      "  '0.019*\"account\" + 0.016*\"dream\" + 0.013*\"wait\" + 0.012*\"open\" + '\n",
      "  '0.012*\"power\" + 0.012*\"stop\"'),\n",
      " (2,\n",
      "  '0.054*\"invest\" + 0.031*\"stock\" + 0.017*\"free\" + 0.016*\"share\" + '\n",
      "  '0.016*\"trade\" + 0.015*\"commiss\" + 0.012*\"account\" + 0.011*\"protect\" + '\n",
      "  '0.010*\"start\" + 0.009*\"market\"')]\n"
     ]
    }
   ],
   "source": [
    "# Build LDA model\n",
    "lda_model = gensim.models.ldamodel.LdaModel(corpus=corpus,\n",
    "                                           id2word=dictionary,\n",
    "                                           num_topics=3, \n",
    "                                           random_state=100,\n",
    "                                           update_every=1,\n",
    "                                           chunksize=100,\n",
    "                                           passes=10,\n",
    "                                           alpha='auto',\n",
    "                                           per_word_topics=True)\n",
    "\n",
    "                                           \n",
    "# Print the Keyword in each topic\n",
    "pprint(lda_model.print_topics())\n",
    "doc_lda = lda_model[corpus]"
   ]
  },
  {
   "cell_type": "markdown",
   "metadata": {},
   "source": [
    "The output above shows the keywords that are most informative in defining each topic"
   ]
  },
  {
   "cell_type": "code",
   "execution_count": null,
   "metadata": {},
   "outputs": [
    {
     "name": "stdout",
     "output_type": "stream",
     "text": [
      "Model characteristics\n",
      "\n",
      "Perplexity:  -5.880288305196637\n",
      "\n",
      "Coherence Score:  0.3346437980466867\n"
     ]
    }
   ],
   "source": [
    "print(\"Model characteristics\")\n",
    "\n",
    "# Compute Perplexity\n",
    "print('\\nPerplexity: ', lda_model.log_perplexity(corpus))  # a measure of how good the model is. lower the better.\n",
    "\n",
    "# Compute Coherence Score\n",
    "coherence_model_lda = CoherenceModel(model=lda_model, texts=processed_docs, dictionary=dictionary, coherence='c_v')\n",
    "coherence_lda = coherence_model_lda.get_coherence()\n",
    "print('\\nCoherence Score: ', coherence_lda)"
   ]
  },
  {
   "cell_type": "code",
   "execution_count": null,
   "metadata": {},
   "outputs": [
    {
     "name": "stderr",
     "output_type": "stream",
     "text": [
      "C:\\Users\\joyji\\Anaconda3\\envs\\myenv\\lib\\site-packages\\pyLDAvis\\_prepare.py:247: FutureWarning: In a future version of pandas all arguments of DataFrame.drop except for the argument 'labels' will be keyword-only\n",
      "  by='saliency', ascending=False).head(R).drop('saliency', 1)\n"
     ]
    },
    {
     "data": {
      "text/html": [
       "\n",
       "<link rel=\"stylesheet\" type=\"text/css\" href=\"https://cdn.jsdelivr.net/gh/bmabey/pyLDAvis@3.3.1/pyLDAvis/js/ldavis.v1.0.0.css\">\n",
       "\n",
       "\n",
       "<div id=\"ldavis_el348014051531916249665231289\"></div>\n",
       "<script type=\"text/javascript\">\n",
       "\n",
       "var ldavis_el348014051531916249665231289_data = {\"mdsDat\": {\"x\": [0.08382636184828689, 0.030141693796212017, -0.11396805564449883], \"y\": [0.06714908324330358, -0.09216388104781285, 0.025014797804509287], \"topics\": [1, 2, 3], \"cluster\": [1, 1, 1], \"Freq\": [36.810927554911125, 35.13019462018037, 28.058877824908507]}, \"tinfo\": {\"Term\": [\"trade\", \"start\", \"free\", \"dream\", \"today\", \"invest\", \"wait\", \"stock\", \"stop\", \"share\", \"claim\", \"power\", \"onlin\", \"secur\", \"money\", \"nasdaq\", \"provid\", \"capit\", \"protect\", \"sipc\", \"need\", \"win\", \"award\", \"earn\", \"advanc\", \"crypto\", \"access\", \"brokerag\", \"choos\", \"option\", \"claim\", \"nasdaq\", \"sipc\", \"totalview\", \"technolog\", \"member\", \"includ\", \"quot\", \"individu\", \"join\", \"prize\", \"extend\", \"verifi\", \"shib\", \"level\", \"subscript\", \"addit\", \"provid\", \"regist\", \"advanc\", \"crypto\", \"access\", \"secur\", \"finra\", \"sbux\", \"name\", \"success\", \"intellig\", \"cboe\", \"step\", \"chanc\", \"hour\", \"brokerag\", \"free\", \"enjoy\", \"financi\", \"cash\", \"open\", \"stock\", \"account\", \"fund\", \"market\", \"investor\", \"servic\", \"trade\", \"protect\", \"commiss\", \"invest\", \"custom\", \"today\", \"start\", \"option\", \"tool\", \"platform\", \"capit\", \"choos\", \"simpl\", \"gold\", \"chang\", \"fscs\", \"intuit\", \"segreg\", \"deal\", \"rememb\", \"grow\", \"build\", \"term\", \"wouldn\", \"fintech\", \"uniqu\", \"second\", \"appli\", \"instant\", \"app\", \"daunt\", \"safe\", \"rich\", \"permiss\", \"believ\", \"peopl\", \"analysi\", \"cool\", \"think\", \"practic\", \"long\", \"risk\", \"share\", \"trust\", \"learn\", \"invest\", \"stock\", \"protect\", \"money\", \"data\", \"commiss\", \"custom\", \"world\", \"price\", \"lead\", \"free\", \"regul\", \"industri\", \"compani\", \"fund\", \"check\", \"trade\", \"market\", \"account\", \"start\", \"easi\", \"fee\", \"portfolio\", \"financi\", \"dream\", \"win\", \"award\", \"earn\", \"wait\", \"edg\", \"stop\", \"trader\", \"lifelong\", \"tomorrow\", \"interact\", \"retail\", \"lifetim\", \"move\", \"settl\", \"good\", \"quarter\", \"season\", \"bonus\", \"packag\", \"dollar\", \"need\", \"power\", \"onlin\", \"contract\", \"support\", \"futur\", \"reach\", \"street\", \"intern\", \"retir\", \"late\", \"mobil\", \"start\", \"today\", \"trade\", \"invest\", \"tool\", \"easi\", \"account\", \"money\", \"minimum\", \"option\", \"help\", \"open\", \"work\", \"commiss\", \"market\", \"want\", \"investor\", \"financi\"], \"Freq\": [48.0, 28.0, 29.0, 8.0, 23.0, 61.0, 8.0, 40.0, 7.0, 13.0, 7.0, 8.0, 7.0, 10.0, 10.0, 6.0, 7.0, 5.0, 12.0, 5.0, 5.0, 3.0, 3.0, 3.0, 6.0, 6.0, 6.0, 10.0, 4.0, 8.0, 7.192750600424753, 5.6495230393593605, 4.881188583298436, 4.112033064679663, 4.1085428561238535, 4.106525449696561, 4.105700692818991, 3.344600638350459, 3.340318613934587, 3.338400030559814, 2.571462335213162, 2.570346496727625, 2.5697026075863643, 2.569193715044885, 2.5687328486597703, 2.568707912001658, 2.566569208743547, 6.427096681180925, 2.565403650871774, 5.654478353544269, 5.6475157923112995, 5.635674266167643, 7.978421575353389, 1.8013864691940535, 1.8011446451823585, 1.8004376447458748, 1.8002955673666294, 1.8002258370819075, 1.8000962280317183, 1.7999533810025312, 4.107082984114359, 4.117107520675551, 7.956142364559814, 18.749277217813486, 3.34110488831507, 9.493564302184662, 4.107623586233438, 10.279683521239368, 18.695377093093455, 15.648351445338058, 6.427982702193858, 7.972242209901136, 5.645010427820943, 4.10743887024742, 11.768047355857671, 5.656756517371822, 7.183600386197378, 11.064683361418806, 4.876031620828793, 6.423345099504901, 4.14357270357227, 4.118940211116826, 4.11330544996335, 4.109250934070256, 4.756351458984883, 4.006571577478174, 3.253580129454701, 2.509120148681596, 2.505635344870844, 2.505559249753486, 2.505287187673665, 2.5047492333884036, 2.5040367597992397, 2.5038043611975787, 2.5021000068508816, 4.778557130683444, 4.7584647878619375, 1.7558670686040407, 1.7551356446864228, 1.7550066649315184, 1.754801443157485, 1.7546467555926624, 1.754521742185574, 1.754403339358179, 1.7541317179836708, 1.7541110048339654, 1.753855983359576, 1.753825574692987, 1.7538321852726801, 1.7538266030053835, 1.7536282856145855, 1.7537118727222625, 1.753660457102426, 1.7535354436953376, 4.0256699829173535, 4.02220016308724, 10.045869380712084, 3.273550250002767, 3.270033127802404, 33.85331803255644, 19.28324429868889, 7.05706647225634, 5.599955444979994, 4.028369449860545, 9.458039006173692, 5.5559712919328295, 2.5200522846730187, 2.517273196969967, 2.514165930710586, 10.902519419182756, 2.5150535112107364, 4.0470941371943985, 4.053928595186617, 4.801571349729377, 3.2978054952097846, 9.822203795530909, 5.627389056903537, 7.302094512970756, 6.537832761079107, 4.086369207071616, 3.2870014575626403, 3.2710461624149554, 3.3896067623120443, 8.11391515201101, 3.1111514143039423, 3.1087895195117197, 3.1021081614864667, 6.685842926720237, 2.3967135566129234, 5.973275811730022, 2.387096784583109, 1.6766052741072723, 1.675629657853058, 1.675424326711161, 1.6749399798804459, 1.67489281238385, 1.6747165795980616, 1.674054474664504, 1.6740317122407737, 1.6738674473272561, 1.6738148825549304, 1.6733855644702438, 1.6722707923678637, 1.6717246115304172, 3.8299927449980475, 5.97414031450345, 5.258670873155539, 3.118881486469925, 3.1061382838075433, 3.105842137634887, 0.9616668777583488, 0.9610727667657795, 0.9609774931159392, 3.827977449173347, 2.3924525247562736, 2.3900331372443193, 17.443431964945816, 13.876135893600255, 26.773641506487344, 16.604821096515174, 5.265844087264697, 4.543195330539413, 9.581997616951462, 4.5276450751691755, 3.829998846266264, 3.820923444458571, 3.106825615138534, 5.991483873400977, 2.3932337217521313, 5.239818423695271, 3.8361259275404755, 3.107988845390402, 3.1159211980641732, 3.118442899150833], \"Total\": [48.0, 28.0, 29.0, 8.0, 23.0, 61.0, 8.0, 40.0, 7.0, 13.0, 7.0, 8.0, 7.0, 10.0, 10.0, 6.0, 7.0, 5.0, 12.0, 5.0, 5.0, 3.0, 3.0, 3.0, 6.0, 6.0, 6.0, 10.0, 4.0, 8.0, 7.746851755989148, 6.1924097109863965, 5.415351343245126, 4.6381835727866685, 4.638221742283762, 4.637991280271945, 4.637996809521157, 3.861131169777816, 3.861070301172726, 3.8610227467675085, 3.0839736506715365, 3.083947987032985, 3.083936152841709, 3.083888787069454, 3.083887881853077, 3.0838816068005097, 3.0837928774638277, 7.723083713546712, 3.083806638440198, 6.945879177307558, 6.945735577707085, 6.945355802280647, 10.031208670151, 2.3068802494969765, 2.3068288037358333, 2.306837141365698, 2.3068173890765515, 2.306830194103239, 2.3068039657931574, 2.3067968799452436, 5.365568133687546, 5.391847193009573, 10.732148648661532, 29.9520765655342, 4.6144335558226395, 16.00161396364754, 6.11912247930433, 18.935101149864025, 40.42150770360764, 32.532443575260274, 11.490567538206527, 17.43575719434515, 10.608854248556952, 6.872412929385634, 48.36389265787592, 12.973944752095216, 21.88145781606634, 61.52282249049042, 10.68950186322114, 23.05029803794284, 28.124837429597193, 8.275782539666537, 11.9904583772366, 7.57396658260327, 5.273877085205649, 4.519932472031055, 3.766762920786179, 3.013090448024436, 3.0130439964345417, 3.013158771848829, 3.0130039253692114, 3.013177032246239, 3.013130195186863, 3.0132100470645464, 3.013220868883577, 6.001358174505685, 6.050852900577613, 2.259557895158068, 2.2595242527360875, 2.259524768218689, 2.2596002142142697, 2.2595663412202, 2.259591474451855, 2.259620374384225, 2.259559438332713, 2.259601947723883, 2.2595834717286487, 2.259555436110803, 2.259589650303269, 2.2596141990828786, 2.259457376323768, 2.2596363595052993, 2.259580771106966, 2.259627518117319, 5.247968508513736, 5.248087651252042, 13.656243015926616, 4.493998490826039, 4.49426752501116, 61.52282249049042, 40.42150770360764, 12.973944752095216, 10.392177635348254, 6.851254248639394, 21.88145781606634, 10.68950186322114, 3.740430696340434, 3.740481856266615, 3.7403950893098195, 29.9520765655342, 3.7901120469844134, 7.57861273084694, 8.355719294616687, 11.490567538206527, 5.998920348389814, 48.36389265787592, 17.43575719434515, 32.532443575260274, 28.124837429597193, 9.661584450172283, 6.048313165724522, 6.097849206016471, 16.00161396364754, 8.754608641958795, 3.662168301056628, 3.6622397083978058, 3.6624739485800104, 8.076410454801024, 2.93464995383691, 7.325554932011296, 2.9350179383369346, 2.207369189092084, 2.20740858314122, 2.2074098949497127, 2.207412598712554, 2.2074301015121485, 2.207431845749025, 2.207473657614254, 2.2074706635072014, 2.2074731420308256, 2.20746463887079, 2.2074786040022616, 2.207520580851104, 2.2075304217276432, 5.142901051487543, 8.102332407608486, 7.398533601032734, 4.438900513164646, 4.439333454137558, 4.43936197197802, 1.4798957066822656, 1.4799078541186863, 1.4799151620259925, 5.920094551584631, 3.688280683003774, 3.7119446832962453, 28.124837429597193, 23.05029803794284, 48.36389265787592, 61.52282249049042, 11.9904583772366, 9.661584450172283, 32.532443575260274, 10.392177635348254, 8.274994459876062, 8.275782539666537, 5.9699468598675125, 18.935101149864025, 4.441752750726788, 21.88145781606634, 17.43575719434515, 9.03121232022055, 10.608854248556952, 16.00161396364754], \"Category\": [\"Default\", \"Default\", \"Default\", \"Default\", \"Default\", \"Default\", \"Default\", \"Default\", \"Default\", \"Default\", \"Default\", \"Default\", \"Default\", \"Default\", \"Default\", \"Default\", \"Default\", \"Default\", \"Default\", \"Default\", \"Default\", \"Default\", \"Default\", \"Default\", \"Default\", \"Default\", \"Default\", \"Default\", \"Default\", \"Default\", \"Topic1\", \"Topic1\", \"Topic1\", \"Topic1\", \"Topic1\", \"Topic1\", \"Topic1\", \"Topic1\", \"Topic1\", \"Topic1\", \"Topic1\", \"Topic1\", \"Topic1\", \"Topic1\", \"Topic1\", \"Topic1\", \"Topic1\", \"Topic1\", \"Topic1\", \"Topic1\", \"Topic1\", \"Topic1\", \"Topic1\", \"Topic1\", \"Topic1\", \"Topic1\", \"Topic1\", \"Topic1\", \"Topic1\", \"Topic1\", \"Topic1\", \"Topic1\", \"Topic1\", \"Topic1\", \"Topic1\", \"Topic1\", \"Topic1\", \"Topic1\", \"Topic1\", \"Topic1\", \"Topic1\", \"Topic1\", \"Topic1\", \"Topic1\", \"Topic1\", \"Topic1\", \"Topic1\", \"Topic1\", \"Topic1\", \"Topic1\", \"Topic1\", \"Topic1\", \"Topic1\", \"Topic1\", \"Topic2\", \"Topic2\", \"Topic2\", \"Topic2\", \"Topic2\", \"Topic2\", \"Topic2\", \"Topic2\", \"Topic2\", \"Topic2\", \"Topic2\", \"Topic2\", \"Topic2\", \"Topic2\", \"Topic2\", \"Topic2\", \"Topic2\", \"Topic2\", \"Topic2\", \"Topic2\", \"Topic2\", \"Topic2\", \"Topic2\", \"Topic2\", \"Topic2\", \"Topic2\", \"Topic2\", \"Topic2\", \"Topic2\", \"Topic2\", \"Topic2\", \"Topic2\", \"Topic2\", \"Topic2\", \"Topic2\", \"Topic2\", \"Topic2\", \"Topic2\", \"Topic2\", \"Topic2\", \"Topic2\", \"Topic2\", \"Topic2\", \"Topic2\", \"Topic2\", \"Topic2\", \"Topic2\", \"Topic2\", \"Topic2\", \"Topic2\", \"Topic2\", \"Topic2\", \"Topic2\", \"Topic2\", \"Topic2\", \"Topic2\", \"Topic2\", \"Topic2\", \"Topic2\", \"Topic3\", \"Topic3\", \"Topic3\", \"Topic3\", \"Topic3\", \"Topic3\", \"Topic3\", \"Topic3\", \"Topic3\", \"Topic3\", \"Topic3\", \"Topic3\", \"Topic3\", \"Topic3\", \"Topic3\", \"Topic3\", \"Topic3\", \"Topic3\", \"Topic3\", \"Topic3\", \"Topic3\", \"Topic3\", \"Topic3\", \"Topic3\", \"Topic3\", \"Topic3\", \"Topic3\", \"Topic3\", \"Topic3\", \"Topic3\", \"Topic3\", \"Topic3\", \"Topic3\", \"Topic3\", \"Topic3\", \"Topic3\", \"Topic3\", \"Topic3\", \"Topic3\", \"Topic3\", \"Topic3\", \"Topic3\", \"Topic3\", \"Topic3\", \"Topic3\", \"Topic3\", \"Topic3\", \"Topic3\", \"Topic3\", \"Topic3\", \"Topic3\"], \"logprob\": [30.0, 29.0, 28.0, 27.0, 26.0, 25.0, 24.0, 23.0, 22.0, 21.0, 20.0, 19.0, 18.0, 17.0, 16.0, 15.0, 14.0, 13.0, 12.0, 11.0, 10.0, 9.0, 8.0, 7.0, 6.0, 5.0, 4.0, 3.0, 2.0, 1.0, -4.5209, -4.7624, -4.9086, -5.08, -5.0809, -5.0814, -5.0816, -5.2866, -5.2879, -5.2885, -5.5495, -5.5499, -5.5502, -5.5503, -5.5505, -5.5505, -5.5514, -4.6334, -5.5518, -4.7615, -4.7627, -4.7648, -4.4172, -5.9054, -5.9055, -5.9059, -5.906, -5.906, -5.9061, -5.9062, -5.0812, -5.0788, -4.42, -3.5628, -5.2876, -4.2433, -5.0811, -4.1638, -3.5657, -3.7436, -4.6333, -4.418, -4.7632, -5.0811, -4.0286, -4.7611, -4.5221, -4.0902, -4.9096, -4.634, -5.0724, -5.0783, -5.0797, -5.0807, -4.8877, -5.0593, -5.2675, -5.5273, -5.5287, -5.5287, -5.5288, -5.529, -5.5293, -5.5294, -5.5301, -4.8831, -4.8873, -5.8842, -5.8847, -5.8847, -5.8849, -5.8849, -5.885, -5.8851, -5.8852, -5.8852, -5.8854, -5.8854, -5.8854, -5.8854, -5.8855, -5.8855, -5.8855, -5.8856, -5.0545, -5.0554, -4.14, -5.2613, -5.2624, -2.9252, -3.488, -4.4932, -4.7244, -5.0538, -4.2003, -4.7323, -5.5229, -5.524, -5.5253, -4.0582, -5.5249, -5.0492, -5.0475, -4.8783, -5.254, -4.1626, -4.7196, -4.459, -4.5696, -5.0396, -5.2572, -5.2621, -5.2265, -4.1289, -5.0875, -5.0882, -5.0904, -4.3225, -5.3484, -4.4352, -5.3524, -5.7057, -5.7063, -5.7064, -5.7067, -5.7067, -5.7068, -5.7072, -5.7072, -5.7073, -5.7073, -5.7076, -5.7083, -5.7086, -4.8796, -4.435, -4.5626, -5.085, -5.0891, -5.0892, -6.2615, -6.2622, -6.2623, -4.8801, -5.3501, -5.3511, -3.3635, -3.5923, -2.935, -3.4128, -4.5612, -4.7088, -3.9626, -4.7123, -4.8796, -4.882, -5.0889, -4.4321, -5.3498, -4.5662, -4.878, -5.0885, -5.0859, -5.0851], \"loglift\": [30.0, 29.0, 28.0, 27.0, 26.0, 25.0, 24.0, 23.0, 22.0, 21.0, 20.0, 19.0, 18.0, 17.0, 16.0, 15.0, 14.0, 13.0, 12.0, 11.0, 10.0, 9.0, 8.0, 7.0, 6.0, 5.0, 4.0, 3.0, 2.0, 1.0, 0.9252, 0.9076, 0.8955, 0.879, 0.8781, 0.8777, 0.8775, 0.8558, 0.8545, 0.8539, 0.8176, 0.8172, 0.817, 0.8168, 0.8166, 0.8166, 0.8158, 0.8157, 0.8153, 0.7937, 0.7925, 0.7904, 0.7704, 0.752, 0.7519, 0.7515, 0.7515, 0.7514, 0.7514, 0.7513, 0.7321, 0.7296, 0.7001, 0.5309, 0.6765, 0.4773, 0.6008, 0.3885, 0.2283, 0.2675, 0.4185, 0.2168, 0.3685, 0.4847, -0.414, 0.1693, -0.1145, -0.7163, 0.2144, -0.2784, -0.9157, 0.3016, -0.0705, 0.3879, 0.9428, 0.9255, 0.8996, 0.8631, 0.8617, 0.8616, 0.8616, 0.8613, 0.861, 0.8609, 0.8602, 0.8183, 0.8058, 0.7939, 0.7935, 0.7934, 0.7933, 0.7932, 0.7931, 0.793, 0.7929, 0.7929, 0.7927, 0.7927, 0.7927, 0.7927, 0.7927, 0.7926, 0.7926, 0.7925, 0.781, 0.7801, 0.7391, 0.7292, 0.7281, 0.4487, 0.306, 0.4372, 0.4278, 0.515, 0.2073, 0.3917, 0.6512, 0.6501, 0.6489, 0.0355, 0.636, 0.4188, 0.3228, 0.1735, 0.4478, -0.548, -0.0848, -0.448, -0.4129, 0.1856, 0.4363, 0.4233, -0.5059, 1.1949, 1.1078, 1.107, 1.1048, 1.0819, 1.0684, 1.0668, 1.0642, 0.9958, 0.9952, 0.9951, 0.9948, 0.9948, 0.9947, 0.9943, 0.9943, 0.9942, 0.9941, 0.9939, 0.9932, 0.9928, 0.9761, 0.9662, 0.9295, 0.9179, 0.9137, 0.9136, 0.8398, 0.8392, 0.8391, 0.8348, 0.838, 0.8306, 0.7932, 0.7634, 0.6795, -0.0389, 0.448, 0.5163, 0.0485, 0.44, 0.5005, 0.498, 0.6177, 0.1202, 0.6525, -0.1585, -0.2432, 0.2042, 0.0457, -0.3645]}, \"token.table\": {\"Topic\": [1, 2, 1, 2, 3, 1, 1, 2, 2, 2, 2, 3, 2, 3, 1, 2, 3, 2, 3, 2, 1, 2, 3, 1, 1, 3, 2, 1, 2, 3, 2, 1, 1, 2, 3, 1, 2, 3, 1, 3, 2, 1, 2, 1, 2, 1, 2, 2, 2, 3, 3, 3, 1, 2, 3, 3, 1, 2, 1, 1, 2, 3, 1, 2, 3, 1, 2, 1, 2, 2, 1, 2, 1, 3, 2, 3, 2, 1, 2, 3, 1, 2, 1, 1, 1, 2, 3, 2, 1, 3, 3, 2, 1, 2, 3, 1, 2, 3, 1, 2, 3, 2, 3, 2, 3, 1, 3, 3, 2, 3, 1, 2, 3, 1, 1, 3, 1, 3, 2, 3, 3, 1, 1, 2, 3, 1, 3, 1, 2, 3, 1, 3, 3, 2, 2, 1, 2, 3, 1, 2, 1, 2, 3, 2, 2, 3, 1, 1, 2, 1, 2, 3, 1, 3, 1, 1, 2, 2, 3, 1, 2, 3, 2, 2, 3, 2, 1, 3, 2, 1, 2, 2, 1, 2, 3, 3, 1, 2, 1, 2, 1, 1, 2, 3, 1, 1, 2, 3, 2, 3, 3, 1, 1, 1, 3, 1, 1, 2, 2, 1, 2, 3, 3, 1, 2, 3, 1, 1, 2, 3, 3, 2, 3, 2, 1, 1, 3, 1, 2, 3, 3, 2, 3, 2, 3, 2], \"Freq\": [0.8638866273819664, 0.14398110456366106, 0.4918167294438162, 0.2151698191316696, 0.30738545590238514, 0.9728279813874073, 0.8638215331476281, 0.14397025552460468, 0.8851682802063228, 0.8851044284573798, 0.8851255940199435, 0.8191708459500241, 0.8851164633948343, 0.9060110464372823, 0.745423890582966, 0.09317798632287075, 0.1863559726457415, 0.8331447406756114, 0.1666289481351223, 0.9480691186425385, 0.6536885008477149, 0.16342212521192873, 0.16342212521192873, 0.8670004168786541, 0.7454942142820122, 0.18637355357050306, 0.9956708244386816, 0.16669666238665973, 0.5000899871599792, 0.33339332477331945, 0.8849689734861413, 0.9035928684950307, 0.3199055592566729, 0.41130714761572235, 0.22850397089762353, 0.35903551737703787, 0.4787140231693838, 0.11967850579234594, 0.22528101205112736, 0.675843036153382, 0.8850981670510288, 0.8638393922247052, 0.14397323203745088, 0.4677486438543279, 0.5612983726251934, 0.43787602840688283, 0.5838347045425104, 0.8851282980525454, 0.9956423405773049, 0.9059897794906822, 0.9138044117309674, 0.8191184543887717, 0.10350269204366042, 0.41401076817464166, 0.5175134602183021, 0.6815122864602978, 0.6501339684942488, 0.21671132283141625, 0.9727790522453817, 0.33067070854298625, 0.49600606281447934, 0.16533535427149312, 0.5624432648135492, 0.18748108827118307, 0.18748108827118307, 0.8669717469886472, 0.8851420813820315, 0.6343466690340684, 0.36725333470393434, 0.9956328979502281, 0.5221674194986275, 0.43513951624885633, 0.2252575947427049, 0.6757727842281147, 0.9956554745865599, 0.9060143054505764, 0.995612379756126, 0.3350113572107047, 0.16750567860535234, 0.502517035816057, 0.7418607866309571, 0.18546519665773928, 0.8624413004744982, 0.7769866296111748, 0.3958508115593786, 0.5278010820791715, 0.13195027051979288, 0.8851157488479955, 0.8669905592151672, 0.906039247434633, 0.6757144096226487, 0.9956840662371133, 0.1787954380945424, 0.5526404450194946, 0.2763202225097473, 0.5655653154831624, 0.18852177182772079, 0.2827826577415812, 0.7769961993908566, 0.27112903977405256, 0.5422580795481051, 0.802054309335959, 0.26735143644531967, 0.6675170054529744, 0.2225056684843248, 0.9727980117738037, 0.9060559556068746, 0.9060309536550882, 0.7621996956557252, 0.1905499239139313, 0.45882721988091224, 0.3441204149106842, 0.22941360994045612, 0.862442328646522, 0.4833840094268667, 0.4833840094268667, 0.2694005663661964, 0.5388011327323928, 0.5773573365019692, 0.48113111375164097, 0.9060302377405272, 0.8669879481895095, 0.9689281362237663, 0.1944427843329317, 0.7777711373317268, 0.2703238381888037, 0.6758095954720093, 0.5281197032354809, 0.15843591097064424, 0.3168718219412885, 0.48333797810994383, 0.48333797810994383, 0.9059938182904302, 0.8851068473599388, 0.8851298658299106, 0.5281248545758896, 0.1320312136439724, 0.2640624272879448, 0.49197674436423194, 0.49197674436423194, 0.12342125078217614, 0.12342125078217614, 0.7405275046930568, 0.8851016302307931, 0.8020357042967475, 0.26734523476558253, 0.9727709571535246, 0.46246535765700986, 0.5395429172665115, 0.7768917472014023, 0.1294819578669004, 0.9060132881888859, 0.7769743808451426, 0.6757232928541096, 0.9728236403036645, 0.26384444248703565, 0.7915333274611069, 0.9956159554567344, 0.9060381376669115, 0.1689162210648021, 0.1689162210648021, 0.6756648842592085, 0.8851188836453739, 0.7621823921034772, 0.1905455980258693, 0.8851116463298404, 0.8669910817660443, 0.9060167781546359, 0.8851123253656884, 0.797511073994992, 0.199377768498748, 0.9956268642349183, 0.582037203104672, 0.291018601552336, 0.145509300776168, 0.9060130765780087, 0.2196797462157963, 0.7322658207193211, 0.9727977262276142, 0.7964398246157356, 0.923301127310379, 0.1422230443113814, 0.24889032754491747, 0.604447938323371, 0.867003080066362, 0.47004679140912503, 0.47004679140912503, 0.04947860962201316, 0.13650842963857773, 0.8190505778314663, 0.6757177463562549, 0.972799991213821, 0.8669953718359239, 0.2252590417752867, 0.6757771253258601, 0.862399475974705, 0.16526595778002473, 0.8263297889001237, 0.885119941528004, 0.2603003219361184, 0.1301501609680592, 0.607367417850943, 0.9060397858714175, 0.33359858932447806, 0.25019894199335857, 0.4169982366555976, 0.8624065730103819, 0.24811898589072387, 0.20676582157560322, 0.5582677182541287, 0.6814268403188218, 0.6675569665019118, 0.2225189888339706, 0.8851418794478243, 0.9727827851544962, 0.12381738218933012, 0.8667216753253109, 0.3321813167079586, 0.3321813167079586, 0.3321813167079586, 0.8191868186763629, 0.45027269914399154, 0.45027269914399154, 0.8020466741798324, 0.2673488913932775, 0.8851289025546696], \"Term\": [\"access\", \"access\", \"account\", \"account\", \"account\", \"addit\", \"advanc\", \"advanc\", \"analysi\", \"app\", \"appli\", \"award\", \"believ\", \"bonus\", \"brokerag\", \"brokerag\", \"brokerag\", \"build\", \"build\", \"capit\", \"cash\", \"cash\", \"cash\", \"cboe\", \"chanc\", \"chanc\", \"chang\", \"check\", \"check\", \"check\", \"choos\", \"claim\", \"commiss\", \"commiss\", \"commiss\", \"compani\", \"compani\", \"compani\", \"contract\", \"contract\", \"cool\", \"crypto\", \"crypto\", \"custom\", \"custom\", \"data\", \"data\", \"daunt\", \"deal\", \"dollar\", \"dream\", \"earn\", \"easi\", \"easi\", \"easi\", \"edg\", \"enjoy\", \"enjoy\", \"extend\", \"fee\", \"fee\", \"fee\", \"financi\", \"financi\", \"financi\", \"finra\", \"fintech\", \"free\", \"free\", \"fscs\", \"fund\", \"fund\", \"futur\", \"futur\", \"gold\", \"good\", \"grow\", \"help\", \"help\", \"help\", \"hour\", \"hour\", \"includ\", \"individu\", \"industri\", \"industri\", \"industri\", \"instant\", \"intellig\", \"interact\", \"intern\", \"intuit\", \"invest\", \"invest\", \"invest\", \"investor\", \"investor\", \"investor\", \"join\", \"late\", \"late\", \"lead\", \"lead\", \"learn\", \"learn\", \"level\", \"lifelong\", \"lifetim\", \"long\", \"long\", \"market\", \"market\", \"market\", \"member\", \"minimum\", \"minimum\", \"mobil\", \"mobil\", \"money\", \"money\", \"move\", \"name\", \"nasdaq\", \"need\", \"need\", \"onlin\", \"onlin\", \"open\", \"open\", \"open\", \"option\", \"option\", \"packag\", \"peopl\", \"permiss\", \"platform\", \"platform\", \"platform\", \"portfolio\", \"portfolio\", \"power\", \"power\", \"power\", \"practic\", \"price\", \"price\", \"prize\", \"protect\", \"protect\", \"provid\", \"provid\", \"quarter\", \"quot\", \"reach\", \"regist\", \"regul\", \"regul\", \"rememb\", \"retail\", \"retir\", \"retir\", \"retir\", \"rich\", \"risk\", \"risk\", \"safe\", \"sbux\", \"season\", \"second\", \"secur\", \"secur\", \"segreg\", \"servic\", \"servic\", \"servic\", \"settl\", \"share\", \"share\", \"shib\", \"simpl\", \"sipc\", \"start\", \"start\", \"start\", \"step\", \"stock\", \"stock\", \"stock\", \"stop\", \"stop\", \"street\", \"subscript\", \"success\", \"support\", \"support\", \"technolog\", \"term\", \"term\", \"think\", \"today\", \"today\", \"today\", \"tomorrow\", \"tool\", \"tool\", \"tool\", \"totalview\", \"trade\", \"trade\", \"trade\", \"trader\", \"trust\", \"trust\", \"uniqu\", \"verifi\", \"wait\", \"wait\", \"want\", \"want\", \"want\", \"win\", \"work\", \"work\", \"world\", \"world\", \"wouldn\"]}, \"R\": 30, \"lambda.step\": 0.01, \"plot.opts\": {\"xlab\": \"PC1\", \"ylab\": \"PC2\"}, \"topic.order\": [1, 3, 2]};\n",
       "\n",
       "function LDAvis_load_lib(url, callback){\n",
       "  var s = document.createElement('script');\n",
       "  s.src = url;\n",
       "  s.async = true;\n",
       "  s.onreadystatechange = s.onload = callback;\n",
       "  s.onerror = function(){console.warn(\"failed to load library \" + url);};\n",
       "  document.getElementsByTagName(\"head\")[0].appendChild(s);\n",
       "}\n",
       "\n",
       "if(typeof(LDAvis) !== \"undefined\"){\n",
       "   // already loaded: just create the visualization\n",
       "   !function(LDAvis){\n",
       "       new LDAvis(\"#\" + \"ldavis_el348014051531916249665231289\", ldavis_el348014051531916249665231289_data);\n",
       "   }(LDAvis);\n",
       "}else if(typeof define === \"function\" && define.amd){\n",
       "   // require.js is available: use it to load d3/LDAvis\n",
       "   require.config({paths: {d3: \"https://d3js.org/d3.v5\"}});\n",
       "   require([\"d3\"], function(d3){\n",
       "      window.d3 = d3;\n",
       "      LDAvis_load_lib(\"https://cdn.jsdelivr.net/gh/bmabey/pyLDAvis@3.3.1/pyLDAvis/js/ldavis.v3.0.0.js\", function(){\n",
       "        new LDAvis(\"#\" + \"ldavis_el348014051531916249665231289\", ldavis_el348014051531916249665231289_data);\n",
       "      });\n",
       "    });\n",
       "}else{\n",
       "    // require.js not available: dynamically load d3 & LDAvis\n",
       "    LDAvis_load_lib(\"https://d3js.org/d3.v5.js\", function(){\n",
       "         LDAvis_load_lib(\"https://cdn.jsdelivr.net/gh/bmabey/pyLDAvis@3.3.1/pyLDAvis/js/ldavis.v3.0.0.js\", function(){\n",
       "                 new LDAvis(\"#\" + \"ldavis_el348014051531916249665231289\", ldavis_el348014051531916249665231289_data);\n",
       "            })\n",
       "         });\n",
       "}\n",
       "</script>"
      ],
      "text/plain": [
       "PreparedData(topic_coordinates=              x         y  topics  cluster       Freq\n",
       "topic                                                \n",
       "0      0.083826  0.067149       1        1  36.810928\n",
       "2      0.030142 -0.092164       2        1  35.130195\n",
       "1     -0.113968  0.025015       3        1  28.058878, topic_info=         Term       Freq      Total Category  logprob  loglift\n",
       "204     trade  48.000000  48.000000  Default  30.0000  30.0000\n",
       "188     start  28.000000  28.000000  Default  29.0000  29.0000\n",
       "257      free  29.000000  29.000000  Default  28.0000  28.0000\n",
       "45      dream   8.000000   8.000000  Default  27.0000  27.0000\n",
       "201     today  23.000000  23.000000  Default  26.0000  26.0000\n",
       "..        ...        ...        ...      ...      ...      ...\n",
       "29    commiss   5.239818  21.881458   Topic3  -4.5662  -0.1585\n",
       "125    market   3.836126  17.435757   Topic3  -4.8780  -0.2432\n",
       "214      want   3.107989   9.031212   Topic3  -5.0885   0.2042\n",
       "101  investor   3.115921  10.608854   Topic3  -5.0859   0.0457\n",
       "63    financi   3.118443  16.001614   Topic3  -5.0851  -0.3645\n",
       "\n",
       "[194 rows x 6 columns], token_table=      Topic      Freq     Term\n",
       "term                          \n",
       "224       1  0.863887   access\n",
       "224       2  0.143981   access\n",
       "0         1  0.491817  account\n",
       "0         2  0.215170  account\n",
       "0         3  0.307385  account\n",
       "...     ...       ...      ...\n",
       "221       2  0.450273     work\n",
       "221       3  0.450273     work\n",
       "222       2  0.802047    world\n",
       "222       3  0.267349    world\n",
       "441       2  0.885129   wouldn\n",
       "\n",
       "[226 rows x 3 columns], R=30, lambda_step=0.01, plot_opts={'xlab': 'PC1', 'ylab': 'PC2'}, topic_order=[1, 3, 2])"
      ]
     },
     "execution_count": 25,
     "metadata": {},
     "output_type": "execute_result"
    }
   ],
   "source": [
    "vis = pyLDAvis.gensim_models.prepare(lda_model, corpus, dictionary)\n",
    "vis"
   ]
  },
  {
   "cell_type": "code",
   "execution_count": null,
   "metadata": {},
   "outputs": [],
   "source": [
    "# pyLDAvis.save_html(vis, 'lda.html') # saving the model locally"
   ]
  },
  {
   "cell_type": "markdown",
   "metadata": {},
   "source": [
    "Using the visual interface displayed above, we can fine tune the hyperparameter lambda to find the value at which the topics are the most distinct and the keyowrds are the most informative of each topic. At lambda = 0.3, the three main themes seem to be:\n",
    "* Aspiration words: dream, start, power, wait, today, stop\n",
    "* Wealth in the long term: invest, share; capital, build, protect, long, simple, term, choose\n",
    "* Financial products and services: free, claim, secure, brokerage, nasdaq, crypto"
   ]
  }
 ],
 "metadata": {
  "interpreter": {
   "hash": "c17ad437294bcfd1a57e0041192807ddac90408c0015c2ddb2c40fce1be5ca58"
  },
  "kernelspec": {
   "display_name": "Python 3.8.5 64-bit ('aisoc_env': conda)",
   "language": "python",
   "name": "python3"
  },
  "language_info": {
   "codemirror_mode": {
    "name": "ipython",
    "version": 3
   },
   "file_extension": ".py",
   "mimetype": "text/x-python",
   "name": "python",
   "nbconvert_exporter": "python",
   "pygments_lexer": "ipython3",
   "version": "3.7.4"
  },
  "orig_nbformat": 4
 },
 "nbformat": 4,
 "nbformat_minor": 2
}
